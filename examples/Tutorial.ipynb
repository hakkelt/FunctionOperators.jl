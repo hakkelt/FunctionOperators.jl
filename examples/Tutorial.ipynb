{
 "cells": [
  {
   "cell_type": "code",
   "execution_count": 1,
   "metadata": {},
   "outputs": [],
   "source": [
    "using FunctionOperators\n",
    "using BenchmarkTools"
   ]
  },
  {
   "cell_type": "markdown",
   "metadata": {},
   "source": [
    "## Generate some 3D data"
   ]
  },
  {
   "cell_type": "code",
   "execution_count": 2,
   "metadata": {},
   "outputs": [
    {
     "data": {
      "text/plain": [
       "(300, 300, 50)"
      ]
     },
     "execution_count": 2,
     "metadata": {},
     "output_type": "execute_result"
    }
   ],
   "source": [
    "data = [sin(i+j+k)^2 for i=1:300, j=1:300, k=1:50];\n",
    "size(data)"
   ]
  },
  {
   "cell_type": "markdown",
   "metadata": {},
   "source": [
    "## Define some operators"
   ]
  },
  {
   "cell_type": "code",
   "execution_count": 3,
   "metadata": {},
   "outputs": [
    {
     "name": "stdout",
     "output_type": "stream",
     "text": [
      "search: \u001b[0m\u001b[1mF\u001b[22m\u001b[0m\u001b[1mu\u001b[22m\u001b[0m\u001b[1mn\u001b[22m\u001b[0m\u001b[1mc\u001b[22m\u001b[0m\u001b[1mt\u001b[22m\u001b[0m\u001b[1mi\u001b[22m\u001b[0m\u001b[1mo\u001b[22m\u001b[0m\u001b[1mn\u001b[22m\u001b[0m\u001b[1mO\u001b[22m\u001b[0m\u001b[1mp\u001b[22m\u001b[0m\u001b[1me\u001b[22m\u001b[0m\u001b[1mr\u001b[22m\u001b[0m\u001b[1ma\u001b[22m\u001b[0m\u001b[1mt\u001b[22m\u001b[0m\u001b[1mo\u001b[22m\u001b[0m\u001b[1mr\u001b[22m \u001b[0m\u001b[1mF\u001b[22m\u001b[0m\u001b[1mu\u001b[22m\u001b[0m\u001b[1mn\u001b[22m\u001b[0m\u001b[1mc\u001b[22m\u001b[0m\u001b[1mt\u001b[22m\u001b[0m\u001b[1mi\u001b[22m\u001b[0m\u001b[1mo\u001b[22m\u001b[0m\u001b[1mn\u001b[22m\u001b[0m\u001b[1mO\u001b[22m\u001b[0m\u001b[1mp\u001b[22m\u001b[0m\u001b[1me\u001b[22m\u001b[0m\u001b[1mr\u001b[22m\u001b[0m\u001b[1ma\u001b[22m\u001b[0m\u001b[1mt\u001b[22m\u001b[0m\u001b[1mo\u001b[22m\u001b[0m\u001b[1mr\u001b[22ms\n",
      "\n"
     ]
    },
    {
     "data": {
      "text/latex": [
       "Constructor for FunctionOperator object\n",
       "\n",
       "FunctionOperator is an operator that maps from a multidimensional space to another multidimensional space. The mapping is defined by a function (\\texttt{forw}), and optionally the reverse mapping can also be defined (\\texttt{backw}). The input the mapping must be subtype of AbstractArray.\n",
       "\n",
       "Arguments\n",
       "\n",
       "\\begin{itemize}\n",
       "\\item \\texttt{name::String} (Optional but strongly recommended) The operator is referenced later in error messages by this string. \\textbf{Warning!} It is also used to check equality of (composite) FunctionOperators. Default value: \\texttt{OpX} where X is a number incremented in each constructor-call.\n",
       "\n",
       "\n",
       "\\item \\texttt{forw::Function} Function defining the mapping. Must accept one or two arguments. In case of two arguments, the first argument is a preallocated buffer to write the result into (to speed up code by avoiding repeated allocations). In case of both one and two arguments, the return value must be the result of the mapping.\n",
       "\n",
       "\n",
       "\\item \\texttt{backw::Function} (Optional) Same as backw, but defines the backward mapping\n",
       "\n",
       "\n",
       "\\item \\texttt{inDims::Tuple\\{Vararg\\{Int\\}\\}} Size of input array\n",
       "\n",
       "\n",
       "\\item \\texttt{outDims::Tuple\\{Vararg\\{Int\\}\\}} Size of output array\n",
       "\n",
       "\\end{itemize}\n",
       "The following constructors are available:\n",
       "\n",
       "\\begin{itemize}\n",
       "\\item Positional constructor \\#1: \\texttt{FunctionOperator\\{eltype\\}(forw, inDims, outDims)}\n",
       "\n",
       "\n",
       "\\item Positional constructor \\#2: \\texttt{FunctionOperator\\{eltype\\}(forw, backw, inDims, outDims)}\n",
       "\n",
       "\n",
       "\\item Positional constructor \\#3: \\texttt{FunctionOperator\\{eltype\\}(name, forw, inDims, outDims)}\n",
       "\n",
       "\n",
       "\\item Positional constructor \\#4: \\texttt{FunctionOperator\\{eltype\\}(name, forw, backw, inDims, outDims)}\n",
       "\n",
       "\n",
       "\\item Keyword constructor: \\texttt{FunctionOperator\\{eltype\\}(;kwargs...)}\n",
       "\n",
       "\\end{itemize}\n",
       "where \\texttt{eltype} is the type enforced on elements of input array.\n",
       "\n"
      ],
      "text/markdown": [
       "Constructor for FunctionOperator object\n",
       "\n",
       "FunctionOperator is an operator that maps from a multidimensional space to another multidimensional space. The mapping is defined by a function (`forw`), and optionally the reverse mapping can also be defined (`backw`). The input the mapping must be subtype of AbstractArray.\n",
       "\n",
       "Arguments\n",
       "\n",
       "  * `name::String` (Optional but strongly recommended) The operator is referenced later in error messages by this string. **Warning!** It is also used to check equality of (composite) FunctionOperators. Default value: `OpX` where X is a number incremented in each constructor-call.\n",
       "  * `forw::Function` Function defining the mapping. Must accept one or two arguments. In case of two arguments, the first argument is a preallocated buffer to write the result into (to speed up code by avoiding repeated allocations). In case of both one and two arguments, the return value must be the result of the mapping.\n",
       "  * `backw::Function` (Optional) Same as backw, but defines the backward mapping\n",
       "  * `inDims::Tuple{Vararg{Int}}` Size of input array\n",
       "  * `outDims::Tuple{Vararg{Int}}` Size of output array\n",
       "\n",
       "The following constructors are available:\n",
       "\n",
       "  * Positional constructor #1: `FunctionOperator{eltype}(forw, inDims, outDims)`\n",
       "  * Positional constructor #2: `FunctionOperator{eltype}(forw, backw, inDims, outDims)`\n",
       "  * Positional constructor #3: `FunctionOperator{eltype}(name, forw, inDims, outDims)`\n",
       "  * Positional constructor #4: `FunctionOperator{eltype}(name, forw, backw, inDims, outDims)`\n",
       "  * Keyword constructor: `FunctionOperator{eltype}(;kwargs...)`\n",
       "\n",
       "where `eltype` is the type enforced on elements of input array.\n"
      ],
      "text/plain": [
       "  Constructor for FunctionOperator object\n",
       "\n",
       "  FunctionOperator is an operator that maps from a multidimensional space to\n",
       "  another multidimensional space. The mapping is defined by a function (\u001b[36mforw\u001b[39m),\n",
       "  and optionally the reverse mapping can also be defined (\u001b[36mbackw\u001b[39m). The input\n",
       "  the mapping must be subtype of AbstractArray.\n",
       "\n",
       "  Arguments\n",
       "\n",
       "    •    \u001b[36mname::String\u001b[39m (Optional but strongly recommended) The operator is\n",
       "        referenced later in error messages by this string. \u001b[1mWarning!\u001b[22m It is\n",
       "        also used to check equality of (composite) FunctionOperators.\n",
       "        Default value: \u001b[36mOpX\u001b[39m where X is a number incremented in each\n",
       "        constructor-call.\n",
       "\n",
       "    •    \u001b[36mforw::Function\u001b[39m Function defining the mapping. Must accept one or\n",
       "        two arguments. In case of two arguments, the first argument is a\n",
       "        preallocated buffer to write the result into (to speed up code by\n",
       "        avoiding repeated allocations). In case of both one and two\n",
       "        arguments, the return value must be the result of the mapping.\n",
       "\n",
       "    •    \u001b[36mbackw::Function\u001b[39m (Optional) Same as backw, but defines the backward\n",
       "        mapping\n",
       "\n",
       "    •    \u001b[36minDims::Tuple{Vararg{Int}}\u001b[39m Size of input array\n",
       "\n",
       "    •    \u001b[36moutDims::Tuple{Vararg{Int}}\u001b[39m Size of output array\n",
       "\n",
       "  The following constructors are available:\n",
       "\n",
       "    •    Positional constructor #1: \u001b[36mFunctionOperator{eltype}(forw, inDims,\n",
       "        outDims)\u001b[39m\n",
       "\n",
       "    •    Positional constructor #2: \u001b[36mFunctionOperator{eltype}(forw, backw,\n",
       "        inDims, outDims)\u001b[39m\n",
       "\n",
       "    •    Positional constructor #3: \u001b[36mFunctionOperator{eltype}(name, forw,\n",
       "        inDims, outDims)\u001b[39m\n",
       "\n",
       "    •    Positional constructor #4: \u001b[36mFunctionOperator{eltype}(name, forw,\n",
       "        backw, inDims, outDims)\u001b[39m\n",
       "\n",
       "    •    Keyword constructor: \u001b[36mFunctionOperator{eltype}(;kwargs...)\u001b[39m\n",
       "\n",
       "  where \u001b[36meltype\u001b[39m is the type enforced on elements of input array."
      ]
     },
     "execution_count": 3,
     "metadata": {},
     "output_type": "execute_result"
    }
   ],
   "source": [
    "?FunctionOperator"
   ]
  },
  {
   "cell_type": "markdown",
   "metadata": {},
   "source": [
    "Squaring operator and square root as its adjoint operation ⟶ **Dimension preserving**"
   ]
  },
  {
   "cell_type": "code",
   "execution_count": 4,
   "metadata": {},
   "outputs": [
    {
     "data": {
      "text/plain": [
       "FunctionOperator with eltype Float64\n",
       "    Name: Op₁\n",
       "    Input dimensions: (300, 300, 50)\n",
       "    Output dimensions: (300, 300, 50)"
      ]
     },
     "execution_count": 4,
     "metadata": {},
     "output_type": "execute_result"
    }
   ],
   "source": [
    "# Using the keyword constructor:\n",
    "Op₁ = FunctionOperator{Float64}(name = \"Op₁\",\n",
    "    forw = x -> x.^2, backw = x -> sqrt.(x),\n",
    "    inDims = (300, 300, 50), outDims = (300, 300, 50))"
   ]
  },
  {
   "cell_type": "markdown",
   "metadata": {},
   "source": [
    "A weighting operator that collapses the new dimension on adjoint operation ⟶ **Changes size**"
   ]
  },
  {
   "cell_type": "code",
   "execution_count": 5,
   "metadata": {},
   "outputs": [
    {
     "data": {
      "text/plain": [
       "FunctionOperator with eltype Float64\n",
       "    Name: Op₂\n",
       "    Input dimensions: (300, 300, 50)\n",
       "    Output dimensions: (300, 300, 50, 10)"
      ]
     },
     "execution_count": 5,
     "metadata": {},
     "output_type": "execute_result"
    }
   ],
   "source": [
    "weights = [sin((i-j)*l) + 1 for i=1:300, j=1:300, k=1:50, l=1:10]\n",
    "# Using the positional constructor:\n",
    "Op₂ = FunctionOperator{Float64}(\"Op₂\",\n",
    "    x -> reshape(x, 300, 300, 50, 1) .* weights, # broadcasting: 3D to 4D\n",
    "    x -> reshape(sum(x ./ weights, dims=4), 300, 300, 50),\n",
    "    (300, 300, 50), (300, 300, 50, 10))"
   ]
  },
  {
   "cell_type": "markdown",
   "metadata": {},
   "source": [
    "## Apply these operators to the data"
   ]
  },
  {
   "cell_type": "markdown",
   "metadata": {},
   "source": [
    "Apply the first operator: Left multiplication by the operator is equal to calling the `forw` function"
   ]
  },
  {
   "cell_type": "code",
   "execution_count": 6,
   "metadata": {},
   "outputs": [
    {
     "data": {
      "text/plain": [
       "true"
      ]
     },
     "execution_count": 6,
     "metadata": {},
     "output_type": "execute_result"
    }
   ],
   "source": [
    "Op₁ * data == Op₁.forw(data)"
   ]
  },
  {
   "cell_type": "markdown",
   "metadata": {},
   "source": [
    "Result of application of the second operator: size increased"
   ]
  },
  {
   "cell_type": "code",
   "execution_count": 7,
   "metadata": {},
   "outputs": [
    {
     "data": {
      "text/plain": [
       "((300, 300, 50), (300, 300, 50, 10))"
      ]
     },
     "execution_count": 7,
     "metadata": {},
     "output_type": "execute_result"
    }
   ],
   "source": [
    "size(data), size(Op₂ * data)"
   ]
  },
  {
   "cell_type": "markdown",
   "metadata": {},
   "source": [
    "Combine the two operators:"
   ]
  },
  {
   "cell_type": "code",
   "execution_count": 8,
   "metadata": {},
   "outputs": [
    {
     "data": {
      "text/plain": [
       "true"
      ]
     },
     "execution_count": 8,
     "metadata": {},
     "output_type": "execute_result"
    }
   ],
   "source": [
    "Op₂ * Op₁ * data == Op₂.forw(Op₁.forw(data))"
   ]
  },
  {
   "cell_type": "markdown",
   "metadata": {},
   "source": [
    "Adjoint of operator == calling the `backw` function"
   ]
  },
  {
   "cell_type": "code",
   "execution_count": 9,
   "metadata": {},
   "outputs": [
    {
     "data": {
      "text/plain": [
       "true"
      ]
     },
     "execution_count": 9,
     "metadata": {},
     "output_type": "execute_result"
    }
   ],
   "source": [
    "Op₁' * Op₁ * data == Op₁.backw(Op₁.forw(data))"
   ]
  },
  {
   "cell_type": "markdown",
   "metadata": {},
   "source": [
    "Combine operators with addition and substraction"
   ]
  },
  {
   "cell_type": "code",
   "execution_count": 10,
   "metadata": {},
   "outputs": [
    {
     "data": {
      "text/plain": [
       "true"
      ]
     },
     "execution_count": 10,
     "metadata": {},
     "output_type": "execute_result"
    }
   ],
   "source": [
    "Op₂ * (Op₁ + Op₂'*Op₂) * Op₁ * data ==\n",
    "    Op₂.forw(Op₁.forw(Op₁.forw(data)) + Op₂.backw(Op₂.forw(Op₁.forw(data))))"
   ]
  },
  {
   "cell_type": "markdown",
   "metadata": {},
   "source": [
    "I is also possible to combine with `UniformScaling` from `LinearAlgebra` library"
   ]
  },
  {
   "cell_type": "code",
   "execution_count": 11,
   "metadata": {},
   "outputs": [
    {
     "data": {
      "text/plain": [
       "(true, true, true)"
      ]
     },
     "execution_count": 11,
     "metadata": {},
     "output_type": "execute_result"
    }
   ],
   "source": [
    "using LinearAlgebra\n",
    "Op₁ * I * data == Op₁.forw(data),\n",
    "Op₁ * 3I * data == Op₁.forw(3 * data),\n",
    "Op₂*(Op₁ - 2.5*I)*Op₁'*data == Op₂.forw(Op₁.forw(Op₁.backw(data))-2.5*Op₁.backw(data))"
   ]
  },
  {
   "cell_type": "markdown",
   "metadata": {},
   "source": [
    "Adjoint of nested operators also work:"
   ]
  },
  {
   "cell_type": "code",
   "execution_count": 12,
   "metadata": {},
   "outputs": [
    {
     "data": {
      "text/plain": [
       "true"
      ]
     },
     "execution_count": 12,
     "metadata": {},
     "output_type": "execute_result"
    }
   ],
   "source": [
    "(Op₂ * Op₁)' * (Op₂ * Op₁) * data == (Op₂ * Op₁)' * Op₂ * Op₁ * data ==\n",
    "    Op₁.backw(Op₂.backw(Op₂.forw(Op₁.forw(data))))"
   ]
  },
  {
   "cell_type": "markdown",
   "metadata": {},
   "source": [
    "...but *not* with addition or substraction:"
   ]
  },
  {
   "cell_type": "code",
   "execution_count": 13,
   "metadata": {},
   "outputs": [
    {
     "ename": "ErrorException",
     "evalue": "Sorry, I don't know how to calculate the adjoint of ((Op₁ + (3*I)))'",
     "output_type": "error",
     "traceback": [
      "Sorry, I don't know how to calculate the adjoint of ((Op₁ + (3*I)))'",
      "",
      "Stacktrace:",
      " [1] error(::String) at ./error.jl:33",
      " [2] getPlanAddSub(::FunctionOperators.FunctionOperatorComposite{Float64}, ::FunctionOperators.Buffer, ::Bool, ::String, ::Symbol, ::Array{FunctionOperators.Buffer,1}) at /home/hakkelt/csmri/FunctionOperators/src/getPlan.jl:91",
      " [3] getPlan at /home/hakkelt/csmri/FunctionOperators/src/getPlan.jl:117 [inlined]",
      " [4] *(::FunctionOperators.FunctionOperatorComposite{Float64}, ::Array{Float64,3}) at /home/hakkelt/csmri/FunctionOperators/src/mul.jl:37",
      " [5] top-level scope at In[13]:1"
     ]
    }
   ],
   "source": [
    "(Op₁ + 3I)' * data"
   ]
  },
  {
   "cell_type": "markdown",
   "metadata": {},
   "source": [
    "You can store a combination of some operators, and apply it later to data:"
   ]
  },
  {
   "cell_type": "code",
   "execution_count": 14,
   "metadata": {},
   "outputs": [
    {
     "data": {
      "text/plain": [
       "true"
      ]
     },
     "execution_count": 14,
     "metadata": {},
     "output_type": "execute_result"
    }
   ],
   "source": [
    "comb_OP = 5I * Op₁\n",
    "comb_OP' * comb_OP * data == (5I * Op₁)' * (5I * Op₁) * data ==\n",
    "    Op₁.backw(conj(5)*(5*Op₁.forw(data)))"
   ]
  },
  {
   "cell_type": "markdown",
   "metadata": {},
   "source": [
    "*Note that adjoint operation of scaling by a constant (in this case: 5) is the scaling by the conjugate of the constant (which is equal to the original constant in case of real numbers).*"
   ]
  },
  {
   "cell_type": "markdown",
   "metadata": {},
   "source": [
    "## Performance\n",
    "Unfortunately, our naive approach above is quite slow..."
   ]
  },
  {
   "cell_type": "code",
   "execution_count": 15,
   "metadata": {},
   "outputs": [
    {
     "data": {
      "text/plain": [
       "BenchmarkTools.Trial: \n",
       "  memory estimate:  858.32 MiB\n",
       "  allocs estimate:  273\n",
       "  --------------\n",
       "  minimum time:     349.828 ms (39.01% GC)\n",
       "  median time:      350.290 ms (39.01% GC)\n",
       "  mean time:        355.272 ms (39.85% GC)\n",
       "  maximum time:     404.788 ms (47.11% GC)\n",
       "  --------------\n",
       "  samples:          15\n",
       "  evals/sample:     1"
      ]
     },
     "execution_count": 15,
     "metadata": {},
     "output_type": "execute_result"
    }
   ],
   "source": [
    "@benchmark Op₂*(Op₁ - 2.5*I)*Op₁'*data"
   ]
  },
  {
   "cell_type": "markdown",
   "metadata": {},
   "source": [
    "A possible reason is that `Op₂` accesses a global variable, and it is considered to be a bad practice. (*See: [Performance Tips](https://docs.julialang.org/en/v1/manual/performance-tips/index.html)*)\n",
    "\n",
    "We can avoid that by wrapping the definition of `Op₂` with a function:"
   ]
  },
  {
   "cell_type": "code",
   "execution_count": 16,
   "metadata": {},
   "outputs": [
    {
     "data": {
      "text/plain": [
       "FunctionOperator with eltype Float64\n",
       "    Name: Op₂\n",
       "    Input dimensions: (300, 300, 50)\n",
       "    Output dimensions: (300, 300, 50, 10)"
      ]
     },
     "execution_count": 16,
     "metadata": {},
     "output_type": "execute_result"
    }
   ],
   "source": [
    "function getOp₂()\n",
    "    weights = [sin((i-j)*l) + 1 for i=1:300, j=1:300, k=1:50, l=1:10]\n",
    "    Op₂ = FunctionOperator{Float64}(name=\"Op₂\",\n",
    "        forw = x -> reshape(x, 300, 300, 50, 1) .* weights, # broadcasting: 3D to 4D\n",
    "        backw = x -> reshape(sum(x ./ weights, dims=4), 300, 300, 50),\n",
    "        inDims=(300, 300, 50), outDims=(300, 300, 50, 10))\n",
    "end\n",
    "Op₂ = getOp₂()"
   ]
  },
  {
   "cell_type": "code",
   "execution_count": 17,
   "metadata": {},
   "outputs": [
    {
     "data": {
      "text/plain": [
       "BenchmarkTools.Trial: \n",
       "  memory estimate:  858.32 MiB\n",
       "  allocs estimate:  271\n",
       "  --------------\n",
       "  minimum time:     295.893 ms (27.91% GC)\n",
       "  median time:      351.640 ms (39.20% GC)\n",
       "  mean time:        352.211 ms (39.29% GC)\n",
       "  maximum time:     406.226 ms (47.35% GC)\n",
       "  --------------\n",
       "  samples:          15\n",
       "  evals/sample:     1"
      ]
     },
     "execution_count": 17,
     "metadata": {},
     "output_type": "execute_result"
    }
   ],
   "source": [
    "@benchmark Op₂*(Op₁ - 2.5*I)*Op₁'*data"
   ]
  },
  {
   "cell_type": "markdown",
   "metadata": {},
   "source": [
    "Well, it didn't solved our problem... In fact, the main reason of slowness is the excessive memory allocations; namely, all the intermediate results allocates a new array.\n",
    "\n",
    "We can avoid that by defining the `forw` and `backw` function a bit differently: They can also accept two arguments, where the first is a preallocated buffer (with appropriate size) that is supposed to hold the output of the operation:"
   ]
  },
  {
   "cell_type": "code",
   "execution_count": 18,
   "metadata": {},
   "outputs": [
    {
     "data": {
      "text/plain": [
       "(FunctionOperator{Float64}(Op₁, (300, 300, 50), (300, 300, 50)), FunctionOperator{Float64}(Op₂, (300, 300, 50), (300, 300, 50, 10)))"
      ]
     },
     "execution_count": 18,
     "metadata": {},
     "output_type": "execute_result"
    }
   ],
   "source": [
    "function getBufferedOps()\n",
    "    Op₁ = FunctionOperator{Float64}(name=\"Op₁\",\n",
    "        forw = (buffer, x) -> buffer .= x.^2,\n",
    "        backw = (buffer, x) -> broadcast!(sqrt, buffer, x),\n",
    "        inDims = (300, 300, 50), outDims = (300, 300, 50))\n",
    "    weights = [sin((i-j)*l) + 1 for i=1:300, j=1:300, k=1:50, l=1:10]\n",
    "    Op₂ = FunctionOperator{Float64}(name=\"Op₂\",\n",
    "        forw = (buffer,x) -> buffer .= reshape(x, 300, 300, 50, 1) .* weights,\n",
    "        backw = (buffer,x) -> dropdims(sum!(reshape(buffer, 300, 300, 50, 1), x ./ weights), dims=4),\n",
    "        inDims=(300, 300, 50), outDims=(300, 300, 50, 10))\n",
    "    Op₁, Op₂\n",
    "end\n",
    "bOp₁, bOp₂ = getBufferedOps()"
   ]
  },
  {
   "cell_type": "code",
   "execution_count": 19,
   "metadata": {},
   "outputs": [
    {
     "data": {
      "text/plain": [
       "BenchmarkTools.Trial: \n",
       "  memory estimate:  446.33 MiB\n",
       "  allocs estimate:  261\n",
       "  --------------\n",
       "  minimum time:     205.879 ms (5.70% GC)\n",
       "  median time:      263.566 ms (26.43% GC)\n",
       "  mean time:        261.499 ms (25.84% GC)\n",
       "  maximum time:     280.075 ms (30.79% GC)\n",
       "  --------------\n",
       "  samples:          20\n",
       "  evals/sample:     1"
      ]
     },
     "execution_count": 19,
     "metadata": {},
     "output_type": "execute_result"
    }
   ],
   "source": [
    "@benchmark bOp₂*(bOp₁ - 2.5*I)*bOp₁'*data"
   ]
  },
  {
   "cell_type": "markdown",
   "metadata": {},
   "source": [
    "Better, but it still should be much faster..."
   ]
  },
  {
   "cell_type": "markdown",
   "metadata": {},
   "source": [
    "#### Let's have a look at what is under the hood!\n",
    "\n",
    "When we combine operators, nothing special happens, just a wrapper object is created that defines the connections between the operators:"
   ]
  },
  {
   "cell_type": "code",
   "execution_count": 20,
   "metadata": {},
   "outputs": [
    {
     "data": {
      "text/plain": [
       "FunctionOperatorComposite with eltype Float64\n",
       "    Name: Op₂ * (Op₁ - (2.5*I)) * Op₁'\n",
       "    Input dimensions: (300, 300, 50)\n",
       "    Output dimensions: (300, 300, 50, 10)\n",
       "    Plan: no plan"
      ]
     },
     "execution_count": 20,
     "metadata": {},
     "output_type": "execute_result"
    }
   ],
   "source": [
    "Op₂*(Op₁ - 2.5*I)*Op₁'"
   ]
  },
  {
   "cell_type": "markdown",
   "metadata": {},
   "source": [
    "*Note the last last line: \"Plan: no plan\" ⟶ it is going to have a significance later...*\n",
    "\n",
    "The real magic happens when we apply this composite operator to data. To see what is going on behind the scenes, let's enable verbosity."
   ]
  },
  {
   "cell_type": "code",
   "execution_count": 21,
   "metadata": {},
   "outputs": [
    {
     "data": {
      "text/plain": [
       "true"
      ]
     },
     "execution_count": 21,
     "metadata": {},
     "output_type": "execute_result"
    }
   ],
   "source": [
    "FO_settings.verbose = true"
   ]
  },
  {
   "cell_type": "markdown",
   "metadata": {},
   "source": [
    "Now, we can see, how this composite operators work: When we apply it to data, it creates a function that aggregates the functionality of all combined operators, and preallocates buffers for the intermediate results."
   ]
  },
  {
   "cell_type": "code",
   "execution_count": 22,
   "metadata": {},
   "outputs": [
    {
     "name": "stdout",
     "output_type": "stream",
     "text": [
      "Allocation of buffer1, size: (300, 300, 50, 10)\n",
      "Allocation of buffer2, size: (300, 300, 50)\n",
      "Allocation of buffer3, size: (300, 300, 50)\n",
      "Allocation of buffer4, size: (300, 300, 50)\n",
      "Plan calculated: buffer1 .= Op₂.forw((buffer2 .= Op₁.backw(x); broadcast!(-, buffer3, Op₁.forw(buffer2), broadcast!(*, buffer4, 2.5, buffer2))))\n"
     ]
    }
   ],
   "source": [
    "Op₂*(Op₁ - 2.5*I)*Op₁' * data;"
   ]
  },
  {
   "cell_type": "markdown",
   "metadata": {},
   "source": [
    "On the other hand, `bOp₁` and `bOp₂` has a bit different aggregated function:"
   ]
  },
  {
   "cell_type": "code",
   "execution_count": 23,
   "metadata": {},
   "outputs": [
    {
     "name": "stdout",
     "output_type": "stream",
     "text": [
      "Allocation of buffer1, size: (300, 300, 50, 10)\n",
      "Allocation of buffer2, size: (300, 300, 50)\n",
      "Allocation of buffer3, size: (300, 300, 50)\n",
      "Allocation of buffer4, size: (300, 300, 50)\n",
      "Plan calculated: buffer1 .= Op₂.forw(buffer1, (buffer2 .= Op₁.backw(buffer2, x); broadcast!(-, buffer3, Op₁.forw(buffer3, buffer2), broadcast!(*, buffer4, 2.5, buffer2))))\n"
     ]
    }
   ],
   "source": [
    "bOp₂*(bOp₁ - 2.5*I) * bOp₁' * data;"
   ]
  },
  {
   "cell_type": "markdown",
   "metadata": {},
   "source": [
    "The good thing is that the plan (along with the preallocated buffers) is cached, so if we save the combined operator to a variable, then the plan is created only once. See the difference:"
   ]
  },
  {
   "cell_type": "code",
   "execution_count": 24,
   "metadata": {},
   "outputs": [
    {
     "name": "stdout",
     "output_type": "stream",
     "text": [
      "Allocation of buffer1, size: (300, 300, 50, 10)\n",
      "Allocation of buffer2, size: (300, 300, 50)\n",
      "Allocation of buffer3, size: (300, 300, 50)\n",
      "Allocation of buffer4, size: (300, 300, 50)\n",
      "Plan calculated: buffer1 .= Op₂.forw(buffer1, (buffer2 .= Op₁.backw(buffer2, x); broadcast!(-, buffer3, Op₁.forw(buffer3, buffer2), broadcast!(*, buffer4, 2.5, buffer2))))\n",
      "Allocation of buffer1, size: (300, 300, 50, 10)\n",
      "Allocation of buffer2, size: (300, 300, 50)\n",
      "Allocation of buffer3, size: (300, 300, 50)\n",
      "Allocation of buffer4, size: (300, 300, 50)\n",
      "Plan calculated: buffer1 .= Op₂.forw(buffer1, (buffer2 .= Op₁.backw(buffer2, x); broadcast!(-, buffer3, Op₁.forw(buffer3, buffer2), broadcast!(*, buffer4, 2.5, buffer2))))\n"
     ]
    }
   ],
   "source": [
    "bOp₂*(bOp₁ - 2.5*I) * bOp₁' * data\n",
    "bOp₂*(bOp₁ - 2.5*I) * bOp₁' * data;"
   ]
  },
  {
   "cell_type": "code",
   "execution_count": 25,
   "metadata": {},
   "outputs": [
    {
     "name": "stdout",
     "output_type": "stream",
     "text": [
      "Allocation of buffer1, size: (300, 300, 50, 10)\n",
      "Allocation of buffer2, size: (300, 300, 50)\n",
      "Allocation of buffer3, size: (300, 300, 50)\n",
      "Allocation of buffer4, size: (300, 300, 50)\n",
      "Plan calculated: buffer1 .= Op₂.forw(buffer1, (buffer2 .= Op₁.backw(buffer2, x); broadcast!(-, buffer3, Op₁.forw(buffer3, buffer2), broadcast!(*, buffer4, 2.5, buffer2))))\n",
      "Allocation of buffer1, size: (300, 300, 50, 10)\n"
     ]
    }
   ],
   "source": [
    "combined = bOp₂*(bOp₁ - 2.5*I) * bOp₁'\n",
    "combined * data\n",
    "combined * data;"
   ]
  },
  {
   "cell_type": "markdown",
   "metadata": {},
   "source": [
    "Now we can see that the `combined` object carries the plan already created:"
   ]
  },
  {
   "cell_type": "code",
   "execution_count": 26,
   "metadata": {},
   "outputs": [
    {
     "data": {
      "text/plain": [
       "FunctionOperatorComposite with eltype Float64\n",
       "    Name: Op₂ * (Op₁ - (2.5*I)) * Op₁'\n",
       "    Input dimensions: (300, 300, 50)\n",
       "    Output dimensions: (300, 300, 50, 10)\n",
       "    Plan: Op₂.forw(buffer1, (buffer2 .= Op₁.backw(buffer2, x); broadcast!(-, buffer3, Op₁.forw(buffer3, buffer2), broadcast!(*, buffer4, 2.5, buffer2))))"
      ]
     },
     "execution_count": 26,
     "metadata": {},
     "output_type": "execute_result"
    }
   ],
   "source": [
    "combined"
   ]
  },
  {
   "cell_type": "markdown",
   "metadata": {},
   "source": [
    "And a side-note here: We can also set this plan manually, if the computed one is wrong, or FunctionOperators was not possible to compute. For example, adjoint of addition:"
   ]
  },
  {
   "cell_type": "code",
   "execution_count": 27,
   "metadata": {},
   "outputs": [
    {
     "data": {
      "text/plain": [
       "FunctionOperatorComposite with eltype Float64\n",
       "    Name: ((Op₁ + (2.5*I)))'\n",
       "    Input dimensions: (300, 300, 50)\n",
       "    Output dimensions: (300, 300, 50)\n",
       "    Plan: no plan"
      ]
     },
     "execution_count": 27,
     "metadata": {},
     "output_type": "execute_result"
    }
   ],
   "source": [
    "tricky = (bOp₁ + 2.5I)'"
   ]
  },
  {
   "cell_type": "code",
   "execution_count": 28,
   "metadata": {},
   "outputs": [
    {
     "name": "stdout",
     "output_type": "stream",
     "text": [
      "Allocation of buffer1, size: (300, 300, 50)\n"
     ]
    },
    {
     "ename": "ErrorException",
     "evalue": "Sorry, I don't know how to calculate the adjoint of ((Op₁ + (2.5*I)))'",
     "output_type": "error",
     "traceback": [
      "Sorry, I don't know how to calculate the adjoint of ((Op₁ + (2.5*I)))'",
      "",
      "Stacktrace:",
      " [1] error(::String) at ./error.jl:33",
      " [2] getPlanAddSub(::FunctionOperators.FunctionOperatorComposite{Float64}, ::FunctionOperators.Buffer, ::Bool, ::String, ::Symbol, ::Array{FunctionOperators.Buffer,1}) at /home/hakkelt/csmri/FunctionOperators/src/getPlan.jl:91",
      " [3] getPlan at /home/hakkelt/csmri/FunctionOperators/src/getPlan.jl:117 [inlined]",
      " [4] *(::FunctionOperators.FunctionOperatorComposite{Float64}, ::Array{Float64,3}) at /home/hakkelt/csmri/FunctionOperators/src/mul.jl:37",
      " [5] top-level scope at In[28]:1"
     ]
    }
   ],
   "source": [
    "tricky * data"
   ]
  },
  {
   "cell_type": "code",
   "execution_count": 29,
   "metadata": {},
   "outputs": [
    {
     "data": {
      "text/plain": [
       "FunctionOperatorComposite with eltype Float64\n",
       "    Name: ((Op₁ + (2.5*I)))'\n",
       "    Input dimensions: (300, 300, 50)\n",
       "    Output dimensions: (300, 300, 50)\n",
       "    Plan: √(2 - x) / √(2x)"
      ]
     },
     "execution_count": 29,
     "metadata": {},
     "output_type": "execute_result"
    }
   ],
   "source": [
    "setPlan(tricky, (buffer, x) -> @.(√(2 - x) / √(2x)), \"√(2 - x) / √(2x)\")\n",
    "tricky"
   ]
  },
  {
   "cell_type": "code",
   "execution_count": 30,
   "metadata": {},
   "outputs": [
    {
     "name": "stdout",
     "output_type": "stream",
     "text": [
      "Allocation of buffer1, size: (300, 300, 50)\n"
     ]
    },
    {
     "data": {
      "text/plain": [
       "true"
      ]
     },
     "execution_count": 30,
     "metadata": {},
     "output_type": "execute_result"
    }
   ],
   "source": [
    "tricky * data == @. √(2 - data) / √(2data)"
   ]
  },
  {
   "cell_type": "markdown",
   "metadata": {},
   "source": [
    "But back to the question of performance: If we preallocate an array for the output manually, and use `mul!`, then we can save also the reallocation of `buffer1`:"
   ]
  },
  {
   "cell_type": "code",
   "execution_count": 31,
   "metadata": {},
   "outputs": [
    {
     "name": "stdout",
     "output_type": "stream",
     "text": [
      "buffer1 = <previously allocated>\n",
      "Allocation of buffer2, size: (300, 300, 50)\n",
      "Allocation of buffer3, size: (300, 300, 50)\n",
      "Allocation of buffer4, size: (300, 300, 50)\n",
      "Plan calculated: buffer1 .= Op₂.forw(buffer1, (buffer2 .= Op₁.backw(buffer2, x); broadcast!(-, buffer3, Op₁.forw(buffer3, buffer2), broadcast!(*, buffer4, 2.5, buffer2))))\n"
     ]
    }
   ],
   "source": [
    "combined = bOp₂ * (bOp₁ - 2.5*I) * bOp₁'\n",
    "output = Array{Float64}(undef, 300, 300, 50, 10)\n",
    "mul!(output, combined, data)\n",
    "mul!(output, combined, data);"
   ]
  },
  {
   "cell_type": "markdown",
   "metadata": {},
   "source": [
    "If we apply the combined operator multiple times, we can save a lot on computation time:"
   ]
  },
  {
   "cell_type": "code",
   "execution_count": 32,
   "metadata": {},
   "outputs": [
    {
     "data": {
      "text/plain": [
       "BenchmarkTools.Trial: \n",
       "  memory estimate:  256 bytes\n",
       "  allocs estimate:  7\n",
       "  --------------\n",
       "  minimum time:     124.221 ms (0.00% GC)\n",
       "  median time:      124.382 ms (0.00% GC)\n",
       "  mean time:        124.380 ms (0.00% GC)\n",
       "  maximum time:     124.702 ms (0.00% GC)\n",
       "  --------------\n",
       "  samples:          41\n",
       "  evals/sample:     1"
      ]
     },
     "execution_count": 32,
     "metadata": {},
     "output_type": "execute_result"
    }
   ],
   "source": [
    "FO_settings.verbose = false\n",
    "@benchmark mul!(output, combined, data)"
   ]
  },
  {
   "cell_type": "markdown",
   "metadata": {},
   "source": [
    "Let's compare it to a manually function with identical function and optimizations"
   ]
  },
  {
   "cell_type": "code",
   "execution_count": 33,
   "metadata": {},
   "outputs": [
    {
     "data": {
      "text/plain": [
       "getAggregatedFunction (generic function with 1 method)"
      ]
     },
     "execution_count": 33,
     "metadata": {},
     "output_type": "execute_result"
    }
   ],
   "source": [
    "function getAggregatedFunction()\n",
    "    weights = [sin((i-j)*l) + 1 for i=1:300, j=1:300, k=1:50, l=1:10]\n",
    "    buffer2 = Array{Float64}(undef, 300, 300, 50)\n",
    "    buffer3 = Array{Float64}(undef, 300, 300, 50)\n",
    "    buffer4 = Array{Float64}(undef, 300, 300, 50)\n",
    "    (buffer, x) -> begin\n",
    "        broadcast!(sqrt, buffer2, x)  # Of course, this two lines can be optimized to\n",
    "        buffer3 .= buffer2 .^ 2       # (√x)^2 = |x|, but let's now avoid this fact\n",
    "        broadcast!(-, buffer3, buffer3, broadcast!(*, buffer4, 2.5, buffer2))\n",
    "        buffer .= reshape(buffer3, 300, 300, 50, 1) .* weights\n",
    "    end\n",
    "end"
   ]
  },
  {
   "cell_type": "code",
   "execution_count": 34,
   "metadata": {},
   "outputs": [
    {
     "data": {
      "text/plain": [
       "BenchmarkTools.Trial: \n",
       "  memory estimate:  128 bytes\n",
       "  allocs estimate:  2\n",
       "  --------------\n",
       "  minimum time:     124.123 ms (0.00% GC)\n",
       "  median time:      124.212 ms (0.00% GC)\n",
       "  mean time:        124.206 ms (0.00% GC)\n",
       "  maximum time:     124.307 ms (0.00% GC)\n",
       "  --------------\n",
       "  samples:          41\n",
       "  evals/sample:     1"
      ]
     },
     "execution_count": 34,
     "metadata": {},
     "output_type": "execute_result"
    }
   ],
   "source": [
    "aggrFun = getAggregatedFunction()\n",
    "@benchmark aggrFun(output, data)"
   ]
  },
  {
   "cell_type": "markdown",
   "metadata": {},
   "source": [
    "Basically, there is no overhead of using FunctionOperators!"
   ]
  },
  {
   "cell_type": "markdown",
   "metadata": {},
   "source": [
    "## Syntactic sugar\n",
    "Let's consider the following function:"
   ]
  },
  {
   "cell_type": "code",
   "execution_count": 35,
   "metadata": {},
   "outputs": [
    {
     "data": {
      "text/plain": [
       "foo1 (generic function with 1 method)"
      ]
     },
     "execution_count": 35,
     "metadata": {},
     "output_type": "execute_result"
    }
   ],
   "source": [
    "function foo1(A, bOp₁, bOp₂)\n",
    "    for i in 1:10\n",
    "        C = (bOp₁ - 2.5*I) * bOp₁ * A\n",
    "        B = bOp₁ * (C - 3A)\n",
    "        A .= bOp₁ * (C + 2B)\n",
    "        A ./= maximum(bOp₂ * A)\n",
    "    end\n",
    "end"
   ]
  },
  {
   "cell_type": "code",
   "execution_count": 36,
   "metadata": {},
   "outputs": [
    {
     "data": {
      "text/plain": [
       "BenchmarkTools.Trial: \n",
       "  memory estimate:  6.07 GiB\n",
       "  allocs estimate:  1822\n",
       "  --------------\n",
       "  minimum time:     3.835 s (20.62% GC)\n",
       "  median time:      3.836 s (20.57% GC)\n",
       "  mean time:        3.836 s (20.57% GC)\n",
       "  maximum time:     3.837 s (20.53% GC)\n",
       "  --------------\n",
       "  samples:          2\n",
       "  evals/sample:     1"
      ]
     },
     "execution_count": 36,
     "metadata": {},
     "output_type": "execute_result"
    }
   ],
   "source": [
    "@benchmark foo1(copy(data), bOp₁, bOp₂)"
   ]
  },
  {
   "cell_type": "markdown",
   "metadata": {},
   "source": [
    "Using the methods we have seen earlier, we can quickly optimize this code, and we get something like that:"
   ]
  },
  {
   "cell_type": "code",
   "execution_count": 37,
   "metadata": {},
   "outputs": [
    {
     "data": {
      "text/plain": [
       "foo2 (generic function with 1 method)"
      ]
     },
     "execution_count": 37,
     "metadata": {},
     "output_type": "execute_result"
    }
   ],
   "source": [
    "function foo2(A, bOp₁, bOp₂)\n",
    "    combOp = (bOp₁ - 2.5*I) * bOp₁\n",
    "    C = similar(A)\n",
    "    buffer1 = similar(A)\n",
    "    B = similar(A)\n",
    "    buffer2 = Array{Float64}(undef, (300, 300, 50, 10))\n",
    "    for i = 1:10\n",
    "        mul!(C, combOp, A)\n",
    "        @. buffer1 = C - 3A\n",
    "        mul!(B, bOp₁, buffer1)\n",
    "        @. buffer1 = C + 2B\n",
    "        mul!(A, bOp₁, buffer1)\n",
    "        A ./= maximum(mul!(buffer2, bOp₂, A))\n",
    "    end\n",
    "end"
   ]
  },
  {
   "cell_type": "code",
   "execution_count": 38,
   "metadata": {},
   "outputs": [
    {
     "data": {
      "text/plain": [
       "BenchmarkTools.Trial: \n",
       "  memory estimate:  514.99 MiB\n",
       "  allocs estimate:  267\n",
       "  --------------\n",
       "  minimum time:     2.086 s (3.44% GC)\n",
       "  median time:      2.088 s (3.57% GC)\n",
       "  mean time:        2.092 s (3.69% GC)\n",
       "  maximum time:     2.101 s (4.05% GC)\n",
       "  --------------\n",
       "  samples:          3\n",
       "  evals/sample:     1"
      ]
     },
     "execution_count": 38,
     "metadata": {},
     "output_type": "execute_result"
    }
   ],
   "source": [
    "@benchmark foo2(copy(data), bOp₁, bOp₂)"
   ]
  },
  {
   "cell_type": "markdown",
   "metadata": {},
   "source": [
    "This speedup is pretty much pleasing, but the tradeoff is that the code is much less readable now. To avoid the mess caused by manual optimization, the `FunctionOperators` library offers the recycle macro (`@♻`) that does the same automatically using the following markers: `🔝`, `🔃`, and `@🔃`."
   ]
  },
  {
   "cell_type": "code",
   "execution_count": 39,
   "metadata": {},
   "outputs": [
    {
     "data": {
      "text/latex": [
       "\\textbf{Recycling macro}: Reduce the number of allocations inside a for loop by preallocation of arrays for the outputs of marked operations. Markers: \\texttt{@♻} (\\texttt{{\\textbackslash}:recycle:}), \\texttt{🔝} (\\texttt{{\\textbackslash}:top:}), \\texttt{🔃} (\\texttt{{\\textbackslash}:arrows\\_clockwise:}), and \\texttt{@🔃}\n",
       "\n",
       "Macro @♻ should be placed right before a for loop, and then it executes the following substitutions:\n",
       "\n",
       "\\begin{itemize}\n",
       "\\item Expressions marked by \\texttt{🔝} are going to be calculated before the loop, the result is stored in a variable, and the expression will be replaced by that variable. It also can be useful when a constant expression is used in the loop, but the idea behind creating that substitution is to allow caching of composite FunctionMatrices. Eg:\n",
       "\n",
       "\\end{itemize}\n",
       "\\begin{verbatim}\n",
       "@♻ for i=1:5\n",
       "    result = 🔝((FuncOp₁ + 2I) * FuncOp₂) * data\n",
       "end\n",
       "\\end{verbatim}\n",
       "will be transformed to \n",
       "\n",
       "\\begin{verbatim}\n",
       "🔝_1 = (FuncOp₁ + 2I) * FuncOp₂\n",
       "for i = 1:5\n",
       "    result = 🔝_1 * data\n",
       "end\n",
       "\\end{verbatim}\n",
       "so that way plan is calculated only once, and also buffers for intermediate results of the composite operator are allocated once.\n",
       "\n",
       "\\begin{itemize}\n",
       "\\item Expressions marked by \\texttt{🔃} are going to be calculated before the loop (to allocate an array to store the result), but the expression is also evaluated in each loop iteration. The difference after the substitution is that the result of the expression is always saved to the preallocated array. Eg:\n",
       "\n",
       "\\end{itemize}\n",
       "\\begin{verbatim}\n",
       "@♻ for i=1:5\n",
       "    result = FuncOp₁ * 🔃(A + B)\n",
       "end\n",
       "\\end{verbatim}\n",
       "will be transformed to \n",
       "\n",
       "\\begin{verbatim}\n",
       "🔃_1 = A + B\n",
       "for i = 1:5\n",
       "    result = FuncOp₁ * @.(🔃_1 = A + B)\n",
       "end\n",
       "\\end{verbatim}\n",
       "This transformation first allocates an array named \\texttt{🔃\\_1}, and then in every iteration it is recalculated, saved to \\texttt{🔃\\_1}, and the this value is used for the rest of the operation (i.e.: \\texttt{FuncOp₁ * 🔃\\_1}. Note that \\texttt{@.} macro is inserted before the inline assignment. This is needed otherwise \\texttt{A + B} would allocate a new array before it is stored in \\texttt{🔃\\_1}. \\textbf{Warning!} It can break your code, e.g. @.(🔃\\emph{1 = A * B) ≠ (🔃}1 = A * B) \\{matrix multiplication vs. elementwise multiplication\\}! On the other hand, when the marked expression consists only a multiplication, then it is transformed into a call of \\texttt{mul!}. Eg:\n",
       "\n",
       "\\begin{verbatim}\n",
       "@♻ for i=1:5\n",
       "    result = FuncOp₁ * 🔃(A * B)\n",
       "end\n",
       "\\end{verbatim}\n",
       "will be transformed to \n",
       "\n",
       "\\begin{verbatim}\n",
       "🔃_1 = A * B\n",
       "for i = 1:5\n",
       "    result = FuncOp₁ * mul!(🔃_1, A, B)\n",
       "end\n",
       "\\end{verbatim}\n",
       "\\begin{itemize}\n",
       "\\item Lastly, assignments marked by \\texttt{@🔃} will be transformed into a call of \\texttt{mul!}. Of course, it works only if \\texttt{@🔃} is directly followed by an assignment that has a single multiplication on the right side. Eg:\n",
       "\n",
       "\\end{itemize}\n",
       "\\begin{verbatim}\n",
       "@♻ for i=1:5\n",
       "    @🔃 result = FuncOp₁ * A\n",
       "end\n",
       "\\end{verbatim}\n",
       "will be transformed to \n",
       "\n",
       "\\begin{verbatim}\n",
       "result = FuncOp₁ * A\n",
       "for i = 1:5\n",
       "    mul!(result, FuncOp₁, A)\n",
       "end\n",
       "\\end{verbatim}\n",
       "Final note: \\texttt{🔝} can be arbitrarily nested, and it can be embedded in expressions marked by \\texttt{🔃}. \\texttt{🔃} can also be nested, and it can be used in assigments marked by \\texttt{@🔃} (along with \\texttt{🔝}, of course).\n",
       "\n"
      ],
      "text/markdown": [
       "**Recycling macro**: Reduce the number of allocations inside a for loop by preallocation of arrays for the outputs of marked operations. Markers: `@♻` (`\\:recycle:`), `🔝` (`\\:top:`), `🔃` (`\\:arrows_clockwise:`), and `@🔃`\n",
       "\n",
       "Macro @♻ should be placed right before a for loop, and then it executes the following substitutions:\n",
       "\n",
       "  * Expressions marked by `🔝` are going to be calculated before the loop, the result is stored in a variable, and the expression will be replaced by that variable. It also can be useful when a constant expression is used in the loop, but the idea behind creating that substitution is to allow caching of composite FunctionMatrices. Eg:\n",
       "\n",
       "```julia\n",
       "@♻ for i=1:5\n",
       "    result = 🔝((FuncOp₁ + 2I) * FuncOp₂) * data\n",
       "end\n",
       "```\n",
       "\n",
       "will be transformed to \n",
       "\n",
       "```julia\n",
       "🔝_1 = (FuncOp₁ + 2I) * FuncOp₂\n",
       "for i = 1:5\n",
       "    result = 🔝_1 * data\n",
       "end\n",
       "```\n",
       "\n",
       "so that way plan is calculated only once, and also buffers for intermediate results of the composite operator are allocated once.\n",
       "\n",
       "  * Expressions marked by `🔃` are going to be calculated before the loop (to allocate an array to store the result), but the expression is also evaluated in each loop iteration. The difference after the substitution is that the result of the expression is always saved to the preallocated array. Eg:\n",
       "\n",
       "```julia\n",
       "@♻ for i=1:5\n",
       "    result = FuncOp₁ * 🔃(A + B)\n",
       "end\n",
       "```\n",
       "\n",
       "will be transformed to \n",
       "\n",
       "```julia\n",
       "🔃_1 = A + B\n",
       "for i = 1:5\n",
       "    result = FuncOp₁ * @.(🔃_1 = A + B)\n",
       "end\n",
       "```\n",
       "\n",
       "This transformation first allocates an array named `🔃_1`, and then in every iteration it is recalculated, saved to `🔃_1`, and the this value is used for the rest of the operation (i.e.: `FuncOp₁ * 🔃_1`. Note that `@.` macro is inserted before the inline assignment. This is needed otherwise `A + B` would allocate a new array before it is stored in `🔃_1`. **Warning!** It can break your code, e.g. @.(🔃*1 = A * B) ≠ (🔃*1 = A * B) {matrix multiplication vs. elementwise multiplication}! On the other hand, when the marked expression consists only a multiplication, then it is transformed into a call of `mul!`. Eg:\n",
       "\n",
       "```julia\n",
       "@♻ for i=1:5\n",
       "    result = FuncOp₁ * 🔃(A * B)\n",
       "end\n",
       "```\n",
       "\n",
       "will be transformed to \n",
       "\n",
       "```julia\n",
       "🔃_1 = A * B\n",
       "for i = 1:5\n",
       "    result = FuncOp₁ * mul!(🔃_1, A, B)\n",
       "end\n",
       "```\n",
       "\n",
       "  * Lastly, assignments marked by `@🔃` will be transformed into a call of `mul!`. Of course, it works only if `@🔃` is directly followed by an assignment that has a single multiplication on the right side. Eg:\n",
       "\n",
       "```julia\n",
       "@♻ for i=1:5\n",
       "    @🔃 result = FuncOp₁ * A\n",
       "end\n",
       "```\n",
       "\n",
       "will be transformed to \n",
       "\n",
       "```julia\n",
       "result = FuncOp₁ * A\n",
       "for i = 1:5\n",
       "    mul!(result, FuncOp₁, A)\n",
       "end\n",
       "```\n",
       "\n",
       "Final note: `🔝` can be arbitrarily nested, and it can be embedded in expressions marked by `🔃`. `🔃` can also be nested, and it can be used in assigments marked by `@🔃` (along with `🔝`, of course).\n"
      ],
      "text/plain": [
       "  \u001b[1mRecycling macro\u001b[22m: Reduce the number of allocations inside a for loop by\n",
       "  preallocation of arrays for the outputs of marked operations. Markers: \u001b[36m@♻\u001b[39m\n",
       "  (\u001b[36m\\:recycle:\u001b[39m), \u001b[36m🔝\u001b[39m (\u001b[36m\\:top:\u001b[39m), \u001b[36m🔃\u001b[39m (\u001b[36m\\:arrows_clockwise:\u001b[39m), and \u001b[36m@🔃\u001b[39m\n",
       "\n",
       "  Macro @♻ should be placed right before a for loop, and then it executes the\n",
       "  following substitutions:\n",
       "\n",
       "    •    Expressions marked by \u001b[36m🔝\u001b[39m are going to be calculated before the\n",
       "        loop, the result is stored in a variable, and the expression will\n",
       "        be replaced by that variable. It also can be useful when a\n",
       "        constant expression is used in the loop, but the idea behind\n",
       "        creating that substitution is to allow caching of composite\n",
       "        FunctionMatrices. Eg:\n",
       "\n",
       "\u001b[36m  @♻ for i=1:5\u001b[39m\n",
       "\u001b[36m      result = 🔝((FuncOp₁ + 2I) * FuncOp₂) * data\u001b[39m\n",
       "\u001b[36m  end\u001b[39m\n",
       "\n",
       "  will be transformed to \n",
       "\n",
       "\u001b[36m  🔝_1 = (FuncOp₁ + 2I) * FuncOp₂\u001b[39m\n",
       "\u001b[36m  for i = 1:5\u001b[39m\n",
       "\u001b[36m      result = 🔝_1 * data\u001b[39m\n",
       "\u001b[36m  end\u001b[39m\n",
       "\n",
       "  so that way plan is calculated only once, and also buffers for intermediate\n",
       "  results of the composite operator are allocated once.\n",
       "\n",
       "    •    Expressions marked by \u001b[36m🔃\u001b[39m are going to be calculated before the loop\n",
       "        (to allocate an array to store the result), but the expression is\n",
       "        also evaluated in each loop iteration. The difference after the\n",
       "        substitution is that the result of the expression is always saved\n",
       "        to the preallocated array. Eg:\n",
       "\n",
       "\u001b[36m  @♻ for i=1:5\u001b[39m\n",
       "\u001b[36m      result = FuncOp₁ * 🔃(A + B)\u001b[39m\n",
       "\u001b[36m  end\u001b[39m\n",
       "\n",
       "  will be transformed to \n",
       "\n",
       "\u001b[36m  🔃_1 = A + B\u001b[39m\n",
       "\u001b[36m  for i = 1:5\u001b[39m\n",
       "\u001b[36m      result = FuncOp₁ * @.(🔃_1 = A + B)\u001b[39m\n",
       "\u001b[36m  end\u001b[39m\n",
       "\n",
       "  This transformation first allocates an array named \u001b[36m🔃_1\u001b[39m, and then in every\n",
       "  iteration it is recalculated, saved to \u001b[36m🔃_1\u001b[39m, and the this value is used for\n",
       "  the rest of the operation (i.e.: \u001b[36mFuncOp₁ * 🔃_1\u001b[39m. Note that \u001b[36m@.\u001b[39m macro is\n",
       "  inserted before the inline assignment. This is needed otherwise \u001b[36mA + B\u001b[39m would\n",
       "  allocate a new array before it is stored in \u001b[36m🔃_1\u001b[39m. \u001b[1mWarning!\u001b[22m It can break your\n",
       "  code, e.g. @.(🔃\u001b[4m1 = A * B) ≠ (🔃\u001b[24m1 = A * B) {matrix multiplication vs.\n",
       "  elementwise multiplication}! On the other hand, when the marked expression\n",
       "  consists only a multiplication, then it is transformed into a call of \u001b[36mmul!\u001b[39m.\n",
       "  Eg:\n",
       "\n",
       "\u001b[36m  @♻ for i=1:5\u001b[39m\n",
       "\u001b[36m      result = FuncOp₁ * 🔃(A * B)\u001b[39m\n",
       "\u001b[36m  end\u001b[39m\n",
       "\n",
       "  will be transformed to \n",
       "\n",
       "\u001b[36m  🔃_1 = A * B\u001b[39m\n",
       "\u001b[36m  for i = 1:5\u001b[39m\n",
       "\u001b[36m      result = FuncOp₁ * mul!(🔃_1, A, B)\u001b[39m\n",
       "\u001b[36m  end\u001b[39m\n",
       "\n",
       "    •    Lastly, assignments marked by \u001b[36m@🔃\u001b[39m will be transformed into a call\n",
       "        of \u001b[36mmul!\u001b[39m. Of course, it works only if \u001b[36m@🔃\u001b[39m is directly followed by an\n",
       "        assignment that has a single multiplication on the right side. Eg:\n",
       "\n",
       "\u001b[36m  @♻ for i=1:5\u001b[39m\n",
       "\u001b[36m      @🔃 result = FuncOp₁ * A\u001b[39m\n",
       "\u001b[36m  end\u001b[39m\n",
       "\n",
       "  will be transformed to \n",
       "\n",
       "\u001b[36m  result = FuncOp₁ * A\u001b[39m\n",
       "\u001b[36m  for i = 1:5\u001b[39m\n",
       "\u001b[36m      mul!(result, FuncOp₁, A)\u001b[39m\n",
       "\u001b[36m  end\u001b[39m\n",
       "\n",
       "  Final note: \u001b[36m🔝\u001b[39m can be arbitrarily nested, and it can be embedded in\n",
       "  expressions marked by \u001b[36m🔃\u001b[39m. \u001b[36m🔃\u001b[39m can also be nested, and it can be used in\n",
       "  assigments marked by \u001b[36m@🔃\u001b[39m (along with \u001b[36m🔝\u001b[39m, of course)."
      ]
     },
     "execution_count": 39,
     "metadata": {},
     "output_type": "execute_result"
    }
   ],
   "source": [
    "?@♻"
   ]
  },
  {
   "cell_type": "markdown",
   "metadata": {},
   "source": [
    "In our example:"
   ]
  },
  {
   "cell_type": "code",
   "execution_count": 40,
   "metadata": {},
   "outputs": [
    {
     "name": "stdout",
     "output_type": "stream",
     "text": [
      "begin\n",
      "    🔝_1 = (bOp₁ - 2.5I) * bOp₁\n",
      "    C = 🔝_1 * A\n",
      "    🔃_1 = C - 3A\n",
      "    B = bOp₁ * @__dot__(🔃_1 = C - 3A)\n",
      "    🔃_2 = C + 2B\n",
      "    🔃_3 = bOp₂ * A\n",
      "    for i = 1:10\n",
      "        mul!(C, 🔝_1, A)\n",
      "        mul!(B, bOp₁, @__dot__(🔃_1 = C - 3A))\n",
      "        mul!(A, bOp₁, @__dot__(🔃_2 = C + 2B))\n",
      "        A ./= maximum(mul!(🔃_3, bOp₂, A))\n",
      "    end\n",
      "end\n"
     ]
    },
    {
     "data": {
      "text/plain": [
       "foo3 (generic function with 1 method)"
      ]
     },
     "execution_count": 40,
     "metadata": {},
     "output_type": "execute_result"
    }
   ],
   "source": [
    "FO_settings.macro_verbose = true # if true, @♻ prints the transformed loop\n",
    "function foo3(A, bOp₁, bOp₂)\n",
    "    @♻ for i in 1:10\n",
    "        @🔃 C = 🔝((bOp₁ - 2.5*I) * bOp₁) * A\n",
    "        @🔃 B = bOp₁ * 🔃(C - 3A)\n",
    "        @🔃 A .= bOp₁ * 🔃(C + 2B)\n",
    "        A ./= maximum(🔃(bOp₂ * A))\n",
    "    end\n",
    "end"
   ]
  },
  {
   "cell_type": "code",
   "execution_count": 41,
   "metadata": {},
   "outputs": [
    {
     "data": {
      "text/plain": [
       "BenchmarkTools.Trial: \n",
       "  memory estimate:  618.00 MiB\n",
       "  allocs estimate:  410\n",
       "  --------------\n",
       "  minimum time:     2.269 s (3.89% GC)\n",
       "  median time:      2.329 s (6.47% GC)\n",
       "  mean time:        2.310 s (5.63% GC)\n",
       "  maximum time:     2.331 s (6.47% GC)\n",
       "  --------------\n",
       "  samples:          3\n",
       "  evals/sample:     1"
      ]
     },
     "execution_count": 41,
     "metadata": {},
     "output_type": "execute_result"
    }
   ],
   "source": [
    "@benchmark foo3(copy(data), bOp₁, bOp₂)"
   ]
  },
  {
   "cell_type": "markdown",
   "metadata": {},
   "source": [
    "It is slightly slower and requires a bit more memory allocations because it can't detect if a buffer can be reused. But when the loop body consists of a lot of computationally heavy operations, then the difference is mostly negligible."
   ]
  },
  {
   "cell_type": "markdown",
   "metadata": {},
   "source": [
    "## Further notes\n",
    "### Global settings"
   ]
  },
  {
   "cell_type": "code",
   "execution_count": 42,
   "metadata": {},
   "outputs": [
    {
     "name": "stdout",
     "output_type": "stream",
     "text": [
      "search: \u001b[0m\u001b[1mF\u001b[22m\u001b[0m\u001b[1mO\u001b[22m\u001b[0m\u001b[1m_\u001b[22m\u001b[0m\u001b[1ms\u001b[22m\u001b[0m\u001b[1me\u001b[22m\u001b[0m\u001b[1mt\u001b[22m\u001b[0m\u001b[1mt\u001b[22m\u001b[0m\u001b[1mi\u001b[22m\u001b[0m\u001b[1mn\u001b[22m\u001b[0m\u001b[1mg\u001b[22m\u001b[0m\u001b[1ms\u001b[22m\n",
      "\n"
     ]
    },
    {
     "data": {
      "text/latex": [
       "Object that holds global settings for \\texttt{FunctionOperators} library\n",
       "\n",
       "Fields:\n",
       "\n",
       "\\begin{itemize}\n",
       "\\item \\texttt{verbose::Bool} If set to true, then allocation information and calculated plan function will be displayed upon creation (i.e., when a composite operator is first used). Default: \\texttt{false}\n",
       "\n",
       "\n",
       "\\item \\texttt{macro\\_verbose::Bool} If set to true, then recycling macro (@♻) will print the transformed loop. Default: \\texttt{false}\n",
       "\n",
       "\\end{itemize}\n"
      ],
      "text/markdown": [
       "Object that holds global settings for `FunctionOperators` library\n",
       "\n",
       "Fields:\n",
       "\n",
       "  * `verbose::Bool` If set to true, then allocation information and calculated plan function will be displayed upon creation (i.e., when a composite operator is first used). Default: `false`\n",
       "  * `macro_verbose::Bool` If set to true, then recycling macro (@♻) will print the transformed loop. Default: `false`\n"
      ],
      "text/plain": [
       "  Object that holds global settings for \u001b[36mFunctionOperators\u001b[39m library\n",
       "\n",
       "  Fields:\n",
       "\n",
       "    •    \u001b[36mverbose::Bool\u001b[39m If set to true, then allocation information and\n",
       "        calculated plan function will be displayed upon creation (i.e.,\n",
       "        when a composite operator is first used). Default: \u001b[36mfalse\u001b[39m\n",
       "\n",
       "    •    \u001b[36mmacro_verbose::Bool\u001b[39m If set to true, then recycling macro (@♻) will\n",
       "        print the transformed loop. Default: \u001b[36mfalse\u001b[39m"
      ]
     },
     "execution_count": 42,
     "metadata": {},
     "output_type": "execute_result"
    }
   ],
   "source": [
    "?FO_settings"
   ]
  },
  {
   "cell_type": "markdown",
   "metadata": {},
   "source": [
    "### Equality operator\n",
    "Equality operator is defined between (composite) `FunctionOperators` based on their names. In our case, this implies:"
   ]
  },
  {
   "cell_type": "code",
   "execution_count": 43,
   "metadata": {},
   "outputs": [
    {
     "data": {
      "text/plain": [
       "true"
      ]
     },
     "execution_count": 43,
     "metadata": {},
     "output_type": "execute_result"
    }
   ],
   "source": [
    "(bOp₁ - 2.5*I) * bOp₁ == (Op₁ - 2.5*I) * Op₁"
   ]
  },
  {
   "cell_type": "markdown",
   "metadata": {},
   "source": [
    "### Superclass\n",
    "Combination of `FunctionOperator` objects are type of `FunctionOperatorComposite`. Both class is subclass of `FunOp`."
   ]
  },
  {
   "cell_type": "code",
   "execution_count": 44,
   "metadata": {},
   "outputs": [
    {
     "data": {
      "text/plain": [
       "(true, true, false, true)"
      ]
     },
     "execution_count": 44,
     "metadata": {},
     "output_type": "execute_result"
    }
   ],
   "source": [
    "bOp₁ isa FunctionOperator,\n",
    "bOp₁ isa FunOp,\n",
    "bOp₂ * bOp₁ isa FunctionOperator, # false bacause it is FunctionOperatorComposite\n",
    "bOp₂ * bOp₁ isa FunOp"
   ]
  },
  {
   "cell_type": "code",
   "execution_count": null,
   "metadata": {},
   "outputs": [],
   "source": []
  }
 ],
 "metadata": {
  "kernelspec": {
   "display_name": "Julia 1.2.0",
   "language": "julia",
   "name": "julia-1.2"
  },
  "language_info": {
   "file_extension": ".jl",
   "mimetype": "application/julia",
   "name": "julia",
   "version": "1.2.0"
  }
 },
 "nbformat": 4,
 "nbformat_minor": 2
}

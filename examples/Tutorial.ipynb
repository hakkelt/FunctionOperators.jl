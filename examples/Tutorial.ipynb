{
 "cells": [
  {
   "cell_type": "markdown",
   "metadata": {},
   "source": [
    "# Tutorial"
   ]
  },
  {
   "cell_type": "markdown",
   "metadata": {},
   "source": [
    "<center style=\"margin-left: -50px;\"><a href=\"https://mybinder.org/v2/gh/hakkelt/FunctionOperators.jl/master?filepath=examples%2FTutorial.ipynb\" target=\"_blank\"><img src=\"https://mybinder.org/badge_logo.svg\" title=\"Binder\" alt=\"binder_link\" style=\"display:inline\"></a> or view on <a href=\"https://github.com/hakkelt/FunctionOperators.jl/blob/master/examples/Tutorial.ipynb\" target=\"_blank\">GitHub</a></center>"
   ]
  },
  {
   "cell_type": "code",
   "execution_count": 104,
   "metadata": {},
   "outputs": [],
   "source": [
    "using FunctionOperators\n",
    "using BenchmarkTools"
   ]
  },
  {
   "cell_type": "markdown",
   "metadata": {},
   "source": [
    "## Generate some 3D data"
   ]
  },
  {
   "cell_type": "code",
   "execution_count": 2,
   "metadata": {},
   "outputs": [
    {
     "data": {
      "text/plain": [
       "(300, 300, 50)"
      ]
     },
     "execution_count": 2,
     "metadata": {},
     "output_type": "execute_result"
    }
   ],
   "source": [
    "data = [sin(i+j+k)^2 for i=1:300, j=1:300, k=1:50]\n",
    "size(data)"
   ]
  },
  {
   "cell_type": "markdown",
   "metadata": {},
   "source": [
    "## Define some operators"
   ]
  },
  {
   "cell_type": "markdown",
   "metadata": {},
   "source": [
    "The following constructors are available:\n",
    " - Positional constructor #1: `FunctionOperator{eltype}(forw, inDims, outDims)`\n",
    " - Positional constructor #2: `FunctionOperator{eltype}(forw, backw, inDims, outDims)`\n",
    " - Positional constructor #3: `FunctionOperator{eltype}(name, forw, inDims, outDims)`\n",
    " - Positional constructor #4: `FunctionOperator{eltype}(name, forw, backw, inDims, outDims)`\n",
    " - Keyword constructor: `FunctionOperator{eltype}(;kwargs...)`\n",
    "where `eltype` is the type enforced on elements of input array.\n",
    "\n",
    "Arguments\n",
    " - `name::String` (Optional but strongly recommended) The operator is referenced later in error messages by this string. **Warning!** It is also used to check equality of (composite) FunctionOperators. Default value: `OpX` where X is a number incremented in each constructor-call.\n",
    " - `forw::Function` Function defining the mapping. Must accept one or two arguments. In case of two arguments, the first argument is a preallocated buffer to write the result into (to speed up code by avoiding repeated allocations). In case of both one and two arguments, the return value must be the result of the mapping.\n",
    " - `backw::Function` (Optional) Same as backw, but defines the backward mapping\n",
    " - `inDims::Tuple{Vararg{Int}}` Size of input array\n",
    " - `outDims::Tuple{Vararg{Int}}` Size of output array"
   ]
  },
  {
   "cell_type": "markdown",
   "metadata": {},
   "source": [
    "Squaring operator and square root as its adjoint operation ⟶ **Dimension preserving**"
   ]
  },
  {
   "cell_type": "code",
   "execution_count": 3,
   "metadata": {},
   "outputs": [
    {
     "data": {
      "text/plain": [
       "FunctionOperator with eltype Float64\n",
       "    Name: Op₁\n",
       "    Input dimensions: (300, 300, 50)\n",
       "    Output dimensions: (300, 300, 50)"
      ]
     },
     "execution_count": 3,
     "metadata": {},
     "output_type": "execute_result"
    }
   ],
   "source": [
    "# Using the keyword constructor:\n",
    "Op₁ = FunctionOperator{Float64}(name = \"Op₁\",\n",
    "    forw = x -> x.^2, backw = x -> sqrt.(x),\n",
    "    inDims = (300, 300, 50), outDims = (300, 300, 50))"
   ]
  },
  {
   "cell_type": "markdown",
   "metadata": {},
   "source": [
    "A weighting operator that collapses the new dimension on adjoint operation ⟶ **Changes size**"
   ]
  },
  {
   "cell_type": "code",
   "execution_count": 4,
   "metadata": {},
   "outputs": [
    {
     "data": {
      "text/plain": [
       "FunctionOperator with eltype Float64\n",
       "    Name: Op₂\n",
       "    Input dimensions: (300, 300, 50)\n",
       "    Output dimensions: (300, 300, 50, 10)"
      ]
     },
     "execution_count": 4,
     "metadata": {},
     "output_type": "execute_result"
    }
   ],
   "source": [
    "weights = [sin((i-j)*l) + 1 for i=1:300, j=1:300, k=1:50, l=1:10]\n",
    "# Using the positional constructor:\n",
    "Op₂ = FunctionOperator{Float64}(\"Op₂\",\n",
    "    x -> reshape(x, 300, 300, 50, 1) .* weights, # broadcasting: 3D to 4D\n",
    "    x -> reshape(sum(x ./ weights, dims=4), 300, 300, 50),\n",
    "    (300, 300, 50), (300, 300, 50, 10))"
   ]
  },
  {
   "cell_type": "markdown",
   "metadata": {},
   "source": [
    "## Apply these operators to the data"
   ]
  },
  {
   "cell_type": "markdown",
   "metadata": {},
   "source": [
    "Apply the first operator: Left multiplication by the operator is equal to calling the `forw` function"
   ]
  },
  {
   "cell_type": "code",
   "execution_count": 5,
   "metadata": {},
   "outputs": [
    {
     "data": {
      "text/plain": [
       "true"
      ]
     },
     "execution_count": 5,
     "metadata": {},
     "output_type": "execute_result"
    }
   ],
   "source": [
    "Op₁ * data == Op₁.forw(data)"
   ]
  },
  {
   "cell_type": "markdown",
   "metadata": {},
   "source": [
    "Result of application of the second operator: size increased"
   ]
  },
  {
   "cell_type": "code",
   "execution_count": 6,
   "metadata": {},
   "outputs": [
    {
     "data": {
      "text/plain": [
       "((300, 300, 50), (300, 300, 50, 10))"
      ]
     },
     "execution_count": 6,
     "metadata": {},
     "output_type": "execute_result"
    }
   ],
   "source": [
    "size(data), size(Op₂ * data)"
   ]
  },
  {
   "cell_type": "markdown",
   "metadata": {},
   "source": [
    "Combine the two operators:"
   ]
  },
  {
   "cell_type": "code",
   "execution_count": 7,
   "metadata": {},
   "outputs": [
    {
     "data": {
      "text/plain": [
       "true"
      ]
     },
     "execution_count": 7,
     "metadata": {},
     "output_type": "execute_result"
    }
   ],
   "source": [
    "Op₂ * Op₁ * data == Op₂.forw(Op₁.forw(data))"
   ]
  },
  {
   "cell_type": "markdown",
   "metadata": {},
   "source": [
    "Adjoint of operator == calling the `backw` function"
   ]
  },
  {
   "cell_type": "code",
   "execution_count": 8,
   "metadata": {},
   "outputs": [
    {
     "data": {
      "text/plain": [
       "true"
      ]
     },
     "execution_count": 8,
     "metadata": {},
     "output_type": "execute_result"
    }
   ],
   "source": [
    "Op₁' * Op₁ * data == Op₁.backw(Op₁.forw(data))"
   ]
  },
  {
   "cell_type": "markdown",
   "metadata": {},
   "source": [
    "Combine operators with addition and substraction"
   ]
  },
  {
   "cell_type": "code",
   "execution_count": 9,
   "metadata": {},
   "outputs": [
    {
     "data": {
      "text/plain": [
       "true"
      ]
     },
     "execution_count": 9,
     "metadata": {},
     "output_type": "execute_result"
    }
   ],
   "source": [
    "Op₂ * (Op₁ + Op₂'*Op₂) * Op₁ * data ==\n",
    "    Op₂.forw(Op₁.forw(Op₁.forw(data)) + Op₂.backw(Op₂.forw(Op₁.forw(data))))"
   ]
  },
  {
   "cell_type": "markdown",
   "metadata": {},
   "source": [
    "I is also possible to combine with `UniformScaling` from `LinearAlgebra` library"
   ]
  },
  {
   "cell_type": "code",
   "execution_count": 10,
   "metadata": {},
   "outputs": [
    {
     "data": {
      "text/plain": [
       "(true, true, true)"
      ]
     },
     "execution_count": 10,
     "metadata": {},
     "output_type": "execute_result"
    }
   ],
   "source": [
    "using LinearAlgebra\n",
    "Op₁ * I * data == Op₁.forw(data),\n",
    "Op₁ * 3I * data == Op₁.forw(3 * data),\n",
    "Op₂*(Op₁ - 2.5*I)*Op₁'*data == Op₂.forw(Op₁.forw(Op₁.backw(data))-2.5*Op₁.backw(data))"
   ]
  },
  {
   "cell_type": "markdown",
   "metadata": {},
   "source": [
    "Adjoint of nested operators also work:"
   ]
  },
  {
   "cell_type": "code",
   "execution_count": 11,
   "metadata": {},
   "outputs": [
    {
     "data": {
      "text/plain": [
       "true"
      ]
     },
     "execution_count": 11,
     "metadata": {},
     "output_type": "execute_result"
    }
   ],
   "source": [
    "(Op₂ * Op₁)' * (Op₂ * Op₁) * data == (Op₂ * Op₁)' * Op₂ * Op₁ * data ==\n",
    "    Op₁.backw(Op₂.backw(Op₂.forw(Op₁.forw(data))))"
   ]
  },
  {
   "cell_type": "markdown",
   "metadata": {},
   "source": [
    "...but *not* with addition or substraction:"
   ]
  },
  {
   "cell_type": "code",
   "execution_count": 12,
   "metadata": {},
   "outputs": [
    {
     "ename": "ErrorException",
     "evalue": "Sorry, I don't know how to calculate the adjoint of ((Op₁ + (3*I)))'",
     "output_type": "error",
     "traceback": [
      "Sorry, I don't know how to calculate the adjoint of ((Op₁ + (3*I)))'",
      "",
      "Stacktrace:",
      " [1] error(::String) at ./error.jl:33",
      " [2] getPlanAddSub(::FunctionOperators.FunctionOperatorComposite{Float64}, ::FunctionOperators.Buffer, ::Bool, ::String, ::Symbol, ::Array{FunctionOperators.Buffer,1}) at /home/hakkelt/csmri/FunctionOperators/src/getPlan.jl:105",
      " [3] getPlan at /home/hakkelt/csmri/FunctionOperators/src/getPlan.jl:133 [inlined]",
      " [4] *(::FunctionOperators.FunctionOperatorComposite{Float64}, ::Array{Float64,3}) at /home/hakkelt/csmri/FunctionOperators/src/mul.jl:46",
      " [5] top-level scope at In[12]:1"
     ]
    }
   ],
   "source": [
    "(Op₁ + 3I)' * data"
   ]
  },
  {
   "cell_type": "markdown",
   "metadata": {},
   "source": [
    "You can store a combination of some operators, and apply it later to data:"
   ]
  },
  {
   "cell_type": "code",
   "execution_count": 13,
   "metadata": {},
   "outputs": [
    {
     "data": {
      "text/plain": [
       "true"
      ]
     },
     "execution_count": 13,
     "metadata": {},
     "output_type": "execute_result"
    }
   ],
   "source": [
    "comb_OP = 5I * Op₁\n",
    "comb_OP' * comb_OP * data == (5I * Op₁)' * (5I * Op₁) * data ==\n",
    "    Op₁.backw(conj(5)*(5*Op₁.forw(data)))"
   ]
  },
  {
   "cell_type": "markdown",
   "metadata": {},
   "source": [
    "*Note that adjoint operation of scaling by a constant (in this case: 5) is the scaling by the conjugate of the constant (which is equal to the original constant in case of real numbers).*"
   ]
  },
  {
   "cell_type": "markdown",
   "metadata": {},
   "source": [
    "## Performance\n",
    "Unfortunately, our naive approach above allocates a lot of memory and is quite slow (at least compared to speed we can possibly achieve)..."
   ]
  },
  {
   "cell_type": "code",
   "execution_count": 14,
   "metadata": {},
   "outputs": [
    {
     "data": {
      "text/plain": [
       "BenchmarkTools.Trial: \n",
       "  memory estimate:  823.99 MiB\n",
       "  allocs estimate:  320\n",
       "  --------------\n",
       "  minimum time:     221.485 ms (1.00% GC)\n",
       "  median time:      223.937 ms (1.73% GC)\n",
       "  mean time:        233.019 ms (5.57% GC)\n",
       "  maximum time:     325.965 ms (32.51% GC)\n",
       "  --------------\n",
       "  samples:          22\n",
       "  evals/sample:     1"
      ]
     },
     "execution_count": 14,
     "metadata": {},
     "output_type": "execute_result"
    }
   ],
   "source": [
    "@benchmark Op₂*(Op₁ - 2.5*I)*Op₁'*data"
   ]
  },
  {
   "cell_type": "markdown",
   "metadata": {},
   "source": [
    "A possible reason is that `Op₂` accesses a global variable, and it is considered to be a bad practice. (*See: [Performance Tips](https://docs.julialang.org/en/v1/manual/performance-tips/index.html)*)\n",
    "\n",
    "We can avoid that by wrapping the definition of `Op₂` with a function:"
   ]
  },
  {
   "cell_type": "code",
   "execution_count": 15,
   "metadata": {},
   "outputs": [
    {
     "data": {
      "text/plain": [
       "FunctionOperator with eltype Float64\n",
       "    Name: Op₂\n",
       "    Input dimensions: (300, 300, 50)\n",
       "    Output dimensions: (300, 300, 50, 10)"
      ]
     },
     "execution_count": 15,
     "metadata": {},
     "output_type": "execute_result"
    }
   ],
   "source": [
    "function getOp₂()\n",
    "    weights = [sin((i-j)*l) + 1 for i=1:300, j=1:300, k=1:50, l=1:10]\n",
    "    Op₂ = FunctionOperator{Float64}(name=\"Op₂\",\n",
    "        forw = x -> reshape(x, 300, 300, 50, 1) .* weights, # broadcasting: 3D to 4D\n",
    "        backw = x -> reshape(sum(x ./ weights, dims=4), 300, 300, 50),\n",
    "        inDims=(300, 300, 50), outDims=(300, 300, 50, 10))\n",
    "end\n",
    "Op₂ = getOp₂()"
   ]
  },
  {
   "cell_type": "code",
   "execution_count": 16,
   "metadata": {},
   "outputs": [
    {
     "data": {
      "text/plain": [
       "BenchmarkTools.Trial: \n",
       "  memory estimate:  823.99 MiB\n",
       "  allocs estimate:  318\n",
       "  --------------\n",
       "  minimum time:     222.509 ms (0.89% GC)\n",
       "  median time:      234.822 ms (1.73% GC)\n",
       "  mean time:        244.348 ms (5.53% GC)\n",
       "  maximum time:     340.294 ms (31.26% GC)\n",
       "  --------------\n",
       "  samples:          21\n",
       "  evals/sample:     1"
      ]
     },
     "execution_count": 16,
     "metadata": {},
     "output_type": "execute_result"
    }
   ],
   "source": [
    "@benchmark Op₂*(Op₁ - 2.5*I)*Op₁'*data"
   ]
  },
  {
   "cell_type": "markdown",
   "metadata": {},
   "source": [
    "Well, it didn't solved our problem... In fact, the main reason of slowness is the excessive memory allocations; namely, all the intermediate results allocates a new array.\n",
    "\n",
    "We can avoid that by defining the `forw` and `backw` function a bit differently: They can also accept two arguments, where the first is a preallocated buffer (with appropriate size) that is supposed to hold the output of the operation:"
   ]
  },
  {
   "cell_type": "code",
   "execution_count": 17,
   "metadata": {},
   "outputs": [
    {
     "data": {
      "text/plain": [
       "(FunctionOperator{Float64}(Op₁, (300, 300, 50), (300, 300, 50)), FunctionOperator{Float64}(Op₂, (300, 300, 50), (300, 300, 50, 10)))"
      ]
     },
     "execution_count": 17,
     "metadata": {},
     "output_type": "execute_result"
    }
   ],
   "source": [
    "function getBufferedOps()\n",
    "    Op₁ = FunctionOperator{Float64}(name=\"Op₁\",\n",
    "        forw = (buffer, x) -> buffer .= x.^2,\n",
    "        backw = (buffer, x) -> broadcast!(sqrt, buffer, x),\n",
    "        inDims = (300, 300, 50), outDims = (300, 300, 50))\n",
    "    weights = [sin((i-j)*l) + 1 for i=1:300, j=1:300, k=1:50, l=1:10]\n",
    "    Op₂ = FunctionOperator{Float64}(name=\"Op₂\",\n",
    "        forw = (buffer,x) -> buffer .= reshape(x, 300, 300, 50, 1) .* weights,\n",
    "        backw = (buffer,x) -> dropdims(sum!(reshape(buffer, 300, 300, 50, 1), x ./ weights), dims=4),\n",
    "        inDims=(300, 300, 50), outDims=(300, 300, 50, 10))\n",
    "    Op₁, Op₂\n",
    "end\n",
    "bOp₁, bOp₂ = getBufferedOps()"
   ]
  },
  {
   "cell_type": "code",
   "execution_count": 18,
   "metadata": {},
   "outputs": [
    {
     "data": {
      "text/plain": [
       "BenchmarkTools.Trial: \n",
       "  memory estimate:  412.00 MiB\n",
       "  allocs estimate:  312\n",
       "  --------------\n",
       "  minimum time:     203.125 ms (0.00% GC)\n",
       "  median time:      220.364 ms (0.00% GC)\n",
       "  mean time:        215.907 ms (1.00% GC)\n",
       "  maximum time:     221.152 ms (0.00% GC)\n",
       "  --------------\n",
       "  samples:          24\n",
       "  evals/sample:     1"
      ]
     },
     "execution_count": 18,
     "metadata": {},
     "output_type": "execute_result"
    }
   ],
   "source": [
    "@benchmark bOp₂*(bOp₁ - 2.5*I)*bOp₁'*data"
   ]
  },
  {
   "cell_type": "markdown",
   "metadata": {},
   "source": [
    "Better, but it still should be much faster..."
   ]
  },
  {
   "cell_type": "markdown",
   "metadata": {},
   "source": [
    "#### Let's have a look at what is under the hood!\n",
    "\n",
    "When we combine operators, nothing special happens, just a wrapper object is created that defines the connections between the operators:"
   ]
  },
  {
   "cell_type": "code",
   "execution_count": 19,
   "metadata": {},
   "outputs": [
    {
     "data": {
      "text/plain": [
       "FunctionOperatorComposite with eltype Float64\n",
       "    Name: Op₂ * (Op₁ - (2.5*I)) * Op₁'\n",
       "    Input dimensions: (300, 300, 50)\n",
       "    Output dimensions: (300, 300, 50, 10)\n",
       "    Plan: no plan"
      ]
     },
     "execution_count": 19,
     "metadata": {},
     "output_type": "execute_result"
    }
   ],
   "source": [
    "Op₂*(Op₁ - 2.5*I)*Op₁'"
   ]
  },
  {
   "cell_type": "markdown",
   "metadata": {},
   "source": [
    "*Note the last last line: \"Plan: no plan\" ⟶ it is going to have a significance later...*\n",
    "\n",
    "The real magic happens when we apply this composite operator to data. To see what is going on behind the scenes, let's enable verbosity."
   ]
  },
  {
   "cell_type": "code",
   "execution_count": 20,
   "metadata": {},
   "outputs": [
    {
     "data": {
      "text/plain": [
       "true"
      ]
     },
     "execution_count": 20,
     "metadata": {},
     "output_type": "execute_result"
    }
   ],
   "source": [
    "FunctionOperators_global_settings.verbose = true"
   ]
  },
  {
   "cell_type": "markdown",
   "metadata": {},
   "source": [
    "Now, we can see, how this composite operators work: When we apply it to data, it creates a function that aggregates the functionality of all combined operators, and preallocates buffers for the intermediate results."
   ]
  },
  {
   "cell_type": "code",
   "execution_count": 21,
   "metadata": {},
   "outputs": [
    {
     "name": "stdout",
     "output_type": "stream",
     "text": [
      "Allocation of buffer1, size: (300, 300, 50, 10)\n",
      "Allocation of buffer2, size: (300, 300, 50)\n",
      "Allocation of buffer3, size: (300, 300, 50)\n",
      "Plan calculated: buffer1 .= Op₂.forw((buffer2 .= Op₁.backw(x); broadcast!(-, buffer3, Op₁.forw(buffer2), broadcast!(*, buffer3, 2.5, buffer2))))\n"
     ]
    }
   ],
   "source": [
    "Op₂*(Op₁ - 2.5*I)*Op₁' * data;"
   ]
  },
  {
   "cell_type": "markdown",
   "metadata": {},
   "source": [
    "On the other hand, `bOp₁` and `bOp₂` has a bit different aggregated function:"
   ]
  },
  {
   "cell_type": "code",
   "execution_count": 22,
   "metadata": {},
   "outputs": [
    {
     "name": "stdout",
     "output_type": "stream",
     "text": [
      "Allocation of buffer1, size: (300, 300, 50, 10)\n",
      "Allocation of buffer2, size: (300, 300, 50)\n",
      "Allocation of buffer3, size: (300, 300, 50)\n",
      "Plan calculated: buffer1 .= Op₂.forw(buffer1, (buffer2 .= Op₁.backw(buffer2, x); broadcast!(-, buffer3, Op₁.forw(buffer3, buffer2), broadcast!(*, buffer2, 2.5, buffer2))))\n"
     ]
    }
   ],
   "source": [
    "bOp₂*(bOp₁ - 2.5*I) * bOp₁' * data;"
   ]
  },
  {
   "cell_type": "markdown",
   "metadata": {},
   "source": [
    "The good thing is that the plan (along with the preallocated buffers) is cached, so if we save the combined operator to a variable, then the plan is created only once. See the difference:"
   ]
  },
  {
   "cell_type": "code",
   "execution_count": 23,
   "metadata": {},
   "outputs": [
    {
     "name": "stdout",
     "output_type": "stream",
     "text": [
      "Allocation of buffer1, size: (300, 300, 50, 10)\n",
      "Allocation of buffer2, size: (300, 300, 50)\n",
      "Allocation of buffer3, size: (300, 300, 50)\n",
      "Plan calculated: buffer1 .= Op₂.forw(buffer1, (buffer2 .= Op₁.backw(buffer2, x); broadcast!(-, buffer3, Op₁.forw(buffer3, buffer2), broadcast!(*, buffer2, 2.5, buffer2))))\n",
      "Allocation of buffer1, size: (300, 300, 50, 10)\n",
      "Allocation of buffer2, size: (300, 300, 50)\n",
      "Allocation of buffer3, size: (300, 300, 50)\n",
      "Plan calculated: buffer1 .= Op₂.forw(buffer1, (buffer2 .= Op₁.backw(buffer2, x); broadcast!(-, buffer3, Op₁.forw(buffer3, buffer2), broadcast!(*, buffer2, 2.5, buffer2))))\n"
     ]
    }
   ],
   "source": [
    "bOp₂*(bOp₁ - 2.5*I) * bOp₁' * data\n",
    "bOp₂*(bOp₁ - 2.5*I) * bOp₁' * data;"
   ]
  },
  {
   "cell_type": "code",
   "execution_count": 24,
   "metadata": {},
   "outputs": [
    {
     "name": "stdout",
     "output_type": "stream",
     "text": [
      "Allocation of buffer1, size: (300, 300, 50, 10)\n",
      "Allocation of buffer2, size: (300, 300, 50)\n",
      "Allocation of buffer3, size: (300, 300, 50)\n",
      "Plan calculated: buffer1 .= Op₂.forw(buffer1, (buffer2 .= Op₁.backw(buffer2, x); broadcast!(-, buffer3, Op₁.forw(buffer3, buffer2), broadcast!(*, buffer2, 2.5, buffer2))))\n",
      "Allocation of buffer1, size: (300, 300, 50, 10)\n"
     ]
    }
   ],
   "source": [
    "combined = bOp₂*(bOp₁ - 2.5*I) * bOp₁'\n",
    "combined * data\n",
    "combined * data;"
   ]
  },
  {
   "cell_type": "markdown",
   "metadata": {},
   "source": [
    "Now we can see that the `combined` object carries the plan already created:"
   ]
  },
  {
   "cell_type": "code",
   "execution_count": 25,
   "metadata": {},
   "outputs": [
    {
     "data": {
      "text/plain": [
       "FunctionOperatorComposite with eltype Float64\n",
       "    Name: Op₂ * (Op₁ - (2.5*I)) * Op₁'\n",
       "    Input dimensions: (300, 300, 50)\n",
       "    Output dimensions: (300, 300, 50, 10)\n",
       "    Plan: Op₂.forw(buffer1, (buffer2 .= Op₁.backw(buffer2, x); broadcast!(-, buffer3, Op₁.forw(buffer3, buffer2), broadcast!(*, buffer2, 2.5, buffer2))))"
      ]
     },
     "execution_count": 25,
     "metadata": {},
     "output_type": "execute_result"
    }
   ],
   "source": [
    "combined"
   ]
  },
  {
   "cell_type": "markdown",
   "metadata": {},
   "source": [
    "And a side-note here: We can also set this plan manually, if the computed one is wrong, or FunctionOperators was not possible to compute. For example, adjoint of addition:"
   ]
  },
  {
   "cell_type": "code",
   "execution_count": 26,
   "metadata": {},
   "outputs": [
    {
     "data": {
      "text/plain": [
       "FunctionOperatorComposite with eltype Float64\n",
       "    Name: ((Op₁ + (2.5*I)))'\n",
       "    Input dimensions: (300, 300, 50)\n",
       "    Output dimensions: (300, 300, 50)\n",
       "    Plan: no plan"
      ]
     },
     "execution_count": 26,
     "metadata": {},
     "output_type": "execute_result"
    }
   ],
   "source": [
    "tricky = (bOp₁ + 2.5I)'"
   ]
  },
  {
   "cell_type": "code",
   "execution_count": 27,
   "metadata": {},
   "outputs": [
    {
     "name": "stdout",
     "output_type": "stream",
     "text": [
      "Allocation of buffer1, size: (300, 300, 50)\n"
     ]
    },
    {
     "ename": "ErrorException",
     "evalue": "Sorry, I don't know how to calculate the adjoint of ((Op₁ + (2.5*I)))'",
     "output_type": "error",
     "traceback": [
      "Sorry, I don't know how to calculate the adjoint of ((Op₁ + (2.5*I)))'",
      "",
      "Stacktrace:",
      " [1] error(::String) at ./error.jl:33",
      " [2] getPlanAddSub(::FunctionOperators.FunctionOperatorComposite{Float64}, ::FunctionOperators.Buffer, ::Bool, ::String, ::Symbol, ::Array{FunctionOperators.Buffer,1}) at /home/hakkelt/csmri/FunctionOperators/src/getPlan.jl:105",
      " [3] getPlan at /home/hakkelt/csmri/FunctionOperators/src/getPlan.jl:133 [inlined]",
      " [4] *(::FunctionOperators.FunctionOperatorComposite{Float64}, ::Array{Float64,3}) at /home/hakkelt/csmri/FunctionOperators/src/mul.jl:46",
      " [5] top-level scope at In[27]:1"
     ]
    }
   ],
   "source": [
    "tricky * data"
   ]
  },
  {
   "cell_type": "code",
   "execution_count": 28,
   "metadata": {},
   "outputs": [
    {
     "data": {
      "text/plain": [
       "FunctionOperatorComposite with eltype Float64\n",
       "    Name: ((Op₁ + (2.5*I)))'\n",
       "    Input dimensions: (300, 300, 50)\n",
       "    Output dimensions: (300, 300, 50)\n",
       "    Plan: √(2 - x) / √(2x)"
      ]
     },
     "execution_count": 28,
     "metadata": {},
     "output_type": "execute_result"
    }
   ],
   "source": [
    "setPlan(tricky, (buffer, x) -> @.(√(2 - x) / √(2x)), \"√(2 - x) / √(2x)\")\n",
    "tricky"
   ]
  },
  {
   "cell_type": "code",
   "execution_count": 29,
   "metadata": {},
   "outputs": [
    {
     "name": "stdout",
     "output_type": "stream",
     "text": [
      "Allocation of buffer1, size: (300, 300, 50)\n"
     ]
    },
    {
     "data": {
      "text/plain": [
       "true"
      ]
     },
     "execution_count": 29,
     "metadata": {},
     "output_type": "execute_result"
    }
   ],
   "source": [
    "tricky * data == @. √(2 - data) / √(2data)"
   ]
  },
  {
   "cell_type": "markdown",
   "metadata": {},
   "source": [
    "But back to the question of performance: If we preallocate an array for the output manually, and use `mul!`, then we can save also the reallocation of `buffer1`:"
   ]
  },
  {
   "cell_type": "code",
   "execution_count": 30,
   "metadata": {},
   "outputs": [
    {
     "name": "stdout",
     "output_type": "stream",
     "text": [
      "buffer1 = <previously allocated>\n",
      "Allocation of buffer2, size: (300, 300, 50)\n",
      "Allocation of buffer3, size: (300, 300, 50)\n",
      "Plan calculated: buffer1 .= Op₂.forw(buffer1, (buffer2 .= Op₁.backw(buffer2, x); broadcast!(-, buffer3, Op₁.forw(buffer3, buffer2), broadcast!(*, buffer2, 2.5, buffer2))))\n"
     ]
    }
   ],
   "source": [
    "combined = bOp₂ * (bOp₁ - 2.5*I) * bOp₁'\n",
    "output = Array{Float64}(undef, 300, 300, 50, 10)\n",
    "mul!(output, combined, data)\n",
    "mul!(output, combined, data);"
   ]
  },
  {
   "cell_type": "markdown",
   "metadata": {},
   "source": [
    "If we apply the combined operator multiple times, we can save a lot on computation time:"
   ]
  },
  {
   "cell_type": "code",
   "execution_count": 31,
   "metadata": {},
   "outputs": [
    {
     "data": {
      "text/plain": [
       "BenchmarkTools.Trial: \n",
       "  memory estimate:  256 bytes\n",
       "  allocs estimate:  7\n",
       "  --------------\n",
       "  minimum time:     137.604 ms (0.00% GC)\n",
       "  median time:      137.707 ms (0.00% GC)\n",
       "  mean time:        137.705 ms (0.00% GC)\n",
       "  maximum time:     137.920 ms (0.00% GC)\n",
       "  --------------\n",
       "  samples:          37\n",
       "  evals/sample:     1"
      ]
     },
     "execution_count": 31,
     "metadata": {},
     "output_type": "execute_result"
    }
   ],
   "source": [
    "FunctionOperators_global_settings.verbose = false\n",
    "@benchmark mul!(output, combined, data)"
   ]
  },
  {
   "cell_type": "markdown",
   "metadata": {},
   "source": [
    "Let's compare it to a manually function with identical function and optimizations"
   ]
  },
  {
   "cell_type": "code",
   "execution_count": 32,
   "metadata": {},
   "outputs": [
    {
     "data": {
      "text/plain": [
       "getAggregatedFunction (generic function with 1 method)"
      ]
     },
     "execution_count": 32,
     "metadata": {},
     "output_type": "execute_result"
    }
   ],
   "source": [
    "function getAggregatedFunction()\n",
    "    weights = [sin((i-j)*l) + 1 for i=1:300, j=1:300, k=1:50, l=1:10]\n",
    "    buffer2 = Array{Float64}(undef, 300, 300, 50)\n",
    "    buffer3 = Array{Float64}(undef, 300, 300, 50)\n",
    "    buffer4 = Array{Float64}(undef, 300, 300, 50)\n",
    "    (buffer, x) -> begin\n",
    "        broadcast!(sqrt, buffer2, x)  # Of course, this two lines can be optimized to\n",
    "        buffer3 .= buffer2 .^ 2       # (√x)^2 = |x|, but let's now avoid this fact\n",
    "        broadcast!(-, buffer3, buffer3, broadcast!(*, buffer4, 2.5, buffer2))\n",
    "        buffer .= reshape(buffer3, 300, 300, 50, 1) .* weights\n",
    "    end\n",
    "end"
   ]
  },
  {
   "cell_type": "code",
   "execution_count": 33,
   "metadata": {},
   "outputs": [
    {
     "data": {
      "text/plain": [
       "BenchmarkTools.Trial: \n",
       "  memory estimate:  128 bytes\n",
       "  allocs estimate:  2\n",
       "  --------------\n",
       "  minimum time:     146.955 ms (0.00% GC)\n",
       "  median time:      147.060 ms (0.00% GC)\n",
       "  mean time:        147.075 ms (0.00% GC)\n",
       "  maximum time:     147.415 ms (0.00% GC)\n",
       "  --------------\n",
       "  samples:          34\n",
       "  evals/sample:     1"
      ]
     },
     "execution_count": 33,
     "metadata": {},
     "output_type": "execute_result"
    }
   ],
   "source": [
    "aggrFun = getAggregatedFunction()\n",
    "@benchmark aggrFun(output, data)"
   ]
  },
  {
   "cell_type": "markdown",
   "metadata": {},
   "source": [
    "Basically, there is no overhead of using FunctionOperators!"
   ]
  },
  {
   "cell_type": "markdown",
   "metadata": {},
   "source": [
    "## Syntactic sugar\n",
    "Let's consider the following function:"
   ]
  },
  {
   "cell_type": "code",
   "execution_count": 34,
   "metadata": {},
   "outputs": [
    {
     "data": {
      "text/plain": [
       "foo1 (generic function with 1 method)"
      ]
     },
     "execution_count": 34,
     "metadata": {},
     "output_type": "execute_result"
    }
   ],
   "source": [
    "function foo1(A, bOp₁, bOp₂)\n",
    "    for i in 1:10\n",
    "        C = (bOp₁ - 2.5*I) * bOp₁ * A\n",
    "        B = bOp₁ * (C - 3A)\n",
    "        A .= bOp₁ * (C + 2B)\n",
    "        A ./= maximum(bOp₂ * A)\n",
    "    end\n",
    "end"
   ]
  },
  {
   "cell_type": "code",
   "execution_count": 35,
   "metadata": {},
   "outputs": [
    {
     "data": {
      "text/plain": [
       "BenchmarkTools.Trial: \n",
       "  memory estimate:  6.07 GiB\n",
       "  allocs estimate:  2292\n",
       "  --------------\n",
       "  minimum time:     3.743 s (1.29% GC)\n",
       "  median time:      3.840 s (2.67% GC)\n",
       "  mean time:        3.840 s (2.67% GC)\n",
       "  maximum time:     3.937 s (3.99% GC)\n",
       "  --------------\n",
       "  samples:          2\n",
       "  evals/sample:     1"
      ]
     },
     "execution_count": 35,
     "metadata": {},
     "output_type": "execute_result"
    }
   ],
   "source": [
    "@benchmark foo1(copy(data), bOp₁, bOp₂)"
   ]
  },
  {
   "cell_type": "markdown",
   "metadata": {},
   "source": [
    "Using the methods we have seen earlier, we can quickly optimize this code, and we get something like that:"
   ]
  },
  {
   "cell_type": "code",
   "execution_count": 36,
   "metadata": {},
   "outputs": [
    {
     "data": {
      "text/plain": [
       "foo2 (generic function with 1 method)"
      ]
     },
     "execution_count": 36,
     "metadata": {},
     "output_type": "execute_result"
    }
   ],
   "source": [
    "function foo2(A, bOp₁, bOp₂)\n",
    "    combOp = (bOp₁ - 2.5*I) * bOp₁\n",
    "    C = similar(A)\n",
    "    buffer1 = similar(A)\n",
    "    B = similar(A)\n",
    "    buffer2 = Array{Float64}(undef, (300, 300, 50, 10))\n",
    "    for i = 1:10\n",
    "        mul!(C, combOp, A)\n",
    "        @. buffer1 = C - 3A\n",
    "        mul!(B, bOp₁, buffer1)\n",
    "        @. buffer1 = C + 2B\n",
    "        mul!(A, bOp₁, buffer1)\n",
    "        A ./= maximum(mul!(buffer2, bOp₂, A))\n",
    "    end\n",
    "end"
   ]
  },
  {
   "cell_type": "code",
   "execution_count": 37,
   "metadata": {},
   "outputs": [
    {
     "data": {
      "text/plain": [
       "BenchmarkTools.Trial: \n",
       "  memory estimate:  515.00 MiB\n",
       "  allocs estimate:  284\n",
       "  --------------\n",
       "  minimum time:     2.597 s (0.00% GC)\n",
       "  median time:      2.626 s (0.08% GC)\n",
       "  mean time:        2.626 s (0.08% GC)\n",
       "  maximum time:     2.656 s (0.16% GC)\n",
       "  --------------\n",
       "  samples:          2\n",
       "  evals/sample:     1"
      ]
     },
     "execution_count": 37,
     "metadata": {},
     "output_type": "execute_result"
    }
   ],
   "source": [
    "@benchmark foo2(copy(data), bOp₁, bOp₂)"
   ]
  },
  {
   "cell_type": "markdown",
   "metadata": {},
   "source": [
    "This speedup is pretty much pleasing, but the tradeoff is that the code is much less readable now. To avoid the mess caused by manual optimization, the `FunctionOperators` library offers the `@♻` macro that does the same automatically using the following markers: `🔝`, `🔃`, and `@🔃`."
   ]
  },
  {
   "cell_type": "code",
   "execution_count": 38,
   "metadata": {},
   "outputs": [
    {
     "data": {
      "text/latex": [
       "\\textbf{Recycling macro}: Reduce the number of allocations inside a for loop by preallocation of arrays for the outputs of marked operations. Markers: \\texttt{@♻} (\\texttt{{\\textbackslash}:recycle:}), \\texttt{🔝} (\\texttt{{\\textbackslash}:top:}), \\texttt{🔃} (\\texttt{{\\textbackslash}:arrows\\_clockwise:}), and \\texttt{@🔃}\n",
       "\n",
       "Macro @♻ should be placed right before a for loop, and then it executes the following substitutions:\n",
       "\n",
       "\\begin{itemize}\n",
       "\\item \\textbf{Expressions marked by \\texttt{🔝}:}\n",
       "\n",
       "\\end{itemize}\n",
       "They are going to be calculated before the loop, the result is stored in a variable, and the expression will be replaced by that variable. It also can be useful when a constant expression is used in the loop, but the idea behind creating that substitution is to allow caching of composite FunctionMatrices. Eg:\n",
       "\n",
       "\\begin{verbatim}\n",
       "@♻ for i=1:5\n",
       "    result = 🔝((FuncOp₁ + 2I) * FuncOp₂) * data\n",
       "end\n",
       "\\end{verbatim}\n",
       "will be transformed to \n",
       "\n",
       "\\begin{verbatim}\n",
       "🔝_1 = (FuncOp₁ + 2I) * FuncOp₂\n",
       "for i = 1:5\n",
       "    result = 🔝_1 * data\n",
       "end\n",
       "\\end{verbatim}\n",
       "so that way plan is calculated only once, and also buffers for intermediate results of the composite operator are allocated once.\n",
       "\n",
       "\\begin{itemize}\n",
       "\\item \\textbf{Expressions marked by \\texttt{🔃}:}\n",
       "\n",
       "\\end{itemize}\n",
       "They are going to be calculated before the loop (to allocate an array to store the result), but the expression is also evaluated in each loop iteration. The difference after the substitution is that the result of the expression is always saved to the preallocated array. Eg:\n",
       "\n",
       "\\begin{verbatim}\n",
       "@♻ for i=1:5\n",
       "    result = FuncOp₁ * 🔃(A + B)\n",
       "end\n",
       "\\end{verbatim}\n",
       "will be transformed to \n",
       "\n",
       "\\begin{verbatim}\n",
       "🔃_1 = A + B\n",
       "for i = 1:5\n",
       "    result = FuncOp₁ * @.(🔃_1 = A + B)\n",
       "end\n",
       "\\end{verbatim}\n",
       "This transformation first allocates an array named \\texttt{🔃\\_1}, and then in every iteration it is recalculated, saved to \\texttt{🔃\\_1}, and the this value is used for the rest of the operation (i.e.: \\texttt{FuncOp₁ * 🔃\\_1}. Note that \\texttt{@.} macro is inserted before the inline assignment. This is needed otherwise \\texttt{A + B} would allocate a new array before it is stored in \\texttt{🔃\\_1}. \\textbf{Warning!} It can break your code, e.g. \\texttt{@.(🔃\\_1 = A * B) ≠ (🔃\\_1 = A .* B)} \\{matrix multiplication vs. elementwise multiplication\\}! On the other hand, when the marked expression consists only a multiplication, then it is transformed into a call of \\texttt{mul!}. Eg:\n",
       "\n",
       "\\begin{verbatim}\n",
       "@♻ for i=1:5\n",
       "    result = FuncOp₁ * 🔃(A * B)\n",
       "end\n",
       "\\end{verbatim}\n",
       "will be transformed to \n",
       "\n",
       "\\begin{verbatim}\n",
       "🔃_1 = A * B\n",
       "for i = 1:5\n",
       "    result = FuncOp₁ * mul!(🔃_1, A, B)\n",
       "end\n",
       "\\end{verbatim}\n",
       "\\begin{itemize}\n",
       "\\item \\textbf{Lastly, assignments marked by \\texttt{@🔃}:}\n",
       "\n",
       "\\end{itemize}\n",
       "They will be transformed into a call of \\texttt{mul!}. Of course, it works only if \\texttt{@🔃} is directly followed by an assignment that has a single multiplication on the right side. Eg:\n",
       "\n",
       "\\begin{verbatim}\n",
       "@♻ for i=1:5\n",
       "    @🔃 result = FuncOp₁ * A\n",
       "end\n",
       "\\end{verbatim}\n",
       "will be transformed to \n",
       "\n",
       "\\begin{verbatim}\n",
       "result = FuncOp₁ * A\n",
       "for i = 1:5\n",
       "    mul!(result, FuncOp₁, A)\n",
       "end\n",
       "\\end{verbatim}\n",
       "Final note: \\texttt{🔝} can be arbitrarily nested, and it can be embedded in expressions marked by \\texttt{🔃}. \\texttt{🔃} can also be nested, and it can be used in assigments marked by \\texttt{@🔃} (along with \\texttt{🔝}, of course).\n",
       "\n"
      ],
      "text/markdown": [
       "**Recycling macro**: Reduce the number of allocations inside a for loop by preallocation of arrays for the outputs of marked operations. Markers: `@♻` (`\\:recycle:`), `🔝` (`\\:top:`), `🔃` (`\\:arrows_clockwise:`), and `@🔃`\n",
       "\n",
       "Macro @♻ should be placed right before a for loop, and then it executes the following substitutions:\n",
       "\n",
       "  * **Expressions marked by `🔝`:**\n",
       "\n",
       "They are going to be calculated before the loop, the result is stored in a variable, and the expression will be replaced by that variable. It also can be useful when a constant expression is used in the loop, but the idea behind creating that substitution is to allow caching of composite FunctionMatrices. Eg:\n",
       "\n",
       "```julia\n",
       "@♻ for i=1:5\n",
       "    result = 🔝((FuncOp₁ + 2I) * FuncOp₂) * data\n",
       "end\n",
       "```\n",
       "\n",
       "will be transformed to \n",
       "\n",
       "```julia\n",
       "🔝_1 = (FuncOp₁ + 2I) * FuncOp₂\n",
       "for i = 1:5\n",
       "    result = 🔝_1 * data\n",
       "end\n",
       "```\n",
       "\n",
       "so that way plan is calculated only once, and also buffers for intermediate results of the composite operator are allocated once.\n",
       "\n",
       "  * **Expressions marked by `🔃`:**\n",
       "\n",
       "They are going to be calculated before the loop (to allocate an array to store the result), but the expression is also evaluated in each loop iteration. The difference after the substitution is that the result of the expression is always saved to the preallocated array. Eg:\n",
       "\n",
       "```julia\n",
       "@♻ for i=1:5\n",
       "    result = FuncOp₁ * 🔃(A + B)\n",
       "end\n",
       "```\n",
       "\n",
       "will be transformed to \n",
       "\n",
       "```julia\n",
       "🔃_1 = A + B\n",
       "for i = 1:5\n",
       "    result = FuncOp₁ * @.(🔃_1 = A + B)\n",
       "end\n",
       "```\n",
       "\n",
       "This transformation first allocates an array named `🔃_1`, and then in every iteration it is recalculated, saved to `🔃_1`, and the this value is used for the rest of the operation (i.e.: `FuncOp₁ * 🔃_1`. Note that `@.` macro is inserted before the inline assignment. This is needed otherwise `A + B` would allocate a new array before it is stored in `🔃_1`. **Warning!** It can break your code, e.g. `@.(🔃_1 = A * B) ≠ (🔃_1 = A .* B)` {matrix multiplication vs. elementwise multiplication}! On the other hand, when the marked expression consists only a multiplication, then it is transformed into a call of `mul!`. Eg:\n",
       "\n",
       "```julia\n",
       "@♻ for i=1:5\n",
       "    result = FuncOp₁ * 🔃(A * B)\n",
       "end\n",
       "```\n",
       "\n",
       "will be transformed to \n",
       "\n",
       "```julia\n",
       "🔃_1 = A * B\n",
       "for i = 1:5\n",
       "    result = FuncOp₁ * mul!(🔃_1, A, B)\n",
       "end\n",
       "```\n",
       "\n",
       "  * **Lastly, assignments marked by `@🔃`:**\n",
       "\n",
       "They will be transformed into a call of `mul!`. Of course, it works only if `@🔃` is directly followed by an assignment that has a single multiplication on the right side. Eg:\n",
       "\n",
       "```julia\n",
       "@♻ for i=1:5\n",
       "    @🔃 result = FuncOp₁ * A\n",
       "end\n",
       "```\n",
       "\n",
       "will be transformed to \n",
       "\n",
       "```julia\n",
       "result = FuncOp₁ * A\n",
       "for i = 1:5\n",
       "    mul!(result, FuncOp₁, A)\n",
       "end\n",
       "```\n",
       "\n",
       "Final note: `🔝` can be arbitrarily nested, and it can be embedded in expressions marked by `🔃`. `🔃` can also be nested, and it can be used in assigments marked by `@🔃` (along with `🔝`, of course).\n"
      ],
      "text/plain": [
       "  \u001b[1mRecycling macro\u001b[22m: Reduce the number of allocations inside a for loop by\n",
       "  preallocation of arrays for the outputs of marked operations. Markers: \u001b[36m@♻\u001b[39m\n",
       "  (\u001b[36m\\:recycle:\u001b[39m), \u001b[36m🔝\u001b[39m (\u001b[36m\\:top:\u001b[39m), \u001b[36m🔃\u001b[39m (\u001b[36m\\:arrows_clockwise:\u001b[39m), and \u001b[36m@🔃\u001b[39m\n",
       "\n",
       "  Macro @♻ should be placed right before a for loop, and then it executes the\n",
       "  following substitutions:\n",
       "\n",
       "    •    \u001b[1mExpressions marked by \u001b[36m🔝\u001b[39m:\u001b[22m\n",
       "\n",
       "  They are going to be calculated before the loop, the result is stored in a\n",
       "  variable, and the expression will be replaced by that variable. It also can\n",
       "  be useful when a constant expression is used in the loop, but the idea\n",
       "  behind creating that substitution is to allow caching of composite\n",
       "  FunctionMatrices. Eg:\n",
       "\n",
       "\u001b[36m  @♻ for i=1:5\u001b[39m\n",
       "\u001b[36m      result = 🔝((FuncOp₁ + 2I) * FuncOp₂) * data\u001b[39m\n",
       "\u001b[36m  end\u001b[39m\n",
       "\n",
       "  will be transformed to \n",
       "\n",
       "\u001b[36m  🔝_1 = (FuncOp₁ + 2I) * FuncOp₂\u001b[39m\n",
       "\u001b[36m  for i = 1:5\u001b[39m\n",
       "\u001b[36m      result = 🔝_1 * data\u001b[39m\n",
       "\u001b[36m  end\u001b[39m\n",
       "\n",
       "  so that way plan is calculated only once, and also buffers for intermediate\n",
       "  results of the composite operator are allocated once.\n",
       "\n",
       "    •    \u001b[1mExpressions marked by \u001b[36m🔃\u001b[39m:\u001b[22m\n",
       "\n",
       "  They are going to be calculated before the loop (to allocate an array to\n",
       "  store the result), but the expression is also evaluated in each loop\n",
       "  iteration. The difference after the substitution is that the result of the\n",
       "  expression is always saved to the preallocated array. Eg:\n",
       "\n",
       "\u001b[36m  @♻ for i=1:5\u001b[39m\n",
       "\u001b[36m      result = FuncOp₁ * 🔃(A + B)\u001b[39m\n",
       "\u001b[36m  end\u001b[39m\n",
       "\n",
       "  will be transformed to \n",
       "\n",
       "\u001b[36m  🔃_1 = A + B\u001b[39m\n",
       "\u001b[36m  for i = 1:5\u001b[39m\n",
       "\u001b[36m      result = FuncOp₁ * @.(🔃_1 = A + B)\u001b[39m\n",
       "\u001b[36m  end\u001b[39m\n",
       "\n",
       "  This transformation first allocates an array named \u001b[36m🔃_1\u001b[39m, and then in every\n",
       "  iteration it is recalculated, saved to \u001b[36m🔃_1\u001b[39m, and the this value is used for\n",
       "  the rest of the operation (i.e.: \u001b[36mFuncOp₁ * 🔃_1\u001b[39m. Note that \u001b[36m@.\u001b[39m macro is\n",
       "  inserted before the inline assignment. This is needed otherwise \u001b[36mA + B\u001b[39m would\n",
       "  allocate a new array before it is stored in \u001b[36m🔃_1\u001b[39m. \u001b[1mWarning!\u001b[22m It can break your\n",
       "  code, e.g. \u001b[36m@.(🔃_1 = A * B) ≠ (🔃_1 = A .* B)\u001b[39m {matrix multiplication vs.\n",
       "  elementwise multiplication}! On the other hand, when the marked expression\n",
       "  consists only a multiplication, then it is transformed into a call of \u001b[36mmul!\u001b[39m.\n",
       "  Eg:\n",
       "\n",
       "\u001b[36m  @♻ for i=1:5\u001b[39m\n",
       "\u001b[36m      result = FuncOp₁ * 🔃(A * B)\u001b[39m\n",
       "\u001b[36m  end\u001b[39m\n",
       "\n",
       "  will be transformed to \n",
       "\n",
       "\u001b[36m  🔃_1 = A * B\u001b[39m\n",
       "\u001b[36m  for i = 1:5\u001b[39m\n",
       "\u001b[36m      result = FuncOp₁ * mul!(🔃_1, A, B)\u001b[39m\n",
       "\u001b[36m  end\u001b[39m\n",
       "\n",
       "    •    \u001b[1mLastly, assignments marked by \u001b[36m@🔃\u001b[39m:\u001b[22m\n",
       "\n",
       "  They will be transformed into a call of \u001b[36mmul!\u001b[39m. Of course, it works only if \u001b[36m@🔃\u001b[39m\n",
       "  is directly followed by an assignment that has a single multiplication on\n",
       "  the right side. Eg:\n",
       "\n",
       "\u001b[36m  @♻ for i=1:5\u001b[39m\n",
       "\u001b[36m      @🔃 result = FuncOp₁ * A\u001b[39m\n",
       "\u001b[36m  end\u001b[39m\n",
       "\n",
       "  will be transformed to \n",
       "\n",
       "\u001b[36m  result = FuncOp₁ * A\u001b[39m\n",
       "\u001b[36m  for i = 1:5\u001b[39m\n",
       "\u001b[36m      mul!(result, FuncOp₁, A)\u001b[39m\n",
       "\u001b[36m  end\u001b[39m\n",
       "\n",
       "  Final note: \u001b[36m🔝\u001b[39m can be arbitrarily nested, and it can be embedded in\n",
       "  expressions marked by \u001b[36m🔃\u001b[39m. \u001b[36m🔃\u001b[39m can also be nested, and it can be used in\n",
       "  assigments marked by \u001b[36m@🔃\u001b[39m (along with \u001b[36m🔝\u001b[39m, of course)."
      ]
     },
     "execution_count": 38,
     "metadata": {},
     "output_type": "execute_result"
    }
   ],
   "source": [
    "?@♻"
   ]
  },
  {
   "cell_type": "markdown",
   "metadata": {},
   "source": [
    "In our example:"
   ]
  },
  {
   "cell_type": "code",
   "execution_count": 39,
   "metadata": {},
   "outputs": [
    {
     "name": "stdout",
     "output_type": "stream",
     "text": [
      "begin\n",
      "    🔝_1 = (bOp₁ - 2.5I) * bOp₁\n",
      "    C = 🔝_1 * A\n",
      "    🔃_2 = C - 3A\n",
      "    🔃_3 = 3A\n",
      "    B = bOp₁ * (🔃_3 .= C .- mul!(🔃_3, 3, A))\n",
      "    🔃_5 = C + 2B\n",
      "    🔃_6 = 2B\n",
      "    🔃_7 = bOp₂ * A\n",
      "    for i = 1:10\n",
      "        mul!(C, 🔝_1, A)\n",
      "        mul!(B, bOp₁, 🔃_3 .= C .- mul!(🔃_3, 3, A))\n",
      "        mul!(A, bOp₁, 🔃_6 .= C .+ mul!(🔃_6, 2, B))\n",
      "        A ./= maximum(mul!(🔃_7, bOp₂, A))\n",
      "    end\n",
      "end\n"
     ]
    },
    {
     "data": {
      "text/plain": [
       "foo3 (generic function with 1 method)"
      ]
     },
     "execution_count": 39,
     "metadata": {},
     "output_type": "execute_result"
    }
   ],
   "source": [
    "FunctionOperators_global_settings.macro_verbose = true # if true, @♻ prints the transformed loop\n",
    "function foo3(A, bOp₁, bOp₂)\n",
    "    @♻ for i in 1:10\n",
    "        @🔃 C = 🔝((bOp₁ - 2.5*I) * bOp₁) * A\n",
    "        @🔃 B = bOp₁ * 🔃(C - 3A)\n",
    "        @🔃 A .= bOp₁ * 🔃(C + 2B)\n",
    "        A ./= maximum(🔃(bOp₂ * A))\n",
    "    end\n",
    "end"
   ]
  },
  {
   "cell_type": "code",
   "execution_count": 40,
   "metadata": {},
   "outputs": [
    {
     "data": {
      "text/plain": [
       "BenchmarkTools.Trial: \n",
       "  memory estimate:  686.66 MiB\n",
       "  allocs estimate:  419\n",
       "  --------------\n",
       "  minimum time:     2.962 s (0.00% GC)\n",
       "  median time:      3.017 s (0.12% GC)\n",
       "  mean time:        3.017 s (0.12% GC)\n",
       "  maximum time:     3.072 s (0.24% GC)\n",
       "  --------------\n",
       "  samples:          2\n",
       "  evals/sample:     1"
      ]
     },
     "execution_count": 40,
     "metadata": {},
     "output_type": "execute_result"
    }
   ],
   "source": [
    "@benchmark foo3(copy(data), bOp₁, bOp₂)"
   ]
  },
  {
   "cell_type": "markdown",
   "metadata": {},
   "source": [
    "It is slightly slower and requires a bit more memory allocations because it can't detect if a buffer can be reused. But when the loop body consists of a lot of computationally heavy operations, then the difference is mostly negligible."
   ]
  },
  {
   "cell_type": "markdown",
   "metadata": {},
   "source": [
    "However, use of `@♻` is still tedious for more complex algorithms. Fortunately, the same (or even better) optimization can be achieved by using the `@recycle` macro!"
   ]
  },
  {
   "cell_type": "code",
   "execution_count": 58,
   "metadata": {},
   "outputs": [
    {
     "data": {
      "text/latex": [
       "Speed up iteratively executed code fragments with many matrix operations by transforming code in such a way that preserves arrays allocated for intermediate results, and re-use them for subsequent iterations.\n",
       "\n",
       "First variant:\n",
       "\n",
       "\\begin{verbatim}\n",
       "@recycle <code to be optimized>\n",
       "\\end{verbatim}\n",
       "Second variant:\n",
       "\n",
       "\\begin{verbatim}\n",
       "@recycle(arrays = [<list of array variables>], funops = [<list of funop variables], numbers = [<list of number variables>], <code to be optimized>)\n",
       "\\end{verbatim}\n",
       "The \\textbf{first variant} is the more convenient one that tries to guess the type of variables (the other variant requires its user to declare explicitly the list of variables which are type of Array, FunOp, and Number. As a tradeoff, this variant fails when the optimized code contains either a closure or non-const global variable.\n",
       "\n",
       "The \\textbf{second variant} is the more flexible (and also more verbose) one one that requires its user to declare explicitly the list of variables which are type of Array, FunOp, and Number. The other variant tries to guess the type of variables, thus it is more convenient, but as a tradeoff, that variant fails when the optimized code contains either a closure or non-const global variable. On the other hand, this (more verbose) variant is free from these limitations. \\emph{Note: All of the \"keyword arguments\" are optional, and also their order is arbitrary.}\n",
       "\n",
       "An example to first variant: This function\n",
       "\n",
       "\\begin{verbatim}\n",
       "function foo()\n",
       "    A = rand(100,100)\n",
       "    B = rand(100,100)\n",
       "    @recycle for i = 1:5\n",
       "        A += A / 2 + B\n",
       "        C = A * B + 5\n",
       "    end\n",
       "end\n",
       "\\end{verbatim}\n",
       "is turned into the following:\n",
       "\n",
       "\\begin{verbatim}\n",
       "function foo()\n",
       "    A = rand(100,100)\n",
       "    B = rand(100,100)\n",
       "    (C, 🔃₂) = fill(nothing, 2)\n",
       "    (is_first_run₁,) = fill(true, 1)\n",
       "    for i = 1:5\n",
       "        A .+= A ./ 2 .+ B\n",
       "        if is_first_run₁\n",
       "            is_first_run₁ = false\n",
       "            🔃₂ = A * B\n",
       "            C = 🔃₂ .+ 5\n",
       "        else\n",
       "            mul!(🔃₂, A, B)\n",
       "            C .= 🔃₂ .+ 5\n",
       "        end\n",
       "    end\n",
       "end\n",
       "\\end{verbatim}\n",
       "Another example showing what second variant can do (and the first can't):\n",
       "\n",
       "\\begin{verbatim}\n",
       "bar = @recycle(arrays=[A,B], (A, B) -> begin\n",
       "    A += A / 2 + B\n",
       "    B = A * B .+ 5\n",
       "end)\n",
       "function baz()\n",
       "    A = rand(100,100)\n",
       "    B = rand(100,100)\n",
       "    for i = 1:5\n",
       "        bar(A,B)\n",
       "    end\n",
       "end\n",
       "\\end{verbatim}\n",
       "is turned into the following:\n",
       "\n",
       "\\begin{verbatim}\n",
       "bar = begin\n",
       "    (🔃₁,) = fill(nothing, 1)\n",
       "    (is_first_run₁,) = fill(true, 1)\n",
       "    (A, B)->begin\n",
       "            A .+= A ./ 2 .+ B\n",
       "            begin\n",
       "                if is_first_run₁\n",
       "                    is_first_run₁ = false\n",
       "                    🔃₁ = A * B\n",
       "                else\n",
       "                    mul!(🔃₁, A, B)\n",
       "                end\n",
       "                B .= 🔃₁ .+ 5\n",
       "            end\n",
       "        end\n",
       "end\n",
       "function baz()\n",
       "    A = rand(100,100)\n",
       "    B = rand(100,100)\n",
       "    for i = 1:5\n",
       "        bar(A,B)\n",
       "    end\n",
       "end\n",
       "\\end{verbatim}\n"
      ],
      "text/markdown": [
       "Speed up iteratively executed code fragments with many matrix operations by transforming code in such a way that preserves arrays allocated for intermediate results, and re-use them for subsequent iterations.\n",
       "\n",
       "First variant:\n",
       "\n",
       "```julia\n",
       "@recycle <code to be optimized>\n",
       "```\n",
       "\n",
       "Second variant:\n",
       "\n",
       "```julia\n",
       "@recycle(arrays = [<list of array variables>], funops = [<list of funop variables], numbers = [<list of number variables>], <code to be optimized>)\n",
       "```\n",
       "\n",
       "The **first variant** is the more convenient one that tries to guess the type of variables (the other variant requires its user to declare explicitly the list of variables which are type of Array, FunOp, and Number. As a tradeoff, this variant fails when the optimized code contains either a closure or non-const global variable.\n",
       "\n",
       "The **second variant** is the more flexible (and also more verbose) one one that requires its user to declare explicitly the list of variables which are type of Array, FunOp, and Number. The other variant tries to guess the type of variables, thus it is more convenient, but as a tradeoff, that variant fails when the optimized code contains either a closure or non-const global variable. On the other hand, this (more verbose) variant is free from these limitations. *Note: All of the \"keyword arguments\" are optional, and also their order is arbitrary.*\n",
       "\n",
       "An example to first variant: This function\n",
       "\n",
       "```julia\n",
       "function foo()\n",
       "    A = rand(100,100)\n",
       "    B = rand(100,100)\n",
       "    @recycle for i = 1:5\n",
       "        A += A / 2 + B\n",
       "        C = A * B + 5\n",
       "    end\n",
       "end\n",
       "```\n",
       "\n",
       "is turned into the following:\n",
       "\n",
       "```julia\n",
       "function foo()\n",
       "    A = rand(100,100)\n",
       "    B = rand(100,100)\n",
       "    (C, 🔃₂) = fill(nothing, 2)\n",
       "    (is_first_run₁,) = fill(true, 1)\n",
       "    for i = 1:5\n",
       "        A .+= A ./ 2 .+ B\n",
       "        if is_first_run₁\n",
       "            is_first_run₁ = false\n",
       "            🔃₂ = A * B\n",
       "            C = 🔃₂ .+ 5\n",
       "        else\n",
       "            mul!(🔃₂, A, B)\n",
       "            C .= 🔃₂ .+ 5\n",
       "        end\n",
       "    end\n",
       "end\n",
       "```\n",
       "\n",
       "Another example showing what second variant can do (and the first can't):\n",
       "\n",
       "```julia\n",
       "bar = @recycle(arrays=[A,B], (A, B) -> begin\n",
       "    A += A / 2 + B\n",
       "    B = A * B .+ 5\n",
       "end)\n",
       "function baz()\n",
       "    A = rand(100,100)\n",
       "    B = rand(100,100)\n",
       "    for i = 1:5\n",
       "        bar(A,B)\n",
       "    end\n",
       "end\n",
       "```\n",
       "\n",
       "is turned into the following:\n",
       "\n",
       "```julia\n",
       "bar = begin\n",
       "    (🔃₁,) = fill(nothing, 1)\n",
       "    (is_first_run₁,) = fill(true, 1)\n",
       "    (A, B)->begin\n",
       "            A .+= A ./ 2 .+ B\n",
       "            begin\n",
       "                if is_first_run₁\n",
       "                    is_first_run₁ = false\n",
       "                    🔃₁ = A * B\n",
       "                else\n",
       "                    mul!(🔃₁, A, B)\n",
       "                end\n",
       "                B .= 🔃₁ .+ 5\n",
       "            end\n",
       "        end\n",
       "end\n",
       "function baz()\n",
       "    A = rand(100,100)\n",
       "    B = rand(100,100)\n",
       "    for i = 1:5\n",
       "        bar(A,B)\n",
       "    end\n",
       "end\n",
       "```\n"
      ],
      "text/plain": [
       "  Speed up iteratively executed code fragments with many matrix operations by\n",
       "  transforming code in such a way that preserves arrays allocated for\n",
       "  intermediate results, and re-use them for subsequent iterations.\n",
       "\n",
       "  First variant:\n",
       "\n",
       "\u001b[36m  @recycle <code to be optimized>\u001b[39m\n",
       "\n",
       "  Second variant:\n",
       "\n",
       "\u001b[36m  @recycle(arrays = [<list of array variables>], funops = [<list of funop variables], numbers = [<list of number variables>], <code to be optimized>)\u001b[39m\n",
       "\n",
       "  The \u001b[1mfirst variant\u001b[22m is the more convenient one that tries to guess the type of\n",
       "  variables (the other variant requires its user to declare explicitly the\n",
       "  list of variables which are type of Array, FunOp, and Number. As a tradeoff,\n",
       "  this variant fails when the optimized code contains either a closure or\n",
       "  non-const global variable.\n",
       "\n",
       "  The \u001b[1msecond variant\u001b[22m is the more flexible (and also more verbose) one one that\n",
       "  requires its user to declare explicitly the list of variables which are type\n",
       "  of Array, FunOp, and Number. The other variant tries to guess the type of\n",
       "  variables, thus it is more convenient, but as a tradeoff, that variant fails\n",
       "  when the optimized code contains either a closure or non-const global\n",
       "  variable. On the other hand, this (more verbose) variant is free from these\n",
       "  limitations. \u001b[4mNote: All of the \"keyword arguments\" are optional, and also\n",
       "  their order is arbitrary.\u001b[24m\n",
       "\n",
       "  An example to first variant: This function\n",
       "\n",
       "\u001b[36m  function foo()\u001b[39m\n",
       "\u001b[36m      A = rand(100,100)\u001b[39m\n",
       "\u001b[36m      B = rand(100,100)\u001b[39m\n",
       "\u001b[36m      @recycle for i = 1:5\u001b[39m\n",
       "\u001b[36m          A += A / 2 + B\u001b[39m\n",
       "\u001b[36m          C = A * B + 5\u001b[39m\n",
       "\u001b[36m      end\u001b[39m\n",
       "\u001b[36m  end\u001b[39m\n",
       "\n",
       "  is turned into the following:\n",
       "\n",
       "\u001b[36m  function foo()\u001b[39m\n",
       "\u001b[36m      A = rand(100,100)\u001b[39m\n",
       "\u001b[36m      B = rand(100,100)\u001b[39m\n",
       "\u001b[36m      (C, 🔃₂) = fill(nothing, 2)\u001b[39m\n",
       "\u001b[36m      (is_first_run₁,) = fill(true, 1)\u001b[39m\n",
       "\u001b[36m      for i = 1:5\u001b[39m\n",
       "\u001b[36m          A .+= A ./ 2 .+ B\u001b[39m\n",
       "\u001b[36m          if is_first_run₁\u001b[39m\n",
       "\u001b[36m              is_first_run₁ = false\u001b[39m\n",
       "\u001b[36m              🔃₂ = A * B\u001b[39m\n",
       "\u001b[36m              C = 🔃₂ .+ 5\u001b[39m\n",
       "\u001b[36m          else\u001b[39m\n",
       "\u001b[36m              mul!(🔃₂, A, B)\u001b[39m\n",
       "\u001b[36m              C .= 🔃₂ .+ 5\u001b[39m\n",
       "\u001b[36m          end\u001b[39m\n",
       "\u001b[36m      end\u001b[39m\n",
       "\u001b[36m  end\u001b[39m\n",
       "\n",
       "  Another example showing what second variant can do (and the first can't):\n",
       "\n",
       "\u001b[36m  bar = @recycle(arrays=[A,B], (A, B) -> begin\u001b[39m\n",
       "\u001b[36m      A += A / 2 + B\u001b[39m\n",
       "\u001b[36m      B = A * B .+ 5\u001b[39m\n",
       "\u001b[36m  end)\u001b[39m\n",
       "\u001b[36m  function baz()\u001b[39m\n",
       "\u001b[36m      A = rand(100,100)\u001b[39m\n",
       "\u001b[36m      B = rand(100,100)\u001b[39m\n",
       "\u001b[36m      for i = 1:5\u001b[39m\n",
       "\u001b[36m          bar(A,B)\u001b[39m\n",
       "\u001b[36m      end\u001b[39m\n",
       "\u001b[36m  end\u001b[39m\n",
       "\n",
       "  is turned into the following:\n",
       "\n",
       "\u001b[36m  bar = begin\u001b[39m\n",
       "\u001b[36m      (🔃₁,) = fill(nothing, 1)\u001b[39m\n",
       "\u001b[36m      (is_first_run₁,) = fill(true, 1)\u001b[39m\n",
       "\u001b[36m      (A, B)->begin\u001b[39m\n",
       "\u001b[36m              A .+= A ./ 2 .+ B\u001b[39m\n",
       "\u001b[36m              begin\u001b[39m\n",
       "\u001b[36m                  if is_first_run₁\u001b[39m\n",
       "\u001b[36m                      is_first_run₁ = false\u001b[39m\n",
       "\u001b[36m                      🔃₁ = A * B\u001b[39m\n",
       "\u001b[36m                  else\u001b[39m\n",
       "\u001b[36m                      mul!(🔃₁, A, B)\u001b[39m\n",
       "\u001b[36m                  end\u001b[39m\n",
       "\u001b[36m                  B .= 🔃₁ .+ 5\u001b[39m\n",
       "\u001b[36m              end\u001b[39m\n",
       "\u001b[36m          end\u001b[39m\n",
       "\u001b[36m  end\u001b[39m\n",
       "\u001b[36m  function baz()\u001b[39m\n",
       "\u001b[36m      A = rand(100,100)\u001b[39m\n",
       "\u001b[36m      B = rand(100,100)\u001b[39m\n",
       "\u001b[36m      for i = 1:5\u001b[39m\n",
       "\u001b[36m          bar(A,B)\u001b[39m\n",
       "\u001b[36m      end\u001b[39m\n",
       "\u001b[36m  end\u001b[39m"
      ]
     },
     "execution_count": 58,
     "metadata": {},
     "output_type": "execute_result"
    }
   ],
   "source": [
    "?@recycle"
   ]
  },
  {
   "cell_type": "code",
   "execution_count": 102,
   "metadata": {},
   "outputs": [
    {
     "data": {
      "text/plain": [
       "foo4 (generic function with 1 method)"
      ]
     },
     "execution_count": 102,
     "metadata": {},
     "output_type": "execute_result"
    }
   ],
   "source": [
    "function foo4(A, bOp₁, bOp₂)\n",
    "    @recycle for i in 1:10\n",
    "        C = (bOp₁ - 2.5*I) * bOp₁ * A\n",
    "        B = bOp₁ * (C - 3A)\n",
    "        A .= bOp₁ * (C + 2B)\n",
    "        A ./= maximum(bOp₂ * A)\n",
    "    end\n",
    "end"
   ]
  },
  {
   "cell_type": "code",
   "execution_count": 103,
   "metadata": {},
   "outputs": [
    {
     "name": "stdout",
     "output_type": "stream",
     "text": [
      "\n",
      "  1 | begin\n",
      "  2 |     🔝₁ = bOp₁ - 2.5I\n",
      "  3 |     🔝₂ = 🔝₁ * bOp₁\n",
      "  4 |     (🔃₁, 🔃₁, 🔃₃, 🔃₃, 🔃₅) = fill(nothing, 5)\n",
      "  5 |     (is_first_run₁, is_first_run₂, is_first_run₃, is_first_run₄) = fill(true, 4)\n",
      "  6 |     for i = 1:10\n",
      "  7 |         if is_first_run₁\n",
      "  8 |             is_first_run₁ = false\n",
      "  9 |             C = 🔝₂ * A\n",
      " 10 |         else\n",
      " 11 |             mul!(C, 🔝₂, A)\n",
      " 12 |         end\n",
      " 13 |         if is_first_run₂\n",
      " 14 |             is_first_run₂ = false\n",
      " 15 |             🔃₁ = C .- 3 .* A\n",
      " 16 |             B = bOp₁ * 🔃₁\n",
      " 17 |         else\n",
      " 18 |             🔃₁ .= C .- 3 .* A\n",
      " 19 |             mul!(B, bOp₁, 🔃₁)\n",
      " 20 |         end\n",
      " 21 |         if is_first_run₃\n",
      " 22 |             is_first_run₃ = false\n",
      " 23 |             🔃₃ = C .+ 2 .* B\n",
      " 24 |         else\n",
      " 25 |             🔃₃ .= C .+ 2 .* B\n",
      " 26 |         end\n",
      " 27 |         mul!(A, bOp₁, 🔃₃)\n",
      " 28 |         if is_first_run₄\n",
      " 29 |             is_first_run₄ = false\n",
      " 30 |             🔃₅ = bOp₂ * A\n",
      " 31 |         else\n",
      " 32 |             mul!(🔃₅, bOp₂, A)\n",
      " 33 |         end\n",
      " 34 |         A ./= maximum(🔃₅)\n",
      " 35 |     end\n",
      " 36 | end\n"
     ]
    },
    {
     "data": {
      "text/plain": [
       "BenchmarkTools.Trial: \n",
       "  memory estimate:  549.33 MiB\n",
       "  allocs estimate:  367\n",
       "  --------------\n",
       "  minimum time:     2.350 s (0.00% GC)\n",
       "  median time:      2.560 s (0.00% GC)\n",
       "  mean time:        2.521 s (0.10% GC)\n",
       "  maximum time:     2.652 s (0.00% GC)\n",
       "  --------------\n",
       "  samples:          3\n",
       "  evals/sample:     1"
      ]
     },
     "execution_count": 103,
     "metadata": {},
     "output_type": "execute_result"
    }
   ],
   "source": [
    "@benchmark foo4(copy(data), bOp₁, bOp₂)"
   ]
  },
  {
   "cell_type": "markdown",
   "metadata": {},
   "source": [
    "*Notice that it is even better than `foo3` (which is optimized with `@♻`)!*\n",
    "\n",
    "*Another comment: the first (more conveniable) variant of `@recycle` uses a generated function to infer the types of variables. That's why it is unable to optimize closures, and codes containing non-const global variables, and also, this is the reason why it prints the optimized code when the optimized function executed first. Of course, if you set `FunctionOperators_global_settings` to `false`, then it is not printed at first execution.*\n",
    "\n",
    "*Third comment: both variant of `@recycle` macro increases significantly the compilation time.*"
   ]
  },
  {
   "cell_type": "markdown",
   "metadata": {},
   "source": [
    "Furthermore, it is also possible to optimize small functions/closures with `@recycle`, if they called multiple times, and the size of their input arrays are always the same. However, we also need to declare explicitly which variables are Arrays, FunOps, or Numbers in this case."
   ]
  },
  {
   "cell_type": "code",
   "execution_count": 44,
   "metadata": {},
   "outputs": [
    {
     "data": {
      "text/plain": [
       "#50 (generic function with 1 method)"
      ]
     },
     "execution_count": 44,
     "metadata": {},
     "output_type": "execute_result"
    }
   ],
   "source": [
    "function getCost(Op)\n",
    "    (A,scaler) -> norm(Op' * (A / scaler), 1) + norm(A, 2)\n",
    "end\n",
    "cost = getCost(bOp₁)"
   ]
  },
  {
   "cell_type": "code",
   "execution_count": 45,
   "metadata": {},
   "outputs": [
    {
     "data": {
      "text/plain": [
       "BenchmarkTools.Trial: \n",
       "  memory estimate:  103.00 MiB\n",
       "  allocs estimate:  106\n",
       "  --------------\n",
       "  minimum time:     68.626 ms (0.00% GC)\n",
       "  median time:      70.872 ms (0.00% GC)\n",
       "  mean time:        71.595 ms (1.58% GC)\n",
       "  maximum time:     86.282 ms (17.59% GC)\n",
       "  --------------\n",
       "  samples:          70\n",
       "  evals/sample:     1"
      ]
     },
     "execution_count": 45,
     "metadata": {},
     "output_type": "execute_result"
    }
   ],
   "source": [
    "@benchmark cost(copy(data), 2)"
   ]
  },
  {
   "cell_type": "code",
   "execution_count": 46,
   "metadata": {},
   "outputs": [
    {
     "name": "stdout",
     "output_type": "stream",
     "text": [
      "\n",
      "  1 | begin\n",
      "  2 |     🔝₁ = Op'\n",
      "  3 |     (🔃₁, 🔃₂, 🔃₂) = fill(nothing, 3)\n",
      "  4 |     (is_first_run₁,) = fill(true, 1)\n",
      "  5 |     (A, scaler)->begin\n",
      "  6 |             if is_first_run₁\n",
      "  7 |                 is_first_run₁ = false\n",
      "  8 |                 🔃₂ = A ./ scaler\n",
      "  9 |                 🔃₁ = 🔝₁ * 🔃₂\n",
      " 10 |             else\n",
      " 11 |                 🔃₂ .= A ./ scaler\n",
      " 12 |                 mul!(🔃₁, 🔝₁, 🔃₂)\n",
      " 13 |             end\n",
      " 14 |             norm(🔃₁, 1) + norm(A, 2)\n",
      " 15 |         end\n",
      " 16 | end\n"
     ]
    },
    {
     "data": {
      "text/plain": [
       "#53 (generic function with 1 method)"
      ]
     },
     "execution_count": 46,
     "metadata": {},
     "output_type": "execute_result"
    }
   ],
   "source": [
    "function getCost_recycle(Op)\n",
    "    @recycle(arrays=[A], funops=[Op], numbers=[scaler],\n",
    "        (A,scaler) -> norm(Op' * (A / scaler), 1) + norm(A, 2))\n",
    "end\n",
    "cost2 = getCost_recycle(bOp₁)"
   ]
  },
  {
   "cell_type": "code",
   "execution_count": 47,
   "metadata": {},
   "outputs": [
    {
     "data": {
      "text/plain": [
       "BenchmarkTools.Trial: \n",
       "  memory estimate:  34.33 MiB\n",
       "  allocs estimate:  9\n",
       "  --------------\n",
       "  minimum time:     55.063 ms (0.00% GC)\n",
       "  median time:      56.468 ms (0.00% GC)\n",
       "  mean time:        56.522 ms (0.58% GC)\n",
       "  maximum time:     72.273 ms (21.54% GC)\n",
       "  --------------\n",
       "  samples:          89\n",
       "  evals/sample:     1"
      ]
     },
     "execution_count": 47,
     "metadata": {},
     "output_type": "execute_result"
    }
   ],
   "source": [
    "@benchmark cost2(copy(data), 2)"
   ]
  },
  {
   "cell_type": "markdown",
   "metadata": {},
   "source": [
    "## Further notes\n",
    "### Global settings"
   ]
  },
  {
   "cell_type": "code",
   "execution_count": 48,
   "metadata": {},
   "outputs": [
    {
     "name": "stdout",
     "output_type": "stream",
     "text": [
      "search: \u001b[0m\u001b[1mF\u001b[22m\u001b[0m\u001b[1mu\u001b[22m\u001b[0m\u001b[1mn\u001b[22m\u001b[0m\u001b[1mc\u001b[22m\u001b[0m\u001b[1mt\u001b[22m\u001b[0m\u001b[1mi\u001b[22m\u001b[0m\u001b[1mo\u001b[22m\u001b[0m\u001b[1mn\u001b[22m\u001b[0m\u001b[1mO\u001b[22m\u001b[0m\u001b[1mp\u001b[22m\u001b[0m\u001b[1me\u001b[22m\u001b[0m\u001b[1mr\u001b[22m\u001b[0m\u001b[1ma\u001b[22m\u001b[0m\u001b[1mt\u001b[22m\u001b[0m\u001b[1mo\u001b[22m\u001b[0m\u001b[1mr\u001b[22m\u001b[0m\u001b[1ms\u001b[22m\u001b[0m\u001b[1m_\u001b[22m\u001b[0m\u001b[1mg\u001b[22m\u001b[0m\u001b[1ml\u001b[22m\u001b[0m\u001b[1mo\u001b[22m\u001b[0m\u001b[1mb\u001b[22m\u001b[0m\u001b[1ma\u001b[22m\u001b[0m\u001b[1ml\u001b[22m\u001b[0m\u001b[1m_\u001b[22m\u001b[0m\u001b[1ms\u001b[22m\u001b[0m\u001b[1me\u001b[22m\u001b[0m\u001b[1mt\u001b[22m\u001b[0m\u001b[1mt\u001b[22m\u001b[0m\u001b[1mi\u001b[22m\u001b[0m\u001b[1mn\u001b[22m\u001b[0m\u001b[1mg\u001b[22m\u001b[0m\u001b[1ms\u001b[22m\n",
      "\n"
     ]
    },
    {
     "data": {
      "text/latex": [
       "Object that holds global settings for \\texttt{FunctionOperators} library\n",
       "\n",
       "Fields:\n",
       "\n",
       "\\begin{itemize}\n",
       "\\item \\texttt{verbose::Bool} If set to true, then allocation information and calculated plan function will be displayed upon creation (i.e., when a composite operator is first used). Default: \\texttt{false}\n",
       "\n",
       "\n",
       "\\item \\texttt{macro\\_verbose::Bool} If set to true, then recycling macros (@♻ and @recycle) will print the transformed code. Default: \\texttt{false}\n",
       "\n",
       "\n",
       "\\item \\texttt{auto\\_reshape::Bool} If set to true, then input and output is reshaped according to the inDims and outDims values of the FunctionOperator before and after any multiplication. Default: \\texttt{false}\n",
       "\n",
       "\\end{itemize}\n"
      ],
      "text/markdown": [
       "Object that holds global settings for `FunctionOperators` library\n",
       "\n",
       "Fields:\n",
       "\n",
       "  * `verbose::Bool` If set to true, then allocation information and calculated plan function will be displayed upon creation (i.e., when a composite operator is first used). Default: `false`\n",
       "  * `macro_verbose::Bool` If set to true, then recycling macros (@♻ and @recycle) will print the transformed code. Default: `false`\n",
       "  * `auto_reshape::Bool` If set to true, then input and output is reshaped according to the inDims and outDims values of the FunctionOperator before and after any multiplication. Default: `false`\n"
      ],
      "text/plain": [
       "  Object that holds global settings for \u001b[36mFunctionOperators\u001b[39m library\n",
       "\n",
       "  Fields:\n",
       "\n",
       "    •    \u001b[36mverbose::Bool\u001b[39m If set to true, then allocation information and\n",
       "        calculated plan function will be displayed upon creation (i.e.,\n",
       "        when a composite operator is first used). Default: \u001b[36mfalse\u001b[39m\n",
       "\n",
       "    •    \u001b[36mmacro_verbose::Bool\u001b[39m If set to true, then recycling macros (@♻ and\n",
       "        @recycle) will print the transformed code. Default: \u001b[36mfalse\u001b[39m\n",
       "\n",
       "    •    \u001b[36mauto_reshape::Bool\u001b[39m If set to true, then input and output is\n",
       "        reshaped according to the inDims and outDims values of the\n",
       "        FunctionOperator before and after any multiplication. Default:\n",
       "        \u001b[36mfalse\u001b[39m"
      ]
     },
     "execution_count": 48,
     "metadata": {},
     "output_type": "execute_result"
    }
   ],
   "source": [
    "?FunctionOperators_global_settings"
   ]
  },
  {
   "cell_type": "markdown",
   "metadata": {},
   "source": [
    "#### Example for auto_reshape"
   ]
  },
  {
   "cell_type": "code",
   "execution_count": 49,
   "metadata": {},
   "outputs": [
    {
     "data": {
      "text/plain": [
       "(6,)"
      ]
     },
     "execution_count": 49,
     "metadata": {},
     "output_type": "execute_result"
    }
   ],
   "source": [
    "op = FunctionOperator{Float64}(forw = x -> x[:], inDims = (3,2), outDims = (2,3))\n",
    "size(op * ones(3,2))"
   ]
  },
  {
   "cell_type": "code",
   "execution_count": 50,
   "metadata": {},
   "outputs": [
    {
     "data": {
      "text/plain": [
       "(2, 3)"
      ]
     },
     "execution_count": 50,
     "metadata": {},
     "output_type": "execute_result"
    }
   ],
   "source": [
    "FunctionOperators_global_settings.auto_reshape = true\n",
    "size(op * ones(6, 1)) # reshaped both before and after!"
   ]
  },
  {
   "cell_type": "markdown",
   "metadata": {},
   "source": [
    "### Equality operator\n",
    "Equality check based on name\n",
    "\n",
    "**HEADS UP!** This works only when operators with the same name has also the same functionality!\n",
    "\n",
    "It performs basic arithmetic transformations on the expressions, so it recognizes even some less obvious equalities. The rules it uses:\n",
    " - Associativity: ``op1 * op2 * op3 = (op1 * op2) * op3 = op1 * (op2 * op3)``, ``op1 + op2 + op3 = (op1 + op2) + op3 = op1 + (op2 + op3)``, ``op1 + (op2 - op3) == (op1 + op2) - op3``, ``op1 - (op2 + op3) == (op1 - op2) - op3``\n",
    " - Commutativity: ``op1 - op2 - op3 = op1 - op3 - op2``, ``op1 + op2 = op2 + op1``\n",
    " - Distributivity: ``(op1 + op2) * op3 = op1 * op3 + op2 * op3`` (Note that ``op1 * (op2 + op3) ≠ op1 * op2 + op1 * op3``)\n",
    " \n",
    " \n",
    " In our case, this implies:"
   ]
  },
  {
   "cell_type": "code",
   "execution_count": 51,
   "metadata": {},
   "outputs": [
    {
     "data": {
      "text/plain": [
       "true"
      ]
     },
     "execution_count": 51,
     "metadata": {},
     "output_type": "execute_result"
    }
   ],
   "source": [
    "# Note that Op₁ and bOp₁ are defined with the same name field!\n",
    "(bOp₁ + 2.5*I) * bOp₁ == (Op₁ + 2.5*I) * Op₁ == 2.5*I * Op₁ + bOp₁ * Op₁"
   ]
  },
  {
   "cell_type": "markdown",
   "metadata": {},
   "source": [
    "### Superclass\n",
    "Combination of `FunctionOperator` objects are type of `FunctionOperatorComposite`. Both class is subclass of `FunOp`."
   ]
  },
  {
   "cell_type": "code",
   "execution_count": 52,
   "metadata": {},
   "outputs": [
    {
     "data": {
      "text/plain": [
       "(true, true, false, true)"
      ]
     },
     "execution_count": 52,
     "metadata": {},
     "output_type": "execute_result"
    }
   ],
   "source": [
    "bOp₁ isa FunctionOperator,\n",
    "bOp₁ isa FunOp,\n",
    "bOp₂ * bOp₁ isa FunctionOperator, # false bacause it is FunctionOperatorComposite\n",
    "bOp₂ * bOp₁ isa FunOp"
   ]
  }
 ],
 "metadata": {
  "kernelspec": {
   "display_name": "Julia 1.3.0",
   "language": "julia",
   "name": "julia-1.3"
  },
  "language_info": {
   "file_extension": ".jl",
   "mimetype": "application/julia",
   "name": "julia",
   "version": "1.3.0"
  }
 },
 "nbformat": 4,
 "nbformat_minor": 2
}

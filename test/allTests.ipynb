{
 "cells": [
  {
   "cell_type": "code",
   "execution_count": 1,
   "metadata": {},
   "outputs": [
    {
     "name": "stderr",
     "output_type": "stream",
     "text": [
      "┌ Info: Recompiling stale cache file /home/hakkelt/.julia/compiled/v1.2/FunctionOperators/2tgjG.ji for FunctionOperators [98ce4118-165c-488a-9b71-2bb5aff4e594]\n",
      "└ @ Base loading.jl:1240\n"
     ]
    }
   ],
   "source": [
    "using FunctionOperators\n",
    "using LinearAlgebra\n",
    "using Test"
   ]
  },
  {
   "cell_type": "markdown",
   "metadata": {},
   "source": [
    "## Test all constructors"
   ]
  },
  {
   "cell_type": "code",
   "execution_count": 2,
   "metadata": {},
   "outputs": [
    {
     "name": "stdout",
     "output_type": "stream",
     "text": [
      "\u001b[37m\u001b[1mTest Summary:                | \u001b[22m\u001b[39m\u001b[32m\u001b[1mPass  \u001b[22m\u001b[39m\u001b[36m\u001b[1mTotal\u001b[22m\u001b[39m\n",
      "Constructors - StructDefs.jl | \u001b[32m  33  \u001b[39m\u001b[36m   33\u001b[39m\n"
     ]
    }
   ],
   "source": [
    "@testset \"Constructors - StructDefs.jl\" begin\n",
    "    @testset \"Proper constructors\" begin\n",
    "        @testset \"Keyword constructors\" begin\n",
    "            @test FunctionOperator{Float64}(name = \"Op₁\",\n",
    "                forw = x -> x, backw = x -> x,\n",
    "                inDims = (1,), outDims = (1,)) isa FunOp\n",
    "            @test FunctionOperator{Float64}(\n",
    "                forw = x -> x, backw = x -> x,\n",
    "                inDims = (1,), outDims = (1,)) isa FunOp\n",
    "            @test FunctionOperator{Float64}(name = \"Op₁\",\n",
    "                forw = x -> x,\n",
    "                inDims = (1,), outDims = (1,)) isa FunOp\n",
    "            @test FunctionOperator{Float64}(forw = x -> x,\n",
    "                inDims = (1,), outDims = (1,)) isa FunOp\n",
    "        end\n",
    "        @testset \"Positional constructors\" begin\n",
    "            @test FunctionOperator{Float64}(\"Op₁\", x -> x, x -> x,\n",
    "                (1,), (1,)) isa FunOp\n",
    "            @test FunctionOperator{Float64}(x -> x, x -> x,\n",
    "                (1,), (1,)) isa FunOp\n",
    "            @test FunctionOperator{Float64}(\"Op₁\", x -> x,\n",
    "                (1,), (1,)) isa FunOp\n",
    "            @test FunctionOperator{Float64}(x -> x,\n",
    "                (1,), (1,)) isa FunOp\n",
    "        end\n",
    "    end\n",
    "    @testset \"Missing value\" begin\n",
    "        @test_throws ErrorException FunctionOperator{Float64}(name = \"Op₁\",\n",
    "            backw = x -> x,\n",
    "            inDims = (1,), outDims = (1,))\n",
    "        @test_throws ErrorException FunctionOperator{Float64}(name = \"Op₁\",\n",
    "            forw = x -> x, backw = x -> x,\n",
    "            outDims = (1,))\n",
    "        @test_throws ErrorException FunctionOperator{Float64}(name = \"Op₁\",\n",
    "            forw = x -> x, backw = x -> x,\n",
    "            inDims = (1,))\n",
    "    end\n",
    "    @testset \"No arguments for forw\" begin\n",
    "        @testset \"Keyword constructors\" begin\n",
    "            @test_throws AssertionError FunctionOperator{Float64}(name = \"Op₁\",\n",
    "                forw = () -> x, backw = x -> x,\n",
    "                inDims = (1,), outDims = (1,))\n",
    "            @test_throws AssertionError FunctionOperator{Float64}(\n",
    "                forw = () -> x, backw = x -> x,\n",
    "                inDims = (1,), outDims = (1,))\n",
    "            @test_throws AssertionError FunctionOperator{Float64}(name = \"Op₁\",\n",
    "                forw = () -> x,\n",
    "                inDims = (1,), outDims = (1,))\n",
    "            @test_throws AssertionError FunctionOperator{Float64}(forw = () -> x,\n",
    "                inDims = (1,), outDims = (1,))\n",
    "        end\n",
    "        @testset \"Positional constructors\" begin\n",
    "            @test_throws AssertionError FunctionOperator{Float64}(\"Op₁\", () -> x, x -> x,\n",
    "                (1,), (1,))\n",
    "            @test_throws AssertionError FunctionOperator{Float64}(() -> x, x -> x,\n",
    "                (1,), (1,))\n",
    "            @test_throws AssertionError FunctionOperator{Float64}(\"Op₁\", () -> x,\n",
    "                (1,), (1,))\n",
    "            @test_throws AssertionError FunctionOperator{Float64}(() -> x,\n",
    "                (1,), (1,))\n",
    "        end\n",
    "    end\n",
    "    @testset \"Too many arguments for forw\" begin\n",
    "        @testset \"Keyword constructors\" begin\n",
    "            @test_throws AssertionError FunctionOperator{Float64}(name = \"Op₁\",\n",
    "                forw = (x,y,z) -> x, backw = x -> x,\n",
    "                inDims = (1,), outDims = (1,))\n",
    "            @test_throws AssertionError FunctionOperator{Float64}(\n",
    "                forw = (x,y,z) -> x, backw = x -> x,\n",
    "                inDims = (1,), outDims = (1,))\n",
    "            @test_throws AssertionError FunctionOperator{Float64}(name = \"Op₁\",\n",
    "                forw = (x,y,z) -> x,\n",
    "                inDims = (1,), outDims = (1,))\n",
    "            @test_throws AssertionError FunctionOperator{Float64}(forw = (x,y,z) -> x,\n",
    "                inDims = (1,), outDims = (1,))\n",
    "        end\n",
    "        @testset \"Positional constructors\" begin\n",
    "            @test_throws AssertionError FunctionOperator{Float64}(\"Op₁\", (x,y,z) -> x,\n",
    "                x -> x, (1,), (1,))\n",
    "            @test_throws AssertionError FunctionOperator{Float64}((x,y,z) -> x, x -> x,\n",
    "                (1,), (1,))\n",
    "            @test_throws AssertionError FunctionOperator{Float64}(\"Op₁\", (x,y,z) -> x,\n",
    "                (1,), (1,))\n",
    "            @test_throws AssertionError FunctionOperator{Float64}((x,y,z) -> x,\n",
    "                (1,), (1,))\n",
    "        end\n",
    "    end\n",
    "    @testset \"Forw has more arguments as backw\" begin\n",
    "        @testset \"Keyword constructors\" begin\n",
    "            @test_throws AssertionError FunctionOperator{Float64}(name = \"Op₁\",\n",
    "                forw = (x,y) -> x.^3, backw = x -> x,\n",
    "                inDims = (1,), outDims = (1,))\n",
    "            @test_throws AssertionError FunctionOperator{Float64}(\n",
    "                forw = (x,y) -> x.^3, backw = x -> x,\n",
    "                inDims = (1,), outDims = (1,))\n",
    "        end\n",
    "        @testset \"Positional constructors\" begin\n",
    "            @test_throws AssertionError FunctionOperator{Float64}(\"Op₁\", (x,y) -> x.^3,\n",
    "                x -> x, (1,), (1,))\n",
    "            @test_throws AssertionError FunctionOperator{Float64}((x,y) -> x.^3, x -> x,\n",
    "                (1,), (1,))\n",
    "        end\n",
    "    end\n",
    "    @testset \"Unique default name\" begin\n",
    "        @test FunctionOperator{Float64}(x->x,(1,),(1,)) ≠\n",
    "            FunctionOperator{Float64}(x->x,(1,),(1,))\n",
    "    end\n",
    "    @testset \"Undefined backw\" begin\n",
    "        Op₁ = FunctionOperator{Float64}(x->x,(1,),(1,))\n",
    "        @test_throws ErrorException Op₁' * [1.]\n",
    "    end\n",
    "end;"
   ]
  },
  {
   "cell_type": "code",
   "execution_count": 3,
   "metadata": {},
   "outputs": [
    {
     "name": "stdout",
     "output_type": "stream",
     "text": [
      "\u001b[37m\u001b[1mTest Summary: | \u001b[22m\u001b[39m\u001b[32m\u001b[1mPass  \u001b[22m\u001b[39m\u001b[36m\u001b[1mTotal\u001b[22m\u001b[39m\n",
      "Helpers.jl    | \u001b[32m  33  \u001b[39m\u001b[36m   33\u001b[39m\n"
     ]
    }
   ],
   "source": [
    "@testset \"Helpers.jl\" begin\n",
    "    Op₁ = FunctionOperator{Float64}(x -> x, (1,), (1,))\n",
    "    Op₂ = FunctionOperator{Int64}(x -> x, (1,), (1,))\n",
    "    Op₃ = FunctionOperator{Float64}(x -> x, (1,), (1,))\n",
    "    Op₄ = FunctionOperator{Float64}(x -> x, (1,), (2,))\n",
    "    buffer = Array{Float64}(undef, 1)\n",
    "    @testset \"eltype\" begin\n",
    "        @test eltype(Op₁) == Float64\n",
    "        @test eltype(Op₁ * Op₃) == Float64\n",
    "    end\n",
    "    @testset \"assertions\" begin\n",
    "        @testset \"TypeError\" begin\n",
    "            @test_throws TypeError Op₁ * Op₂\n",
    "            @test_throws TypeError Op₁ + Op₂\n",
    "            @test_throws TypeError Op₁ - Op₂\n",
    "            @test_throws TypeError (Op₁ + Op₁) * Op₂\n",
    "            @test_throws TypeError (Op₁ + Op₁) + Op₂\n",
    "            @test_throws TypeError (Op₁ + Op₁) - Op₂\n",
    "            @test_throws TypeError Op₁ * (Op₂ + Op₂)\n",
    "            @test_throws TypeError Op₁ + (Op₂ + Op₂)\n",
    "            @test_throws TypeError Op₁ - (Op₂ + Op₂)\n",
    "            @test_throws TypeError (Op₁ + Op₁) * (Op₂ + Op₂)\n",
    "            @test_throws TypeError (Op₁ + Op₁) + (Op₂ + Op₂)\n",
    "            @test_throws TypeError (Op₁ + Op₁) - (Op₂ + Op₂)\n",
    "            @test_throws TypeError mul!(Array{Int64}(undef, 1), Op₁, [1.])\n",
    "            @test_throws TypeError mul!(Array{Int64}(undef, 1), Op₁ * Op₂, [1.])\n",
    "            @test_throws TypeError mul!(buffer, Op₁, [1])\n",
    "            @test_throws TypeError mul!(buffer, Op₁ * Op₂, [1])\n",
    "        end\n",
    "        @testset \"DimensionError\" begin\n",
    "            @test_throws DimensionMismatch Op₁ * [1.,2.]\n",
    "            @test_throws DimensionMismatch Op₁ * Op₃ * [1.,2.]\n",
    "            @test_throws DimensionMismatch (Op₁ + Op₃) * [1.,2.]\n",
    "            @test_throws DimensionMismatch (Op₁ - Op₃) * [1.,2.]\n",
    "            @test_throws DimensionMismatch Op₃ * Op₄\n",
    "            @test_throws DimensionMismatch (Op₄ + Op₃)\n",
    "            @test_throws DimensionMismatch (Op₄ - Op₃)\n",
    "            @test_throws DimensionMismatch (Op₄ + I)\n",
    "            @test_throws DimensionMismatch (Op₄ - I)\n",
    "            @test_throws DimensionMismatch (Op₄ + 3I)\n",
    "            @test_throws DimensionMismatch (Op₄ - 3I)\n",
    "            @test_throws DimensionMismatch mul!(buffer, Op₁, [1., 2.])\n",
    "            @test_throws DimensionMismatch mul!(buffer, Op₁ * Op₃, [1.,2.])\n",
    "            @test_throws DimensionMismatch mul!(Array{Float64}(undef, 2), Op₁, [1.])\n",
    "            @test_throws DimensionMismatch mul!(Array{Float64}(undef, 2), Op₁ * Op₃, [1.])\n",
    "        end\n",
    "    end\n",
    "end;"
   ]
  },
  {
   "cell_type": "code",
   "execution_count": 4,
   "metadata": {},
   "outputs": [
    {
     "name": "stdout",
     "output_type": "stream",
     "text": [
      "\u001b[37m\u001b[1mTest Summary:                 | \u001b[22m\u001b[39m\u001b[32m\u001b[1mPass  \u001b[22m\u001b[39m\u001b[36m\u001b[1mTotal\u001b[22m\u001b[39m\n",
      "BuildCompTree.jl + getPlan.jl | \u001b[32m  15  \u001b[39m\u001b[36m   15\u001b[39m\n"
     ]
    }
   ],
   "source": [
    "@testset \"BuildCompTree.jl + getPlan.jl\" begin\n",
    "    Op₁ = FunctionOperator{Float64}(\"Op₁\",\n",
    "        x -> x .^ 3, x -> cbrt.(x), (10,10), (10,10))\n",
    "    Op₂ = FunctionOperator{Float64}(\"Op₂\",\n",
    "        x -> x .+ 2, x -> x .- 2, (10,10), (10,10))\n",
    "    bOp₁ = FunctionOperator{Float64}(\"Op₁\",\n",
    "        (b,x) -> b.=x.^3, (b,x) -> b.=cbrt.(x), (10,10), (10,10))\n",
    "    bOp₂ = FunctionOperator{Float64}(\"Op₂\",\n",
    "        (b,x) -> b.=x.+2, (b,x) -> b.=x.-2, (10,10), (10,10))\n",
    "    w = reshape([1 2 3 4 5], 1, 1, 5)\n",
    "    Op₃ = FunctionOperator{Float64}(\"Op₃\",\n",
    "        x -> x .* w, x -> x[:,:,1], (10,10), (10,10,5))\n",
    "    Op₄ = FunctionOperator{Float64}(\"Op₄\",\n",
    "        x -> repeat(x, outer=(1,1,5)), x -> x[:,:,5], (10,10), (10, 10, 5))\n",
    "    bOp₃ = FunctionOperator{Float64}(\"Op₃\",\n",
    "        (b,x) -> broadcast!(b, x, w), (b,x) -> b .= x[:,:,1], (10,10), (10,10,5))\n",
    "    bOp₄ = FunctionOperator{Float64}(\"Op₄\",\n",
    "        (b,x) -> b.=repeat(x, outer=(1,1,5)), (b,x) -> b .= x[:,:,5], (10,10), (10, 10, 5))\n",
    "    Op₅ = FunctionOperator{Float64}(\"Op₅\",\n",
    "        x -> -x .^ 3, x -> -cbrt.(x), (10,10,5), (10,10,5))\n",
    "    Op₆ = FunctionOperator{Float64}(\"Op₆\",\n",
    "        x -> x .+ 5, x -> x .- 5, (10,10,5), (10,10,5))\n",
    "    bOp₅ = FunctionOperator{Float64}(\"Op₅\",\n",
    "        (b,x) -> b.=-x.^3, (b,x) -> b.=-cbrt.(x), (10,10,5), (10,10,5))\n",
    "    bOp₆ = FunctionOperator{Float64}(\"Op₆\",\n",
    "        (b,x) -> b.=x.+5, (b,x) -> b.=x.-5, (10,10,5), (10,10,5))\n",
    "    @testset \"Fidelity (manually checked)\" begin\n",
    "        @test Op₁ * (ones(10,10)*2) == ones(10,10)*8\n",
    "        @test Op₁' * (ones(10,10)*8) == ones(10,10)*2\n",
    "        @test Op₃ * Op₁ * (ones(10,10)*2) == ones(10,10)*8 .* w\n",
    "        @test (Op₃ * Op₁)' * (ones(10,10)*8 .* w) == Op₁' * Op₃' * (ones(10,10)*8 .* w)\n",
    "        @test (Op₃ * Op₁)' * (ones(10,10)*8 .* w) == ones(10,10)*2\n",
    "        @test (Op₃ + Op₄) * (ones(10,10)*2) == Op₃ * (ones(10,10)*2) + Op₄ * (ones(10,10)*2)\n",
    "        @test (Op₃ - Op₄) * (ones(10,10)*2) == Op₃ * (ones(10,10)*2) - Op₄ * (ones(10,10)*2)\n",
    "        @test 3I * Op₃ * (ones(10,10)*2) == (ones(10,10)*2 .* w) * 3\n",
    "        @test Op₃ * 3I * (ones(10,10)*2) == ones(10,10)*6 .* w\n",
    "        @test (Op₃ * 3I)' * (ones(10,10)*2 .* w) == ones(10,10)*6\n",
    "        @test (Op₅ + 3I) * (ones(10,10,5)*2) == Op₅ * (ones(10,10,5)*2) + (ones(10,10,5)*6)\n",
    "        @test (Op₅ - 3I) * (ones(10,10,5)*2) == Op₅ * (ones(10,10,5)*2) - (ones(10,10,5)*6)\n",
    "        @test (3I + Op₅) * (ones(10,10,5)*2) == (ones(10,10,5)*6) + Op₅ * (ones(10,10,5)*2)\n",
    "        @test (3I - Op₅) * (ones(10,10,5)*2) == (ones(10,10,5)*6) - Op₅ * (ones(10,10,5)*2)\n",
    "    end\n",
    "    @testset \"Adjoint of addition\" begin\n",
    "        @test_throws ErrorException (Op₃ + Op₄)' * ones(10,10,5)\n",
    "    end\n",
    "end;"
   ]
  },
  {
   "cell_type": "code",
   "execution_count": 64,
   "metadata": {},
   "outputs": [
    {
     "data": {
      "text/plain": [
       "FunctionOperator with eltype Float64\n",
       "    Name: Op₁\n",
       "    Input dimensions: (300, 300, 50)\n",
       "    Output dimensions: (300, 300, 50)"
      ]
     },
     "execution_count": 64,
     "metadata": {},
     "output_type": "execute_result"
    }
   ],
   "source": [
    "Op₁ = FunctionOperator{Float64}(name = \"Op₁\",\n",
    "    forw = x -> x.^3, backw = x -> cbrt.(x),\n",
    "    inDims = (300, 300, 50), outDims = (300, 300, 50))"
   ]
  },
  {
   "cell_type": "code",
   "execution_count": 6,
   "metadata": {},
   "outputs": [
    {
     "data": {
      "text/plain": [
       "FunctionOperator with eltype Float64\n",
       "    Name: Op₁\n",
       "    Input dimensions: (300, 300, 50)\n",
       "    Output dimensions: (300, 300, 50)"
      ]
     },
     "execution_count": 6,
     "metadata": {},
     "output_type": "execute_result"
    }
   ],
   "source": [
    "bOp₁ = FunctionOperator{Float64}(name=\"Op₁\",\n",
    "    forw = (buffer, x) -> buffer .= x.^2,\n",
    "    backw = (buffer, x) -> broadcast!(sqrt, buffer, x),\n",
    "    inDims = (300, 300, 50), outDims = (300, 300, 50))"
   ]
  },
  {
   "cell_type": "code",
   "execution_count": 7,
   "metadata": {},
   "outputs": [
    {
     "data": {
      "text/plain": [
       "FunctionOperator with eltype Float64\n",
       "    Name: Op₂\n",
       "    Input dimensions: (300, 300, 50)\n",
       "    Output dimensions: (300, 300, 50, 10)"
      ]
     },
     "execution_count": 7,
     "metadata": {},
     "output_type": "execute_result"
    }
   ],
   "source": [
    "weights = [sin((i-j)*l) + 1 for i=1:300, j=1:300, k=1:50, l=1:10]\n",
    "Op₂ = FunctionOperator{Float64}(\"Op₂\",\n",
    "    x -> reshape(x, 300, 300, 50, 1) .* weights, # broadcasting: 3D to 4D\n",
    "    x -> reshape(sum(x ./ weights, dims=4), 300, 300, 50),\n",
    "    (300, 300, 50), (300, 300, 50, 10))"
   ]
  },
  {
   "cell_type": "code",
   "execution_count": 9,
   "metadata": {},
   "outputs": [
    {
     "data": {
      "text/plain": [
       "FunctionOperator with eltype Float64\n",
       "    Name: Op₂\n",
       "    Input dimensions: (300, 300, 50)\n",
       "    Output dimensions: (300, 300, 50, 10)"
      ]
     },
     "execution_count": 9,
     "metadata": {},
     "output_type": "execute_result"
    }
   ],
   "source": [
    "bOp₂ = FunctionOperator{Float64}(name=\"Op₂\",\n",
    "    forw = (buffer,x) -> buffer .= reshape(x, 300, 300, 50, 1) .* weights,\n",
    "    backw = (buffer,x) -> dropdims(sum!(reshape(buffer, 300, 300, 50, 1), x ./ weights), dims=4),\n",
    "    inDims=(300, 300, 50), outDims=(300, 300, 50, 10))"
   ]
  },
  {
   "cell_type": "code",
   "execution_count": 11,
   "metadata": {},
   "outputs": [
    {
     "data": {
      "text/plain": [
       "FunctionOperator with eltype Float64\n",
       "    Name: Op₃\n",
       "    Input dimensions: (300, 300, 50, 10)\n",
       "    Output dimensions: (300, 300, 50, 10)"
      ]
     },
     "execution_count": 11,
     "metadata": {},
     "output_type": "execute_result"
    }
   ],
   "source": [
    "Op₃ = FunctionOperator{Float64}(name = \"Op₃\",\n",
    "    forw = x -> x .* 2, backw = x -> x ./ 2,\n",
    "    inDims = (300, 300, 50, 10), outDims = (300, 300, 50, 10))"
   ]
  },
  {
   "cell_type": "code",
   "execution_count": null,
   "metadata": {},
   "outputs": [],
   "source": [
    "Op₃ = FunctionOperator{Float64}(name = \"Op₃\",\n",
    "    forw = x -> x .* 2, backw = x -> x ./ 2,\n",
    "    inDims = (300, 300, 50), outDims = (300, 300, 50))"
   ]
  }
 ],
 "metadata": {
  "kernelspec": {
   "display_name": "Julia 1.2.0",
   "language": "julia",
   "name": "julia-1.2"
  },
  "language_info": {
   "file_extension": ".jl",
   "mimetype": "application/julia",
   "name": "julia",
   "version": "1.2.0"
  }
 },
 "nbformat": 4,
 "nbformat_minor": 2
}

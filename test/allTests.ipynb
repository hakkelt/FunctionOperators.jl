{
 "cells": [
  {
   "cell_type": "code",
   "execution_count": 1,
   "metadata": {},
   "outputs": [
    {
     "name": "stderr",
     "output_type": "stream",
     "text": [
      "┌ Info: Recompiling stale cache file /home/hakkelt/.julia/compiled/v1.2/FunctionOperators/2tgjG.ji for FunctionOperators [98ce4118-165c-488a-9b71-2bb5aff4e594]\n",
      "└ @ Base loading.jl:1240\n"
     ]
    }
   ],
   "source": [
    "using FunctionOperators, LinearAlgebra, Test, BenchmarkTools"
   ]
  },
  {
   "cell_type": "markdown",
   "metadata": {},
   "source": [
    "## Test all constructors"
   ]
  },
  {
   "cell_type": "code",
   "execution_count": 2,
   "metadata": {},
   "outputs": [
    {
     "name": "stdout",
     "output_type": "stream",
     "text": [
      "\u001b[37m\u001b[1mTest Summary:                | \u001b[22m\u001b[39m\u001b[32m\u001b[1mPass  \u001b[22m\u001b[39m\u001b[36m\u001b[1mTotal\u001b[22m\u001b[39m\n",
      "Constructors - StructDefs.jl | \u001b[32m  33  \u001b[39m\u001b[36m   33\u001b[39m\n"
     ]
    }
   ],
   "source": [
    "@testset \"Constructors - StructDefs.jl\" begin\n",
    "    @testset \"Proper constructors\" begin\n",
    "        @testset \"Keyword constructors\" begin\n",
    "            @test FunctionOperator{Float64}(name = \"Op₁\",\n",
    "                forw = x -> x, backw = x -> x,\n",
    "                inDims = (1,), outDims = (1,)) isa FunOp\n",
    "            @test FunctionOperator{Float64}(\n",
    "                forw = x -> x, backw = x -> x,\n",
    "                inDims = (1,), outDims = (1,)) isa FunOp\n",
    "            @test FunctionOperator{Float64}(name = \"Op₁\",\n",
    "                forw = x -> x,\n",
    "                inDims = (1,), outDims = (1,)) isa FunOp\n",
    "            @test FunctionOperator{Float64}(forw = x -> x,\n",
    "                inDims = (1,), outDims = (1,)) isa FunOp\n",
    "        end\n",
    "        @testset \"Positional constructors\" begin\n",
    "            @test FunctionOperator{Float64}(\"Op₁\", x -> x, x -> x,\n",
    "                (1,), (1,)) isa FunOp\n",
    "            @test FunctionOperator{Float64}(x -> x, x -> x,\n",
    "                (1,), (1,)) isa FunOp\n",
    "            @test FunctionOperator{Float64}(\"Op₁\", x -> x,\n",
    "                (1,), (1,)) isa FunOp\n",
    "            @test FunctionOperator{Float64}(x -> x,\n",
    "                (1,), (1,)) isa FunOp\n",
    "        end\n",
    "    end\n",
    "    @testset \"Missing value\" begin\n",
    "        @test_throws ErrorException FunctionOperator{Float64}(name = \"Op₁\",\n",
    "            backw = x -> x,\n",
    "            inDims = (1,), outDims = (1,))\n",
    "        @test_throws ErrorException FunctionOperator{Float64}(name = \"Op₁\",\n",
    "            forw = x -> x, backw = x -> x,\n",
    "            outDims = (1,))\n",
    "        @test_throws ErrorException FunctionOperator{Float64}(name = \"Op₁\",\n",
    "            forw = x -> x, backw = x -> x,\n",
    "            inDims = (1,))\n",
    "    end\n",
    "    @testset \"No arguments for forw\" begin\n",
    "        @testset \"Keyword constructors\" begin\n",
    "            @test_throws AssertionError FunctionOperator{Float64}(name = \"Op₁\",\n",
    "                forw = () -> x, backw = x -> x,\n",
    "                inDims = (1,), outDims = (1,))\n",
    "            @test_throws AssertionError FunctionOperator{Float64}(\n",
    "                forw = () -> x, backw = x -> x,\n",
    "                inDims = (1,), outDims = (1,))\n",
    "            @test_throws AssertionError FunctionOperator{Float64}(name = \"Op₁\",\n",
    "                forw = () -> x,\n",
    "                inDims = (1,), outDims = (1,))\n",
    "            @test_throws AssertionError FunctionOperator{Float64}(forw = () -> x,\n",
    "                inDims = (1,), outDims = (1,))\n",
    "        end\n",
    "        @testset \"Positional constructors\" begin\n",
    "            @test_throws AssertionError FunctionOperator{Float64}(\"Op₁\", () -> x, x -> x,\n",
    "                (1,), (1,))\n",
    "            @test_throws AssertionError FunctionOperator{Float64}(() -> x, x -> x,\n",
    "                (1,), (1,))\n",
    "            @test_throws AssertionError FunctionOperator{Float64}(\"Op₁\", () -> x,\n",
    "                (1,), (1,))\n",
    "            @test_throws AssertionError FunctionOperator{Float64}(() -> x,\n",
    "                (1,), (1,))\n",
    "        end\n",
    "    end\n",
    "    @testset \"Too many arguments for forw\" begin\n",
    "        @testset \"Keyword constructors\" begin\n",
    "            @test_throws AssertionError FunctionOperator{Float64}(name = \"Op₁\",\n",
    "                forw = (x,y,z) -> x, backw = x -> x,\n",
    "                inDims = (1,), outDims = (1,))\n",
    "            @test_throws AssertionError FunctionOperator{Float64}(\n",
    "                forw = (x,y,z) -> x, backw = x -> x,\n",
    "                inDims = (1,), outDims = (1,))\n",
    "            @test_throws AssertionError FunctionOperator{Float64}(name = \"Op₁\",\n",
    "                forw = (x,y,z) -> x,\n",
    "                inDims = (1,), outDims = (1,))\n",
    "            @test_throws AssertionError FunctionOperator{Float64}(forw = (x,y,z) -> x,\n",
    "                inDims = (1,), outDims = (1,))\n",
    "        end\n",
    "        @testset \"Positional constructors\" begin\n",
    "            @test_throws AssertionError FunctionOperator{Float64}(\"Op₁\", (x,y,z) -> x,\n",
    "                x -> x, (1,), (1,))\n",
    "            @test_throws AssertionError FunctionOperator{Float64}((x,y,z) -> x, x -> x,\n",
    "                (1,), (1,))\n",
    "            @test_throws AssertionError FunctionOperator{Float64}(\"Op₁\", (x,y,z) -> x,\n",
    "                (1,), (1,))\n",
    "            @test_throws AssertionError FunctionOperator{Float64}((x,y,z) -> x,\n",
    "                (1,), (1,))\n",
    "        end\n",
    "    end\n",
    "    @testset \"Forw has more arguments as backw\" begin\n",
    "        @testset \"Keyword constructors\" begin\n",
    "            @test_throws AssertionError FunctionOperator{Float64}(name = \"Op₁\",\n",
    "                forw = (x,y) -> x.^3, backw = x -> x,\n",
    "                inDims = (1,), outDims = (1,))\n",
    "            @test_throws AssertionError FunctionOperator{Float64}(\n",
    "                forw = (x,y) -> x.^3, backw = x -> x,\n",
    "                inDims = (1,), outDims = (1,))\n",
    "        end\n",
    "        @testset \"Positional constructors\" begin\n",
    "            @test_throws AssertionError FunctionOperator{Float64}(\"Op₁\", (x,y) -> x.^3,\n",
    "                x -> x, (1,), (1,))\n",
    "            @test_throws AssertionError FunctionOperator{Float64}((x,y) -> x.^3, x -> x,\n",
    "                (1,), (1,))\n",
    "        end\n",
    "    end\n",
    "    @testset \"Unique default name\" begin\n",
    "        @test FunctionOperator{Float64}(x->x,(1,),(1,)) ≠\n",
    "            FunctionOperator{Float64}(x->x,(1,),(1,))\n",
    "    end\n",
    "    @testset \"Undefined backw\" begin\n",
    "        Op₁ = FunctionOperator{Float64}(x->x,(1,),(1,))\n",
    "        @test_throws ErrorException Op₁' * [1.]\n",
    "    end\n",
    "end;"
   ]
  },
  {
   "cell_type": "code",
   "execution_count": 3,
   "metadata": {},
   "outputs": [
    {
     "name": "stdout",
     "output_type": "stream",
     "text": [
      "\u001b[37m\u001b[1mTest Summary: | \u001b[22m\u001b[39m\u001b[32m\u001b[1mPass  \u001b[22m\u001b[39m\u001b[36m\u001b[1mTotal\u001b[22m\u001b[39m\n",
      "Helpers.jl    | \u001b[32m  33  \u001b[39m\u001b[36m   33\u001b[39m\n"
     ]
    }
   ],
   "source": [
    "@testset \"Helpers.jl\" begin\n",
    "    Op₁ = FunctionOperator{Float64}(x -> x, (1,), (1,))\n",
    "    Op₂ = FunctionOperator{Int64}(x -> x, (1,), (1,))\n",
    "    Op₃ = FunctionOperator{Float64}(x -> x, (1,), (1,))\n",
    "    Op₄ = FunctionOperator{Float64}(x -> x, (1,), (2,))\n",
    "    buffer = Array{Float64}(undef, 1)\n",
    "    @testset \"eltype\" begin\n",
    "        @test eltype(Op₁) == Float64\n",
    "        @test eltype(Op₁ * Op₃) == Float64\n",
    "    end\n",
    "    @testset \"assertions\" begin\n",
    "        @testset \"TypeError\" begin\n",
    "            @test_throws TypeError Op₁ * Op₂\n",
    "            @test_throws TypeError Op₁ + Op₂\n",
    "            @test_throws TypeError Op₁ - Op₂\n",
    "            @test_throws TypeError (Op₁ + Op₁) * Op₂\n",
    "            @test_throws TypeError (Op₁ + Op₁) + Op₂\n",
    "            @test_throws TypeError (Op₁ + Op₁) - Op₂\n",
    "            @test_throws TypeError Op₁ * (Op₂ + Op₂)\n",
    "            @test_throws TypeError Op₁ + (Op₂ + Op₂)\n",
    "            @test_throws TypeError Op₁ - (Op₂ + Op₂)\n",
    "            @test_throws TypeError (Op₁ + Op₁) * (Op₂ + Op₂)\n",
    "            @test_throws TypeError (Op₁ + Op₁) + (Op₂ + Op₂)\n",
    "            @test_throws TypeError (Op₁ + Op₁) - (Op₂ + Op₂)\n",
    "            @test_throws TypeError mul!(Array{Int64}(undef, 1), Op₁, [1.])\n",
    "            @test_throws TypeError mul!(Array{Int64}(undef, 1), Op₁ * Op₂, [1.])\n",
    "            @test_throws TypeError mul!(buffer, Op₁, [1])\n",
    "            @test_throws TypeError mul!(buffer, Op₁ * Op₂, [1])\n",
    "        end\n",
    "        @testset \"DimensionError\" begin\n",
    "            @test_throws DimensionMismatch Op₁ * [1.,2.]\n",
    "            @test_throws DimensionMismatch Op₁ * Op₃ * [1.,2.]\n",
    "            @test_throws DimensionMismatch (Op₁ + Op₃) * [1.,2.]\n",
    "            @test_throws DimensionMismatch (Op₁ - Op₃) * [1.,2.]\n",
    "            @test_throws DimensionMismatch Op₃ * Op₄\n",
    "            @test_throws DimensionMismatch (Op₄ + Op₃)\n",
    "            @test_throws DimensionMismatch (Op₄ - Op₃)\n",
    "            @test_throws DimensionMismatch (Op₄ + I)\n",
    "            @test_throws DimensionMismatch (Op₄ - I)\n",
    "            @test_throws DimensionMismatch (Op₄ + 3I)\n",
    "            @test_throws DimensionMismatch (Op₄ - 3I)\n",
    "            @test_throws DimensionMismatch mul!(buffer, Op₁, [1., 2.])\n",
    "            @test_throws DimensionMismatch mul!(buffer, Op₁ * Op₃, [1.,2.])\n",
    "            @test_throws DimensionMismatch mul!(Array{Float64}(undef, 2), Op₁, [1.])\n",
    "            @test_throws DimensionMismatch mul!(Array{Float64}(undef, 2), Op₁ * Op₃, [1.])\n",
    "        end\n",
    "    end\n",
    "end;"
   ]
  },
  {
   "cell_type": "code",
   "execution_count": 4,
   "metadata": {},
   "outputs": [
    {
     "name": "stdout",
     "output_type": "stream",
     "text": [
      "\u001b[37m\u001b[1mTest Summary: | \u001b[22m\u001b[39m\u001b[32m\u001b[1mPass  \u001b[22m\u001b[39m\u001b[36m\u001b[1mTotal\u001b[22m\u001b[39m\n",
      "Auxiliary.jl  | \u001b[32m   7  \u001b[39m\u001b[36m    7\u001b[39m\n"
     ]
    }
   ],
   "source": [
    "@testset \"normalizeExpression - Auxiliary.jl\" begin\n",
    "    @testset \"normalizeExpression\" begin\n",
    "        normE(str) = FunctionOperators.normalizeExpression(str)\n",
    "        @test normE(\"A * (B * C * D)' + (A * (B' * C * D)')'\") ==\n",
    "                normE(\"(B' * C * D) * A' + A * (B * C * D)'\") ==\n",
    "                \"B' * C * D * A' + A * D' * C' * B'\"\n",
    "        @test normE(\"A * (A + ((B -C) -E) + (e - f))\") ==\n",
    "                normE(\"A * (((B -E) -C)+A + (e - f))\") == \n",
    "                \"A * ((e - f) + A + ((B - E) - C))\"\n",
    "        @test normE(\"q + (A + ((B -C) -E) + (e - f)) * W\") ==\n",
    "                normE(\"(A + ((B -C) -E) + (e - f)) * W + q\") ==\n",
    "                \"q + (e * W - f * W) + A * W + ((B * W - E * W) - C * W)\"\n",
    "        @test normE(\"A * (A + ((B -C) -E) + (e - f)) * W\") ==\n",
    "                normE(\"A * (((B -E) -C) * W + A * W + (e - f) * W)\") ==\n",
    "                \"A * ((e * W - f * W) + A * W + ((B * W - E * W) - C * W))\"\n",
    "        @test normE(\"(A + B) * (C + D)\") == \"B * (D + C) + A * (D + C)\"\n",
    "        @test normE(\"(A + B) * (C * D)\") == normE(\"(A + B) * C * D\") ==\n",
    "                \"B * C * D + A * C * D\"\n",
    "        @test normE(\"(a + b) * (A + B) * (C + D)\") ==\n",
    "                \"b * (B * (D + C) + A * (D + C)) + a * (B * (D + C) + A * (D + C))\"\n",
    "    end\n",
    "end;"
   ]
  },
  {
   "cell_type": "code",
   "execution_count": 8,
   "metadata": {},
   "outputs": [
    {
     "name": "stdout",
     "output_type": "stream",
     "text": [
      "Number of generated operators: 752\n",
      "Pairwise matches between operators: 2293 (match means same functionality that checked for same result)\n",
      "\u001b[37m\u001b[1mTest Summary:                 | \u001b[22m\u001b[39m\u001b[32m\u001b[1mPass  \u001b[22m\u001b[39m\u001b[36m\u001b[1mTotal\u001b[22m\u001b[39m\n",
      "BuildCompTree.jl + getPlan.jl | \u001b[32m4161  \u001b[39m\u001b[36m 4161\u001b[39m\n"
     ]
    }
   ],
   "source": [
    "@testset \"BuildCompTree.jl + getPlan.jl\" begin\n",
    "    Op₁ = FunctionOperator{Float64}(\"Op₁\",\n",
    "        x -> x .^ 3, x -> cbrt.(x), (10,10), (10,10))\n",
    "    Op₂ = FunctionOperator{Float64}(\"Op₂\",\n",
    "        x -> x .+ 2, x -> x .- 2, (10,10), (10,10))\n",
    "    bOp₁ = FunctionOperator{Float64}(\"bOp₁\",\n",
    "        (b,x) -> b.=x.^3, (b,x) -> b.=cbrt.(x), (10,10), (10,10))\n",
    "    bOp₂ = FunctionOperator{Float64}(\"bOp₂\",\n",
    "        (b,x) -> b.=x.+2, (b,x) -> b.=x.-2, (10,10), (10,10))\n",
    "    w = reshape([1 2 3 4 5], 1, 1, 5)\n",
    "    Op₃ = FunctionOperator{Float64}(\"Op₃\",\n",
    "        x -> x .* w, x -> x[:,:,1], (10,10), (10,10,5))\n",
    "    Op₄ = FunctionOperator{Float64}(\"Op₄\",\n",
    "        x -> repeat(x, outer=(1,1,5)), x -> x[:,:,5], (10,10), (10, 10, 5))\n",
    "    bOp₃ = FunctionOperator{Float64}(\"bOp₃\",\n",
    "        (b,x) -> broadcast!(*, b, reshape(x, 10, 10, 1), w), (b,x) -> b .= x[:,:,1], (10,10), (10,10,5))\n",
    "    bOp₄ = FunctionOperator{Float64}(\"bOp₄\",\n",
    "        (b,x) -> b.=repeat(x, outer=(1,1,5)), (b,x) -> b .= x[:,:,5], (10,10), (10, 10, 5))\n",
    "    Op₅ = FunctionOperator{Float64}(\"Op₅\",\n",
    "        x -> -x .^ 3, x -> -cbrt.(x), (10,10,5), (10,10,5))\n",
    "    Op₆ = FunctionOperator{Float64}(\"Op₆\",\n",
    "        x -> x .+ 5, x -> x .- 5, (10,10,5), (10,10,5))\n",
    "    bOp₅ = FunctionOperator{Float64}(\"bOp₅\",\n",
    "        (b,x) -> b.=-x.^3, (b,x) -> b.=-cbrt.(x), (10,10,5), (10,10,5))\n",
    "    bOp₆ = FunctionOperator{Float64}(\"bOp₆\",\n",
    "        (b,x) -> b.=x.+5, (b,x) -> b.=x.-5, (10,10,5), (10,10,5))\n",
    "    @testset \"Fidelity (manually checked)\" begin\n",
    "        @test Op₁ * (ones(10,10)*2) == ones(10,10)*8\n",
    "        @test Op₁' * (ones(10,10)*8) == ones(10,10)*2\n",
    "        @test Op₃ * Op₁ * (ones(10,10)*2) == ones(10,10)*8 .* w\n",
    "        @test (Op₃ * Op₁)' * (ones(10,10)*8 .* w) == Op₁' * Op₃' * (ones(10,10)*8 .* w)\n",
    "        @test (Op₃ * Op₁)' * (ones(10,10)*8 .* w) == ones(10,10)*2\n",
    "        @test (Op₃ + Op₄) * (ones(10,10)*2) == Op₃ * (ones(10,10)*2) + Op₄ * (ones(10,10)*2)\n",
    "        @test (Op₃ - Op₄) * (ones(10,10)*2) == Op₃ * (ones(10,10)*2) - Op₄ * (ones(10,10)*2)\n",
    "        @test 3I * Op₃ * (ones(10,10)*2) == (ones(10,10)*2 .* w) * 3\n",
    "        @test Op₃ * 3I * (ones(10,10)*2) == ones(10,10)*6 .* w\n",
    "        @test (Op₃ * 3I)' * (ones(10,10)*2 .* w) == ones(10,10)*6\n",
    "        @test (Op₅ + 3I) * (ones(10,10,5)*2) == Op₅ * (ones(10,10,5)*2) + (ones(10,10,5)*6)\n",
    "        @test (Op₅ - 3I) * (ones(10,10,5)*2) == Op₅ * (ones(10,10,5)*2) - (ones(10,10,5)*6)\n",
    "        @test (3I + Op₅) * (ones(10,10,5)*2) == (ones(10,10,5)*6) + Op₅ * (ones(10,10,5)*2)\n",
    "        @test (3I - Op₅) * (ones(10,10,5)*2) == (ones(10,10,5)*6) - Op₅ * (ones(10,10,5)*2)\n",
    "    end\n",
    "    @testset \"Adjoint of addition/substraction\" begin\n",
    "        @test_throws ErrorException (Op₃ + Op₄)' * ones(10,10,5)\n",
    "        @test_throws ErrorException (Op₃ - Op₄)' * ones(10,10,5)\n",
    "    end\n",
    "    @testset \"Automated\" begin\n",
    "        @testset \"Combine\" begin\n",
    "            function combineMul(item1, item2)\n",
    "                if item1.op.inDims ≠ item2.op.outDims\n",
    "                    @test_throws DimensionMismatch item1.op * item2.op\n",
    "                    missing\n",
    "                else\n",
    "                    (op = item1.op * item2.op,\n",
    "                    forw = x -> (x₁ = item2.op * x; item1.op * x₁),\n",
    "                    backw = x -> (x₁ = item1.op' * x; item2.op' * x₁),\n",
    "                    hasAddOrSub = item1.hasAddOrSub || item2.hasAddOrSub)\n",
    "                end\n",
    "            end\n",
    "            function combineMulScalingRight(item1)\n",
    "                (op = item1.op * 5I,\n",
    "                forw = x -> (x₁ = 5 * x; item1.op * x₁),\n",
    "                backw = x -> (x₁ = item1.op' * x; 5 * x₁),\n",
    "                hasAddOrSub = item1.hasAddOrSub)\n",
    "            end\n",
    "            function combineMulScalingLeft(item1)\n",
    "                (op = 4I * item1.op,\n",
    "                forw = x -> (x₁ = item1.op * x; 4 * x₁),\n",
    "                backw = x -> (x₁ = 4 * x; item1.op' * x₁),\n",
    "                hasAddOrSub = item1.hasAddOrSub)\n",
    "            end\n",
    "            function combineAdd(item1, item2)\n",
    "                if item1.op.inDims ≠ item2.op.inDims || item1.op.outDims ≠ item2.op.outDims\n",
    "                    @test_throws DimensionMismatch item1.op + item2.op\n",
    "                    missing\n",
    "                else\n",
    "                    (op = item1.op + item2.op,\n",
    "                    forw = x -> (x₁ = item1.op * x; x₂ = item2.op * x; x₁ + x₂),\n",
    "                    backw = x -> throw(AssertionError(\"This should not be invoked\")),\n",
    "                    hasAddOrSub = true)\n",
    "                end\n",
    "            end\n",
    "            function combineAddScalingRight(item1)\n",
    "                if item1.op.inDims ≠ item1.op.outDims\n",
    "                    @test_throws DimensionMismatch item1.op + 6I\n",
    "                    missing\n",
    "                else\n",
    "                    (op = item1.op + 6I,\n",
    "                    forw = x -> (x₁ = item1.op * x; x₂ = 6 * x; x₁ + x₂),\n",
    "                    backw = x -> throw(AssertionError(\"This should not be invoked\")),\n",
    "                    hasAddOrSub = true)\n",
    "                end\n",
    "            end\n",
    "            function combineAddScalingLeft(item1)\n",
    "                if item1.op.inDims ≠ item1.op.outDims\n",
    "                    @test_throws DimensionMismatch 7I + item1.op\n",
    "                    missing\n",
    "                else\n",
    "                    (op = 7I + item1.op,\n",
    "                    forw = x -> (x₁ = 7 * x; x₂ = item1.op * x; x₁ + x₂),\n",
    "                    backw = x -> throw(AssertionError(\"This should not be invoked\")),\n",
    "                    hasAddOrSub = true)\n",
    "                end\n",
    "            end\n",
    "            function combineSub(item1, item2)\n",
    "                if item1.op.inDims ≠ item2.op.inDims || item1.op.outDims ≠ item2.op.outDims\n",
    "                    @test_throws DimensionMismatch item1.op - item2.op\n",
    "                    missing\n",
    "                else\n",
    "                    (op = item1.op - item2.op,\n",
    "                    forw = x -> (x₁ = item1.op * x; x₂ = item2.op * x; x₁ - x₂),\n",
    "                    backw = x -> throw(AssertionError(\"This should not be invoked\")),\n",
    "                    hasAddOrSub = true)\n",
    "                end\n",
    "            end\n",
    "            function combineSubScalingRight(item1)\n",
    "                if item1.op.inDims ≠ item1.op.outDims\n",
    "                    @test_throws DimensionMismatch item1.op - 3I\n",
    "                    missing\n",
    "                else\n",
    "                    (op = item1.op - 3I,\n",
    "                    forw = x -> (x₁ = item1.op * x; x₂ = 3 * x; x₁ - x₂),\n",
    "                    backw = x -> throw(AssertionError(\"This should not be invoked\")),\n",
    "                    hasAddOrSub = true)\n",
    "                end\n",
    "            end\n",
    "            function combineSubScalingLeft(item1)\n",
    "                if item1.op.inDims ≠ item1.op.outDims\n",
    "                    @test_throws DimensionMismatch 11I - item1.op\n",
    "                    missing\n",
    "                else\n",
    "                    (op = 11I - item1.op,\n",
    "                    forw = x -> (x₁ = 11 * x; x₂ = item1.op * x; x₁ - x₂),\n",
    "                    backw = x -> throw(AssertionError(\"This should not be invoked\")),\n",
    "                    hasAddOrSub = true)\n",
    "                end\n",
    "            end\n",
    "            function combineAdjoint(item1)\n",
    "                if item1.hasAddOrSub\n",
    "                    @test_throws ErrorException item1.op'\n",
    "                    missing\n",
    "                else\n",
    "                    (op = item1.op',\n",
    "                    forw = item1.backw,\n",
    "                    backw = item1.forw,\n",
    "                    hasAddOrSub = false)\n",
    "                end\n",
    "            end\n",
    "            function allTypeOfCombinationOfOne(item1)\n",
    "                [combineMulScalingRight(item1), combineMulScalingLeft(item1),\n",
    "                 combineAddScalingRight(item1), combineAddScalingLeft(item1),\n",
    "                 combineSubScalingRight(item1), combineSubScalingLeft(item1),\n",
    "                 combineAdjoint(item1)]\n",
    "            end\n",
    "            function allTypeOfCombinationOfTwo(item1, item2)\n",
    "                [combineMul(item1, item2), combineAdd(item1, item2), combineSub(item1, item2)]\n",
    "            end\n",
    "            function Cartesian_product_with_itself(list)\n",
    "                new_list1 = [allTypeOfCombinationOfOne(item1) for item1 in list]\n",
    "                new_list2 = [allTypeOfCombinationOfTwo(item1, item2)\n",
    "                    for item1 in list, item2 in list]\n",
    "                collect(skipmissing(vcat(list, new_list1..., new_list2...)))\n",
    "            end\n",
    "            Ops = [Op₁, bOp₁, Op₃, bOp₃, Op₅, bOp₅]\n",
    "            global list\n",
    "            list = [(op = op, forw = x -> op * x, backw = x -> op' * x, hasAddOrSub = false)\n",
    "                for op in Ops]\n",
    "            list = Cartesian_product_with_itself(list)\n",
    "            # it would be nice to repeat this step, but it would be never completed...\n",
    "            #list = Cartesian_product_with_itself(list)\n",
    "            # instead:\n",
    "            function combine_special_cases(list)\n",
    "                new_list = []\n",
    "                push!(new_list, [combineMul(item1, list[1]) for item1 in list]...)\n",
    "                push!(new_list, [combineMul(list[1], item1) for item1 in list]...)\n",
    "                push!(new_list, [combineMul(item1, list[2]) for item1 in list]...)\n",
    "                push!(new_list, [combineMul(list[2], item1) for item1 in list]...)\n",
    "                push!(new_list, [combineMul(item1, list[3]) for item1 in list]...)\n",
    "                push!(new_list, [combineMul(list[3], item1) for item1 in list]...)\n",
    "                push!(new_list, [combineMul(item1, list[4]) for item1 in list]...)\n",
    "                push!(new_list, [combineMul(list[4], item1) for item1 in list]...)\n",
    "                spec₁ = combineAdd(list[1], list[2])\n",
    "                push!(new_list, [combineMul(item1, spec₁) for item1 in list]...)\n",
    "                push!(new_list, [combineAdd(item1, spec₁) for item1 in list]...)\n",
    "                push!(new_list, [combineMul(spec₁, item1) for item1 in list]...)\n",
    "                spec₂ = combineAdd(list[2], list[1])\n",
    "                push!(new_list, [combineMul(item1, spec₂) for item1 in list]...)\n",
    "                push!(new_list, [combineSub(item1, spec₁) for item1 in list]...)\n",
    "                push!(new_list, [combineMul(spec₂, item1) for item1 in list]...)\n",
    "                list = collect(skipmissing(vcat(list, new_list...)))\n",
    "                new_list = []\n",
    "                push!(new_list, [combineAdjoint(item1) for item1 in list]...)\n",
    "                collect(skipmissing(vcat(list, new_list...)))\n",
    "            end\n",
    "            list = combine_special_cases(list)\n",
    "            println(\"Number of generated operators: \", length(list))\n",
    "        end\n",
    "        @testset \"Fidelity\" begin\n",
    "            global list\n",
    "            data₁ = [sin(i+j) for i=1:10, j=1:10]\n",
    "            data₂ = [sin(i+j+k) for i=1:10, j=1:10, k=1:5]\n",
    "            getName(op) = op isa FunctionOperator && op.adjoint ? op.name*\"'\" : op.name\n",
    "            normName(str) = replace(FunctionOperators.normalizeExpression(getName(str)), \"b\" => \"\")\n",
    "            results = [(name = getName(op.op),\n",
    "                        normalized_name = normName(op.op),\n",
    "                        mult_res = op.op * (op.op.inDims == size(data₁) ? data₁ : data₂),\n",
    "                        forw_res = op.forw(op.op.inDims == size(data₁) ? data₁ : data₂),\n",
    "                        plan = op.op isa FunctionOperator ? op.op.name : op.op.plan_string)\n",
    "                            for op in list]\n",
    "            for res in results\n",
    "                res.mult_res ≠ res.forw_res && println(res.name, \", \", res.plan)\n",
    "                @test res.mult_res == res.forw_res\n",
    "            end\n",
    "            counter = 0\n",
    "            for (i,res1) in enumerate(results), (j,res2) in enumerate(results)\n",
    "                i >= j && continue\n",
    "                if res1.normalized_name == res2.normalized_name\n",
    "                    counter += 1\n",
    "                    res1.mult_res ≠ res2.mult_res && println(i, \", \", res1.name, \", \", res1.plan, \"\\n\", j, res2.name, \", \", res2.plan)\n",
    "                    @test res1.mult_res == res2.mult_res\n",
    "                end\n",
    "            end\n",
    "            println(\"Pairwise matches between operators: \", counter, \" (match means same functionality that checked for same result)\")\n",
    "        end\n",
    "    end\n",
    "end;"
   ]
  },
  {
   "cell_type": "code",
   "execution_count": 1,
   "metadata": {},
   "outputs": [
    {
     "name": "stderr",
     "output_type": "stream",
     "text": [
      "┌ Info: Precompiling FunctionOperators [98ce4118-165c-488a-9b71-2bb5aff4e594]\n",
      "└ @ Base loading.jl:1242\n"
     ]
    }
   ],
   "source": [
    "using FunctionOperators\n",
    "using LinearAlgebra\n",
    "using Test"
   ]
  },
  {
   "cell_type": "code",
   "execution_count": 3,
   "metadata": {},
   "outputs": [
    {
     "name": "stdout",
     "output_type": "stream",
     "text": [
      "\u001b[37m\u001b[1mTest Summary:        | \u001b[22m\u001b[39m\u001b[32m\u001b[1mPass  \u001b[22m\u001b[39m\u001b[36m\u001b[1mTotal\u001b[22m\u001b[39m\n",
      "Macro - Auxiliary.jl | \u001b[32m  22  \u001b[39m\u001b[36m   22\u001b[39m\n"
     ]
    }
   ],
   "source": [
    "@testset \"Macro - Auxiliary.jl\" begin\n",
    "    @testset \"🔝 marker\" begin\n",
    "        result, var1, var2, var3 = rand(4)\n",
    "        @♻ for i=1:5\n",
    "            result = 🔝(var1 + var2) * var3\n",
    "        end\n",
    "        @test 🔝_1 == var1 + var2\n",
    "        @test result == (var1 + var2) * var3\n",
    "    end\n",
    "    @testset \"🔃 marker\" begin\n",
    "        result, var1, var2, var3 = rand(3,3), rand(3,3), rand(3,3), rand(3,3)\n",
    "        @♻ for i=1:5\n",
    "            var2 .= rand(3,3)\n",
    "            result .= var1 * 🔃(var2 + var3)\n",
    "            @test 🔃_1 == var2 + var3\n",
    "        end\n",
    "        @test result == var1 * (var2 + var3)\n",
    "        @♻ for i=1:5\n",
    "            result = var1 * 🔃(var2 * var3)\n",
    "            @test 🔃_1 == var2 * var3\n",
    "        end\n",
    "        @test result == var1 * (var2 * var3)\n",
    "    end\n",
    "    @testset \"@🔃 marker\" begin\n",
    "        result, var1, var2 = rand(3,3), rand(3,3), rand(3,3)\n",
    "        @♻ for i=1:5\n",
    "            @🔃 result = var1 * var2\n",
    "        end\n",
    "        @test result == var1 * var2\n",
    "    end\n",
    "    @testset \"nesting\" begin\n",
    "        result, var1, var2, var3 = rand(3,3), rand(3,3), rand(3,3), rand(3,3)\n",
    "        @♻ for i=1:5\n",
    "            @🔃 result = 🔃(🔝(var1 + var2) * var3)\n",
    "            @test 🔃_1 == (var1 + var2) * var3\n",
    "        end\n",
    "        @test 🔝_1 == var1 + var2\n",
    "        @test result == (var1 + var2) * var3\n",
    "    end\n",
    "end;"
   ]
  },
  {
   "cell_type": "code",
   "execution_count": 14,
   "metadata": {},
   "outputs": [
    {
     "name": "stdout",
     "output_type": "stream",
     "text": [
      "\u001b[37m\u001b[1mTest Summary: | \u001b[22m\u001b[39m\u001b[32m\u001b[1mPass  \u001b[22m\u001b[39m\u001b[36m\u001b[1mTotal\u001b[22m\u001b[39m\n",
      "Performance   | \u001b[32m   1  \u001b[39m\u001b[36m    1\u001b[39m\n"
     ]
    },
    {
     "data": {
      "text/plain": [
       "Test.DefaultTestSet(\"Performance\", Any[], 1, false)"
      ]
     },
     "execution_count": 14,
     "metadata": {},
     "output_type": "execute_result"
    }
   ],
   "source": [
    "@testset \"Performance\" begin\n",
    "    data = [sin(i+j+k)^2 for i=1:300, j=1:300, k=1:50]\n",
    "    bOp₁ = FunctionOperator{Float64}(name=\"Op₁\",\n",
    "        forw = (buffer, x) -> buffer .= x.^2,\n",
    "        backw = (buffer, x) -> broadcast!(sqrt, buffer, x),\n",
    "        inDims = (300, 300, 50), outDims = (300, 300, 50))\n",
    "    weights = [sin((i-j)*l) + 1 for i=1:300, j=1:300, k=1:50, l=1:10]\n",
    "    bOp₂ = FunctionOperator{Float64}(name=\"Op₂\",\n",
    "        forw = (buffer,x) -> buffer .= reshape(x, 300, 300, 50, 1) .* weights,\n",
    "        backw = (buffer,x) -> dropdims(sum!(reshape(buffer, 300, 300, 50, 1), x ./ weights), dims=4),\n",
    "        inDims=(300, 300, 50), outDims=(300, 300, 50, 10))\n",
    "    combined = bOp₂ * (bOp₁ - 2.5*I) * bOp₁'\n",
    "    combined * data\n",
    "    output = Array{Float64}(undef, 300, 300, 50, 10)\n",
    "    function getAggregatedFunction()\n",
    "        weights = [sin((i-j)*l) + 1 for i=1:300, j=1:300, k=1:50, l=1:10]\n",
    "        buffer2 = Array{Float64}(undef, 300, 300, 50)\n",
    "        buffer3 = Array{Float64}(undef, 300, 300, 50)\n",
    "        buffer4 = Array{Float64}(undef, 300, 300, 50)\n",
    "        (buffer, x) -> begin\n",
    "            broadcast!(sqrt, buffer2, x)  # Of course, this two lines can be optimized to\n",
    "            buffer3 .= buffer2 .^ 2       # (√x)^2 = |x|, but let's now avoid this fact\n",
    "            broadcast!(-, buffer3, buffer3, broadcast!(*, buffer4, 2.5, buffer2))\n",
    "            buffer .= reshape(buffer3, 300, 300, 50, 1) .* weights\n",
    "        end\n",
    "    end\n",
    "    aggrFun = getAggregatedFunction()\n",
    "    t1 = @belapsed mul!(output, combined, data)\n",
    "    t2 = @belapsed aggrFun(output, data)\n",
    "    @test t1 / t2 ≈ 1 atol=0.05\n",
    "end"
   ]
  },
  {
   "cell_type": "code",
   "execution_count": null,
   "metadata": {},
   "outputs": [],
   "source": []
  },
  {
   "cell_type": "code",
   "execution_count": 6,
   "metadata": {},
   "outputs": [],
   "source": []
  },
  {
   "cell_type": "code",
   "execution_count": 1,
   "metadata": {},
   "outputs": [
    {
     "name": "stderr",
     "output_type": "stream",
     "text": [
      "┌ Info: Recompiling stale cache file /home/hakkelt/.julia/compiled/v1.2/FunctionOperators/2tgjG.ji for FunctionOperators [98ce4118-165c-488a-9b71-2bb5aff4e594]\n",
      "└ @ Base loading.jl:1240\n"
     ]
    },
    {
     "data": {
      "text/plain": [
       "FunctionOperator with eltype Float64\n",
       "    Name: Op₆\n",
       "    Input dimensions: (10, 10, 5)\n",
       "    Output dimensions: (10, 10, 5)"
      ]
     },
     "execution_count": 1,
     "metadata": {},
     "output_type": "execute_result"
    }
   ],
   "source": [
    "Op₁ = FunctionOperator{Float64}(\"Op₁\",\n",
    "    x -> x .^ 3, x -> cbrt.(x), (10,10), (10,10))\n",
    "Op₂ = FunctionOperator{Float64}(\"Op₂\",\n",
    "    x -> x .+ 2, x -> x .- 2, (10,10), (10,10))\n",
    "bOp₁ = FunctionOperator{Float64}(\"Op₁\",\n",
    "    (b,x) -> b.=x.^3, (b,x) -> b.=cbrt.(x), (10,10), (10,10))\n",
    "bOp₂ = FunctionOperator{Float64}(\"Op₂\",\n",
    "    (b,x) -> b.=x.+2, (b,x) -> b.=x.-2, (10,10), (10,10))\n",
    "w = reshape([1 2 3 4 5], 1, 1, 5)\n",
    "Op₃ = FunctionOperator{Float64}(\"Op₃\",\n",
    "    x -> x .* w, x -> x[:,:,1], (10,10), (10,10,5))\n",
    "Op₄ = FunctionOperator{Float64}(\"Op₄\",\n",
    "    x -> repeat(x, outer=(1,1,5)), x -> x[:,:,5], (10,10), (10, 10, 5))\n",
    "bOp₃ = FunctionOperator{Float64}(\"Op₃\",\n",
    "    (b,x) -> broadcast!(*, b, x, w), (b,x) -> b .= x[:,:,1], (10,10), (10,10,5))\n",
    "bOp₄ = FunctionOperator{Float64}(\"Op₄\",\n",
    "    (b,x) -> b.=repeat(x, outer=(1,1,5)), (b,x) -> b .= x[:,:,5], (10,10), (10, 10, 5))\n",
    "Op₅ = FunctionOperator{Float64}(\"Op₅\",\n",
    "    x -> -x .^ 3, x -> -cbrt.(x), (10,10,5), (10,10,5))\n",
    "Op₆ = FunctionOperator{Float64}(\"Op₆\",\n",
    "    x -> x .+ 5, x -> x .- 5, (10,10,5), (10,10,5))\n",
    "bOp₅ = FunctionOperator{Float64}(\"Op₅\",\n",
    "    (b,x) -> b.=-x.^3, (b,x) -> b.=-cbrt.(x), (10,10,5), (10,10,5))\n",
    "bOp₆ = FunctionOperator{Float64}(\"Op₆\",\n",
    "    (b,x) -> b.=x.+5, (b,x) -> b.=x.-5, (10,10,5), (10,10,5))"
   ]
  },
  {
   "cell_type": "code",
   "execution_count": 7,
   "metadata": {},
   "outputs": [
    {
     "data": {
      "text/plain": [
       "FunctionOperatorComposite with eltype Float64\n",
       "    Name: ((Op₁ - Op₁) + (Op₁ + Op₁))\n",
       "    Input dimensions: (10, 10)\n",
       "    Output dimensions: (10, 10)\n",
       "    Plan: no plan"
      ]
     },
     "execution_count": 7,
     "metadata": {},
     "output_type": "execute_result"
    }
   ],
   "source": [
    "combined = ((Op₁ - Op₁) + (Op₁ + bOp₁))"
   ]
  },
  {
   "cell_type": "code",
   "execution_count": 8,
   "metadata": {},
   "outputs": [
    {
     "name": "stdout",
     "output_type": "stream",
     "text": [
      "Allocation of buffer1, size: (10, 10)\n",
      "Allocation of buffer2, size: (10, 10)\n",
      "Allocation of buffer3, size: (10, 10)\n",
      "Plan calculated: buffer1 .= (buffer2 .= x; broadcast!(+, buffer1, (buffer3 .= buffer2; broadcast!(-, buffer1, Op₁.forw(buffer3), Op₁.forw(buffer3))), (buffer3 .= buffer2; broadcast!(+, buffer1, Op₁.forw(buffer3), Op₁.forw(buffer1, buffer3)))))\n"
     ]
    }
   ],
   "source": [
    "FO_settings.verbose = true\n",
    "combined * ones(10, 10);"
   ]
  },
  {
   "cell_type": "code",
   "execution_count": 4,
   "metadata": {},
   "outputs": [
    {
     "data": {
      "text/plain": [
       "FunctionOperatorComposite with eltype Float64\n",
       "    Name: Op₃ * (Op₁ + (6*I))\n",
       "    Input dimensions: (10, 10)\n",
       "    Output dimensions: (10, 10, 5)\n",
       "    Plan: Op₃.forw((buffer2 .= x; broadcast!(+, buffer3, Op₁.forw(buffer3, buffer2), broadcast!(*, buffer2, 6.0, buffer2))))"
      ]
     },
     "execution_count": 4,
     "metadata": {},
     "output_type": "execute_result"
    }
   ],
   "source": [
    "combined"
   ]
  },
  {
   "cell_type": "code",
   "execution_count": 5,
   "metadata": {},
   "outputs": [
    {
     "data": {
      "text/plain": [
       "false"
      ]
     },
     "execution_count": 5,
     "metadata": {},
     "output_type": "execute_result"
    }
   ],
   "source": [
    "FO_settings.verbose = false"
   ]
  },
  {
   "cell_type": "code",
   "execution_count": null,
   "metadata": {},
   "outputs": [],
   "source": []
  }
 ],
 "metadata": {
  "kernelspec": {
   "display_name": "Julia 1.2.0",
   "language": "julia",
   "name": "julia-1.2"
  },
  "language_info": {
   "file_extension": ".jl",
   "mimetype": "application/julia",
   "name": "julia",
   "version": "1.2.0"
  }
 },
 "nbformat": 4,
 "nbformat_minor": 2
}
